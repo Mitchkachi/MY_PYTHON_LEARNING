{
 "cells": [
  {
   "cell_type": "markdown",
   "id": "d0d5c37e",
   "metadata": {},
   "source": [
    "# Importing OS to be able to access my folder with multiple files"
   ]
  },
  {
   "cell_type": "code",
   "execution_count": 36,
   "id": "d46657ea",
   "metadata": {},
   "outputs": [
    {
     "name": "stdout",
     "output_type": "stream",
     "text": [
      "['chicago.csv', 'new_york_city.csv', 'washington.csv']\n"
     ]
    }
   ],
   "source": [
    "import os\n",
    "import pandas as pd\n",
    "file = os.listdir(\"Data\")\n",
    "print(file)"
   ]
  },
  {
   "cell_type": "markdown",
   "id": "173dff1b",
   "metadata": {},
   "source": [
    "# reading multiple csv files as dataframes or dictionaries"
   ]
  },
  {
   "cell_type": "code",
   "execution_count": 28,
   "id": "c15f53bb",
   "metadata": {},
   "outputs": [],
   "source": [
    "city_data = { 'chicago': \"C:/Users/User/Desktop/My_python_folder/Data/chicago.csv\",\n",
    "              'new_york_city': \"C:/Users/User/Desktop/My_python_folder/Data/new_york_city.csv\",\n",
    "              'washington': \"C:/Users/User/Desktop/My_python_folder/Data/washington.csv\" }"
   ]
  },
  {
   "cell_type": "markdown",
   "id": "82c4e699",
   "metadata": {},
   "source": [
    "# defining functions"
   ]
  },
  {
   "cell_type": "code",
   "execution_count": 31,
   "id": "d03fec60",
   "metadata": {},
   "outputs": [
    {
     "name": "stdout",
     "output_type": "stream",
     "text": [
      "enter city: chicago\n"
     ]
    },
    {
     "data": {
      "text/html": [
       "<div>\n",
       "<style scoped>\n",
       "    .dataframe tbody tr th:only-of-type {\n",
       "        vertical-align: middle;\n",
       "    }\n",
       "\n",
       "    .dataframe tbody tr th {\n",
       "        vertical-align: top;\n",
       "    }\n",
       "\n",
       "    .dataframe thead th {\n",
       "        text-align: right;\n",
       "    }\n",
       "</style>\n",
       "<table border=\"1\" class=\"dataframe\">\n",
       "  <thead>\n",
       "    <tr style=\"text-align: right;\">\n",
       "      <th></th>\n",
       "      <th>Unnamed: 0</th>\n",
       "      <th>Start Time</th>\n",
       "      <th>End Time</th>\n",
       "      <th>Trip Duration</th>\n",
       "      <th>Start Station</th>\n",
       "      <th>End Station</th>\n",
       "      <th>User Type</th>\n",
       "      <th>Gender</th>\n",
       "      <th>Birth Year</th>\n",
       "    </tr>\n",
       "  </thead>\n",
       "  <tbody>\n",
       "    <tr>\n",
       "      <th>0</th>\n",
       "      <td>1423854</td>\n",
       "      <td>2017-06-23 15:09:32</td>\n",
       "      <td>2017-06-23 15:14:53</td>\n",
       "      <td>321</td>\n",
       "      <td>Wood St &amp; Hubbard St</td>\n",
       "      <td>Damen Ave &amp; Chicago Ave</td>\n",
       "      <td>Subscriber</td>\n",
       "      <td>Male</td>\n",
       "      <td>1992.0</td>\n",
       "    </tr>\n",
       "    <tr>\n",
       "      <th>1</th>\n",
       "      <td>955915</td>\n",
       "      <td>2017-05-25 18:19:03</td>\n",
       "      <td>2017-05-25 18:45:53</td>\n",
       "      <td>1610</td>\n",
       "      <td>Theater on the Lake</td>\n",
       "      <td>Sheffield Ave &amp; Waveland Ave</td>\n",
       "      <td>Subscriber</td>\n",
       "      <td>Female</td>\n",
       "      <td>1992.0</td>\n",
       "    </tr>\n",
       "    <tr>\n",
       "      <th>2</th>\n",
       "      <td>9031</td>\n",
       "      <td>2017-01-04 08:27:49</td>\n",
       "      <td>2017-01-04 08:34:45</td>\n",
       "      <td>416</td>\n",
       "      <td>May St &amp; Taylor St</td>\n",
       "      <td>Wood St &amp; Taylor St</td>\n",
       "      <td>Subscriber</td>\n",
       "      <td>Male</td>\n",
       "      <td>1981.0</td>\n",
       "    </tr>\n",
       "  </tbody>\n",
       "</table>\n",
       "</div>"
      ],
      "text/plain": [
       "   Unnamed: 0           Start Time             End Time  Trip Duration  \\\n",
       "0     1423854  2017-06-23 15:09:32  2017-06-23 15:14:53            321   \n",
       "1      955915  2017-05-25 18:19:03  2017-05-25 18:45:53           1610   \n",
       "2        9031  2017-01-04 08:27:49  2017-01-04 08:34:45            416   \n",
       "\n",
       "          Start Station                   End Station   User Type  Gender  \\\n",
       "0  Wood St & Hubbard St       Damen Ave & Chicago Ave  Subscriber    Male   \n",
       "1   Theater on the Lake  Sheffield Ave & Waveland Ave  Subscriber  Female   \n",
       "2    May St & Taylor St           Wood St & Taylor St  Subscriber    Male   \n",
       "\n",
       "   Birth Year  \n",
       "0      1992.0  \n",
       "1      1992.0  \n",
       "2      1981.0  "
      ]
     },
     "execution_count": 31,
     "metadata": {},
     "output_type": "execute_result"
    }
   ],
   "source": [
    "# this can only take one city at a time\n",
    "city = input(\"enter city: \").lower()\n",
    "df = pd.read_csv(city_data[city])\n",
    "df.head(3)"
   ]
  },
  {
   "cell_type": "code",
   "execution_count": 86,
   "id": "29562deb",
   "metadata": {},
   "outputs": [
    {
     "name": "stdout",
     "output_type": "stream",
     "text": [
      "enter city: chicago\n"
     ]
    },
    {
     "data": {
      "text/html": [
       "<div>\n",
       "<style scoped>\n",
       "    .dataframe tbody tr th:only-of-type {\n",
       "        vertical-align: middle;\n",
       "    }\n",
       "\n",
       "    .dataframe tbody tr th {\n",
       "        vertical-align: top;\n",
       "    }\n",
       "\n",
       "    .dataframe thead th {\n",
       "        text-align: right;\n",
       "    }\n",
       "</style>\n",
       "<table border=\"1\" class=\"dataframe\">\n",
       "  <thead>\n",
       "    <tr style=\"text-align: right;\">\n",
       "      <th></th>\n",
       "      <th>ID</th>\n",
       "      <th>Trip Duration</th>\n",
       "      <th>Start Station</th>\n",
       "      <th>End Station</th>\n",
       "      <th>User Type</th>\n",
       "      <th>Gender</th>\n",
       "      <th>Birth Year</th>\n",
       "      <th>Start_Date</th>\n",
       "      <th>Start_Time</th>\n",
       "      <th>End_Date</th>\n",
       "      <th>End_Time</th>\n",
       "      <th>Day</th>\n",
       "      <th>Month</th>\n",
       "      <th>Year</th>\n",
       "    </tr>\n",
       "  </thead>\n",
       "  <tbody>\n",
       "    <tr>\n",
       "      <th>0</th>\n",
       "      <td>1423854</td>\n",
       "      <td>321</td>\n",
       "      <td>Wood St &amp; Hubbard St</td>\n",
       "      <td>Damen Ave &amp; Chicago Ave</td>\n",
       "      <td>Subscriber</td>\n",
       "      <td>Male</td>\n",
       "      <td>1992.0</td>\n",
       "      <td>2017-06-23</td>\n",
       "      <td>15:09:32</td>\n",
       "      <td>2017-06-23</td>\n",
       "      <td>15:14:53</td>\n",
       "      <td>Friday</td>\n",
       "      <td>June</td>\n",
       "      <td>2017</td>\n",
       "    </tr>\n",
       "    <tr>\n",
       "      <th>1</th>\n",
       "      <td>955915</td>\n",
       "      <td>1610</td>\n",
       "      <td>Theater on the Lake</td>\n",
       "      <td>Sheffield Ave &amp; Waveland Ave</td>\n",
       "      <td>Subscriber</td>\n",
       "      <td>Female</td>\n",
       "      <td>1992.0</td>\n",
       "      <td>2017-05-25</td>\n",
       "      <td>18:19:03</td>\n",
       "      <td>2017-05-25</td>\n",
       "      <td>18:45:53</td>\n",
       "      <td>Thursday</td>\n",
       "      <td>May</td>\n",
       "      <td>2017</td>\n",
       "    </tr>\n",
       "    <tr>\n",
       "      <th>2</th>\n",
       "      <td>9031</td>\n",
       "      <td>416</td>\n",
       "      <td>May St &amp; Taylor St</td>\n",
       "      <td>Wood St &amp; Taylor St</td>\n",
       "      <td>Subscriber</td>\n",
       "      <td>Male</td>\n",
       "      <td>1981.0</td>\n",
       "      <td>2017-01-04</td>\n",
       "      <td>08:27:49</td>\n",
       "      <td>2017-01-04</td>\n",
       "      <td>08:34:45</td>\n",
       "      <td>Wednesday</td>\n",
       "      <td>January</td>\n",
       "      <td>2017</td>\n",
       "    </tr>\n",
       "    <tr>\n",
       "      <th>3</th>\n",
       "      <td>304487</td>\n",
       "      <td>350</td>\n",
       "      <td>Christiana Ave &amp; Lawrence Ave</td>\n",
       "      <td>St. Louis Ave &amp; Balmoral Ave</td>\n",
       "      <td>Subscriber</td>\n",
       "      <td>Male</td>\n",
       "      <td>1986.0</td>\n",
       "      <td>2017-03-06</td>\n",
       "      <td>13:49:38</td>\n",
       "      <td>2017-03-06</td>\n",
       "      <td>13:55:28</td>\n",
       "      <td>Monday</td>\n",
       "      <td>March</td>\n",
       "      <td>2017</td>\n",
       "    </tr>\n",
       "    <tr>\n",
       "      <th>4</th>\n",
       "      <td>45207</td>\n",
       "      <td>534</td>\n",
       "      <td>Clark St &amp; Randolph St</td>\n",
       "      <td>Desplaines St &amp; Jackson Blvd</td>\n",
       "      <td>Subscriber</td>\n",
       "      <td>Male</td>\n",
       "      <td>1975.0</td>\n",
       "      <td>2017-01-17</td>\n",
       "      <td>14:53:07</td>\n",
       "      <td>2017-01-17</td>\n",
       "      <td>15:02:01</td>\n",
       "      <td>Tuesday</td>\n",
       "      <td>January</td>\n",
       "      <td>2017</td>\n",
       "    </tr>\n",
       "    <tr>\n",
       "      <th>...</th>\n",
       "      <td>...</td>\n",
       "      <td>...</td>\n",
       "      <td>...</td>\n",
       "      <td>...</td>\n",
       "      <td>...</td>\n",
       "      <td>...</td>\n",
       "      <td>...</td>\n",
       "      <td>...</td>\n",
       "      <td>...</td>\n",
       "      <td>...</td>\n",
       "      <td>...</td>\n",
       "      <td>...</td>\n",
       "      <td>...</td>\n",
       "      <td>...</td>\n",
       "    </tr>\n",
       "    <tr>\n",
       "      <th>299995</th>\n",
       "      <td>64825</td>\n",
       "      <td>590</td>\n",
       "      <td>Orleans St &amp; Elm St (*)</td>\n",
       "      <td>Sheffield Ave &amp; Webster Ave</td>\n",
       "      <td>Subscriber</td>\n",
       "      <td>Male</td>\n",
       "      <td>1965.0</td>\n",
       "      <td>2017-01-21</td>\n",
       "      <td>13:18:00</td>\n",
       "      <td>2017-01-21</td>\n",
       "      <td>13:27:50</td>\n",
       "      <td>Saturday</td>\n",
       "      <td>January</td>\n",
       "      <td>2017</td>\n",
       "    </tr>\n",
       "    <tr>\n",
       "      <th>299996</th>\n",
       "      <td>695993</td>\n",
       "      <td>1139</td>\n",
       "      <td>Ashland Ave &amp; Blackhawk St</td>\n",
       "      <td>Clark St &amp; Elm St</td>\n",
       "      <td>Customer</td>\n",
       "      <td>NaN</td>\n",
       "      <td>NaN</td>\n",
       "      <td>2017-04-28</td>\n",
       "      <td>19:32:19</td>\n",
       "      <td>2017-04-28</td>\n",
       "      <td>19:51:18</td>\n",
       "      <td>Friday</td>\n",
       "      <td>April</td>\n",
       "      <td>2017</td>\n",
       "    </tr>\n",
       "    <tr>\n",
       "      <th>299997</th>\n",
       "      <td>159685</td>\n",
       "      <td>1368</td>\n",
       "      <td>Ravenswood Ave &amp; Lawrence Ave</td>\n",
       "      <td>Stockton Dr &amp; Wrightwood Ave</td>\n",
       "      <td>Subscriber</td>\n",
       "      <td>Female</td>\n",
       "      <td>1988.0</td>\n",
       "      <td>2017-02-12</td>\n",
       "      <td>09:59:01</td>\n",
       "      <td>2017-02-12</td>\n",
       "      <td>10:21:49</td>\n",
       "      <td>Sunday</td>\n",
       "      <td>February</td>\n",
       "      <td>2017</td>\n",
       "    </tr>\n",
       "    <tr>\n",
       "      <th>299998</th>\n",
       "      <td>564681</td>\n",
       "      <td>705</td>\n",
       "      <td>Sheffield Ave &amp; Willow St</td>\n",
       "      <td>Clark St &amp; Chicago Ave</td>\n",
       "      <td>Customer</td>\n",
       "      <td>NaN</td>\n",
       "      <td>NaN</td>\n",
       "      <td>2017-04-16</td>\n",
       "      <td>17:07:15</td>\n",
       "      <td>2017-04-16</td>\n",
       "      <td>17:19:00</td>\n",
       "      <td>Sunday</td>\n",
       "      <td>April</td>\n",
       "      <td>2017</td>\n",
       "    </tr>\n",
       "    <tr>\n",
       "      <th>299999</th>\n",
       "      <td>1021247</td>\n",
       "      <td>1028</td>\n",
       "      <td>Wacker Dr &amp; Washington St</td>\n",
       "      <td>Damen Ave &amp; Division St</td>\n",
       "      <td>Subscriber</td>\n",
       "      <td>Male</td>\n",
       "      <td>1984.0</td>\n",
       "      <td>2017-05-30</td>\n",
       "      <td>12:38:28</td>\n",
       "      <td>2017-05-30</td>\n",
       "      <td>12:55:36</td>\n",
       "      <td>Tuesday</td>\n",
       "      <td>May</td>\n",
       "      <td>2017</td>\n",
       "    </tr>\n",
       "  </tbody>\n",
       "</table>\n",
       "<p>300000 rows × 14 columns</p>\n",
       "</div>"
      ],
      "text/plain": [
       "             ID  Trip Duration                  Start Station  \\\n",
       "0       1423854            321           Wood St & Hubbard St   \n",
       "1        955915           1610            Theater on the Lake   \n",
       "2          9031            416             May St & Taylor St   \n",
       "3        304487            350  Christiana Ave & Lawrence Ave   \n",
       "4         45207            534         Clark St & Randolph St   \n",
       "...         ...            ...                            ...   \n",
       "299995    64825            590        Orleans St & Elm St (*)   \n",
       "299996   695993           1139     Ashland Ave & Blackhawk St   \n",
       "299997   159685           1368  Ravenswood Ave & Lawrence Ave   \n",
       "299998   564681            705      Sheffield Ave & Willow St   \n",
       "299999  1021247           1028      Wacker Dr & Washington St   \n",
       "\n",
       "                         End Station   User Type  Gender  Birth Year  \\\n",
       "0            Damen Ave & Chicago Ave  Subscriber    Male      1992.0   \n",
       "1       Sheffield Ave & Waveland Ave  Subscriber  Female      1992.0   \n",
       "2                Wood St & Taylor St  Subscriber    Male      1981.0   \n",
       "3       St. Louis Ave & Balmoral Ave  Subscriber    Male      1986.0   \n",
       "4       Desplaines St & Jackson Blvd  Subscriber    Male      1975.0   \n",
       "...                              ...         ...     ...         ...   \n",
       "299995   Sheffield Ave & Webster Ave  Subscriber    Male      1965.0   \n",
       "299996             Clark St & Elm St    Customer     NaN         NaN   \n",
       "299997  Stockton Dr & Wrightwood Ave  Subscriber  Female      1988.0   \n",
       "299998        Clark St & Chicago Ave    Customer     NaN         NaN   \n",
       "299999       Damen Ave & Division St  Subscriber    Male      1984.0   \n",
       "\n",
       "       Start_Date Start_Time   End_Date  End_Time        Day     Month  Year  \n",
       "0      2017-06-23   15:09:32 2017-06-23  15:14:53     Friday      June  2017  \n",
       "1      2017-05-25   18:19:03 2017-05-25  18:45:53   Thursday       May  2017  \n",
       "2      2017-01-04   08:27:49 2017-01-04  08:34:45  Wednesday   January  2017  \n",
       "3      2017-03-06   13:49:38 2017-03-06  13:55:28     Monday     March  2017  \n",
       "4      2017-01-17   14:53:07 2017-01-17  15:02:01    Tuesday   January  2017  \n",
       "...           ...        ...        ...       ...        ...       ...   ...  \n",
       "299995 2017-01-21   13:18:00 2017-01-21  13:27:50   Saturday   January  2017  \n",
       "299996 2017-04-28   19:32:19 2017-04-28  19:51:18     Friday     April  2017  \n",
       "299997 2017-02-12   09:59:01 2017-02-12  10:21:49     Sunday  February  2017  \n",
       "299998 2017-04-16   17:07:15 2017-04-16  17:19:00     Sunday     April  2017  \n",
       "299999 2017-05-30   12:38:28 2017-05-30  12:55:36    Tuesday       May  2017  \n",
       "\n",
       "[300000 rows x 14 columns]"
      ]
     },
     "execution_count": 86,
     "metadata": {},
     "output_type": "execute_result"
    }
   ],
   "source": [
    "def get_city_data():\n",
    "    city = input(\"enter city: \").lower()\n",
    "    df = pd.read_csv(city_data[city])\n",
    "    return df\n",
    "\n",
    "\n",
    "def clean_data(df):\n",
    "    df[[\"Start_Date\", \"Start_Time\"]] = df[\"Start Time\"].str.split(\" \", expand=True)\n",
    "    df[[\"End_Date\", \"End_Time\"]] = df[\"End Time\"].str.split(\" \", expand = True)\n",
    "    df = df.drop([\"Start Time\", \"End Time\"], axis = 1)\n",
    "    df[\"Start_Date\"] = pd.to_datetime(df[\"Start_Date\"])\n",
    "    df[\"End_Date\"] = pd.to_datetime(df[\"End_Date\"])\n",
    "    df[\"Day\"] = df[\"Start_Date\"].dt.day_name()\n",
    "    df[\"Month\"] = df[\"Start_Date\"].dt.month_name()\n",
    "    df[\"Year\"] = df[\"Start_Date\"].dt.year\n",
    "    df.rename(columns = {\"Unnamed: 0\":\"ID\"}, inplace=True )\n",
    "    return df\n",
    "    \n",
    "    \n",
    "    \n",
    "get_city = get_city_data()\n",
    "clean_data = clean_data(get_city)\n",
    "clean_data"
   ]
  },
  {
   "cell_type": "markdown",
   "id": "ec0694e4",
   "metadata": {},
   "source": [
    "# cleaning the three data frames but wrapping them in a function above"
   ]
  },
  {
   "cell_type": "markdown",
   "id": "0ec92979",
   "metadata": {},
   "source": [
    "### splitting the start and end time to get dates, time in different columns using str.split() method"
   ]
  },
  {
   "cell_type": "code",
   "execution_count": null,
   "id": "8424d5a6",
   "metadata": {},
   "outputs": [],
   "source": [
    "# df[[\"Start_Date\", \"Start_Time\"]] = df[\"Start Time\"].str.split(\" \", expand=True)\n",
    "#     df[[\"End_Date\", \"End_Time\"]] = df[\"End Time\"].str.split(\" \", expand = True)"
   ]
  },
  {
   "cell_type": "markdown",
   "id": "260e6a1b",
   "metadata": {},
   "source": [
    "### dropping the original start and end columns"
   ]
  },
  {
   "cell_type": "code",
   "execution_count": null,
   "id": "e65edc09",
   "metadata": {},
   "outputs": [],
   "source": [
    "# df = df.drop([\"Start Time\", \"End Time\"], axis = 1)"
   ]
  },
  {
   "cell_type": "markdown",
   "id": "51d52a4f",
   "metadata": {},
   "source": [
    "# changing data types of the date and time from object or str using the pd.to_datetime() method"
   ]
  },
  {
   "cell_type": "code",
   "execution_count": 50,
   "id": "801f467f",
   "metadata": {},
   "outputs": [],
   "source": [
    "# df[\"Start_Date\"] = pd.to_datetime(df[\"Start_Date\"])\n",
    "# df[\"End_Date\"] = pd.to_datetime(df[\"End_Date\"])\n",
    "\n",
    "# clean_data[\"Start_Date\"] = pd.to_datetime(clean_data[\"Start_Date\"])\n",
    "# clean_data[\"End_Date\"] = pd.to_datetime(clean_data[\"End_Date\"])\n",
    "# clean_data.head(3)\n",
    "# clean_data.info()"
   ]
  },
  {
   "cell_type": "code",
   "execution_count": 51,
   "id": "fb0e1d84",
   "metadata": {},
   "outputs": [
    {
     "name": "stdout",
     "output_type": "stream",
     "text": [
      "<class 'pandas.core.frame.DataFrame'>\n",
      "RangeIndex: 3 entries, 0 to 2\n",
      "Data columns (total 11 columns):\n",
      " #   Column         Non-Null Count  Dtype         \n",
      "---  ------         --------------  -----         \n",
      " 0   Unnamed: 0     3 non-null      int64         \n",
      " 1   Trip Duration  3 non-null      int64         \n",
      " 2   Start Station  3 non-null      object        \n",
      " 3   End Station    3 non-null      object        \n",
      " 4   User Type      3 non-null      object        \n",
      " 5   Gender         3 non-null      object        \n",
      " 6   Birth Year     3 non-null      float64       \n",
      " 7   Start_Date     3 non-null      datetime64[ns]\n",
      " 8   Start_Time     3 non-null      object        \n",
      " 9   End_Date       3 non-null      datetime64[ns]\n",
      " 10  End_Time       3 non-null      object        \n",
      "dtypes: datetime64[ns](2), float64(1), int64(2), object(6)\n",
      "memory usage: 392.0+ bytes\n"
     ]
    }
   ],
   "source": [
    "clean_data.info()"
   ]
  },
  {
   "cell_type": "markdown",
   "id": "3232a22c",
   "metadata": {},
   "source": [
    "# How to extract day name, month name and year using .dt.day_name, .dt.month_name and .dt.year from importing date"
   ]
  },
  {
   "cell_type": "code",
   "execution_count": 58,
   "id": "8d94c2af",
   "metadata": {},
   "outputs": [],
   "source": [
    "from datetime import date"
   ]
  },
  {
   "cell_type": "code",
   "execution_count": null,
   "id": "74252c9d",
   "metadata": {},
   "outputs": [],
   "source": [
    "# clean_data[\"Start_Day\"] = clean_data[\"Start_Date\"].dt.day_name()\n",
    "# clean_data[\"Start_Month\"] = clean_data[\"Start_Date\"].dt.month_name()\n",
    "# clean_data[\"Start_Year\"] = clean_data[\"Start_Date\"].dt.year"
   ]
  },
  {
   "cell_type": "code",
   "execution_count": 66,
   "id": "fb1f6ed7",
   "metadata": {},
   "outputs": [
    {
     "data": {
      "text/html": [
       "<div>\n",
       "<style scoped>\n",
       "    .dataframe tbody tr th:only-of-type {\n",
       "        vertical-align: middle;\n",
       "    }\n",
       "\n",
       "    .dataframe tbody tr th {\n",
       "        vertical-align: top;\n",
       "    }\n",
       "\n",
       "    .dataframe thead th {\n",
       "        text-align: right;\n",
       "    }\n",
       "</style>\n",
       "<table border=\"1\" class=\"dataframe\">\n",
       "  <thead>\n",
       "    <tr style=\"text-align: right;\">\n",
       "      <th></th>\n",
       "      <th>Unnamed: 0</th>\n",
       "      <th>Trip Duration</th>\n",
       "      <th>Start Station</th>\n",
       "      <th>End Station</th>\n",
       "      <th>User Type</th>\n",
       "      <th>Gender</th>\n",
       "      <th>Birth Year</th>\n",
       "      <th>Start_Date</th>\n",
       "      <th>Start_Time</th>\n",
       "      <th>End_Date</th>\n",
       "      <th>End_Time</th>\n",
       "      <th>Day</th>\n",
       "      <th>Month</th>\n",
       "      <th>Year</th>\n",
       "    </tr>\n",
       "  </thead>\n",
       "  <tbody>\n",
       "    <tr>\n",
       "      <th>0</th>\n",
       "      <td>1423854</td>\n",
       "      <td>321</td>\n",
       "      <td>Wood St &amp; Hubbard St</td>\n",
       "      <td>Damen Ave &amp; Chicago Ave</td>\n",
       "      <td>Subscriber</td>\n",
       "      <td>Male</td>\n",
       "      <td>1992.0</td>\n",
       "      <td>2017-06-23</td>\n",
       "      <td>15:09:32</td>\n",
       "      <td>2017-06-23</td>\n",
       "      <td>15:14:53</td>\n",
       "      <td>Friday</td>\n",
       "      <td>June</td>\n",
       "      <td>2017</td>\n",
       "    </tr>\n",
       "    <tr>\n",
       "      <th>1</th>\n",
       "      <td>955915</td>\n",
       "      <td>1610</td>\n",
       "      <td>Theater on the Lake</td>\n",
       "      <td>Sheffield Ave &amp; Waveland Ave</td>\n",
       "      <td>Subscriber</td>\n",
       "      <td>Female</td>\n",
       "      <td>1992.0</td>\n",
       "      <td>2017-05-25</td>\n",
       "      <td>18:19:03</td>\n",
       "      <td>2017-05-25</td>\n",
       "      <td>18:45:53</td>\n",
       "      <td>Thursday</td>\n",
       "      <td>May</td>\n",
       "      <td>2017</td>\n",
       "    </tr>\n",
       "    <tr>\n",
       "      <th>2</th>\n",
       "      <td>9031</td>\n",
       "      <td>416</td>\n",
       "      <td>May St &amp; Taylor St</td>\n",
       "      <td>Wood St &amp; Taylor St</td>\n",
       "      <td>Subscriber</td>\n",
       "      <td>Male</td>\n",
       "      <td>1981.0</td>\n",
       "      <td>2017-01-04</td>\n",
       "      <td>08:27:49</td>\n",
       "      <td>2017-01-04</td>\n",
       "      <td>08:34:45</td>\n",
       "      <td>Wednesday</td>\n",
       "      <td>January</td>\n",
       "      <td>2017</td>\n",
       "    </tr>\n",
       "  </tbody>\n",
       "</table>\n",
       "</div>"
      ],
      "text/plain": [
       "   Unnamed: 0  Trip Duration         Start Station  \\\n",
       "0     1423854            321  Wood St & Hubbard St   \n",
       "1      955915           1610   Theater on the Lake   \n",
       "2        9031            416    May St & Taylor St   \n",
       "\n",
       "                    End Station   User Type  Gender  Birth Year Start_Date  \\\n",
       "0       Damen Ave & Chicago Ave  Subscriber    Male      1992.0 2017-06-23   \n",
       "1  Sheffield Ave & Waveland Ave  Subscriber  Female      1992.0 2017-05-25   \n",
       "2           Wood St & Taylor St  Subscriber    Male      1981.0 2017-01-04   \n",
       "\n",
       "  Start_Time   End_Date  End_Time        Day    Month  Year  \n",
       "0   15:09:32 2017-06-23  15:14:53     Friday     June  2017  \n",
       "1   18:19:03 2017-05-25  18:45:53   Thursday      May  2017  \n",
       "2   08:27:49 2017-01-04  08:34:45  Wednesday  January  2017  "
      ]
     },
     "execution_count": 66,
     "metadata": {},
     "output_type": "execute_result"
    }
   ],
   "source": [
    "clean_data"
   ]
  },
  {
   "cell_type": "markdown",
   "id": "c9b74994",
   "metadata": {},
   "source": [
    "# Renaming column using the .rename() method"
   ]
  },
  {
   "cell_type": "code",
   "execution_count": 81,
   "id": "c7452ae2",
   "metadata": {},
   "outputs": [],
   "source": [
    "#clean_data.columns"
   ]
  },
  {
   "cell_type": "code",
   "execution_count": 82,
   "id": "7252b5da",
   "metadata": {},
   "outputs": [],
   "source": [
    "# clean_data.rename(columns = {\"Unnamed: 0\":\"ID\"}, inplace=True )\n",
    "# clean_data"
   ]
  },
  {
   "cell_type": "code",
   "execution_count": 88,
   "id": "b9c34a2e",
   "metadata": {},
   "outputs": [],
   "source": [
    "import matplotlib.pyplot as plt"
   ]
  },
  {
   "cell_type": "markdown",
   "id": "3a5bbb87",
   "metadata": {},
   "source": [
    "# Analysing the dataframe above using the following questions and visualizing it using matplotlib"
   ]
  },
  {
   "cell_type": "markdown",
   "id": "f581d06e",
   "metadata": {},
   "source": [
    "### display the most common month"
   ]
  },
  {
   "cell_type": "code",
   "execution_count": 87,
   "id": "9a9e0bfc",
   "metadata": {},
   "outputs": [
    {
     "data": {
      "text/plain": [
       "June        98081\n",
       "May         66755\n",
       "April       51659\n",
       "February    32057\n",
       "March       29639\n",
       "January     21809\n",
       "Name: Month, dtype: int64"
      ]
     },
     "execution_count": 87,
     "metadata": {},
     "output_type": "execute_result"
    }
   ],
   "source": [
    "clean_data.Month.value_counts()\n"
   ]
  },
  {
   "cell_type": "code",
   "execution_count": null,
   "id": "08883838",
   "metadata": {},
   "outputs": [],
   "source": []
  }
 ],
 "metadata": {
  "kernelspec": {
   "display_name": "Python 3 (ipykernel)",
   "language": "python",
   "name": "python3"
  },
  "language_info": {
   "codemirror_mode": {
    "name": "ipython",
    "version": 3
   },
   "file_extension": ".py",
   "mimetype": "text/x-python",
   "name": "python",
   "nbconvert_exporter": "python",
   "pygments_lexer": "ipython3",
   "version": "3.9.7"
  }
 },
 "nbformat": 4,
 "nbformat_minor": 5
}
