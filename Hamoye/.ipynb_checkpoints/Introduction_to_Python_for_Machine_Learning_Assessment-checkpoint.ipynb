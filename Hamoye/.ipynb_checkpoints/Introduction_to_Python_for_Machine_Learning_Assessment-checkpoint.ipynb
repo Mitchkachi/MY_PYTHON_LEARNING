{
 "cells": [
  {
   "cell_type": "code",
   "execution_count": 3,
   "id": "e7f87a97",
   "metadata": {},
   "outputs": [],
   "source": [
    "import pandas as pd\n",
    "import numpy as np"
   ]
  },
  {
   "cell_type": "code",
   "execution_count": 4,
   "id": "5ae59ee3",
   "metadata": {},
   "outputs": [],
   "source": [
    "path = \"C:/Users/User/Downloads/FoodBalanceSheets_E_Africa_NOFLAG (3).csv\""
   ]
  },
  {
   "cell_type": "code",
   "execution_count": 5,
   "id": "5e1c9cc5",
   "metadata": {},
   "outputs": [
    {
     "data": {
      "text/html": [
       "<div>\n",
       "<style scoped>\n",
       "    .dataframe tbody tr th:only-of-type {\n",
       "        vertical-align: middle;\n",
       "    }\n",
       "\n",
       "    .dataframe tbody tr th {\n",
       "        vertical-align: top;\n",
       "    }\n",
       "\n",
       "    .dataframe thead th {\n",
       "        text-align: right;\n",
       "    }\n",
       "</style>\n",
       "<table border=\"1\" class=\"dataframe\">\n",
       "  <thead>\n",
       "    <tr style=\"text-align: right;\">\n",
       "      <th></th>\n",
       "      <th>Area Code</th>\n",
       "      <th>Area</th>\n",
       "      <th>Item Code</th>\n",
       "      <th>Item</th>\n",
       "      <th>Element Code</th>\n",
       "      <th>Element</th>\n",
       "      <th>Unit</th>\n",
       "      <th>Y2014</th>\n",
       "      <th>Y2015</th>\n",
       "      <th>Y2016</th>\n",
       "      <th>Y2017</th>\n",
       "      <th>Y2018</th>\n",
       "    </tr>\n",
       "  </thead>\n",
       "  <tbody>\n",
       "    <tr>\n",
       "      <th>0</th>\n",
       "      <td>4</td>\n",
       "      <td>Algeria</td>\n",
       "      <td>2501</td>\n",
       "      <td>Population</td>\n",
       "      <td>511</td>\n",
       "      <td>Total Population - Both sexes</td>\n",
       "      <td>1000 persons</td>\n",
       "      <td>38924.0</td>\n",
       "      <td>39728.0</td>\n",
       "      <td>40551.0</td>\n",
       "      <td>41389.0</td>\n",
       "      <td>42228.0</td>\n",
       "    </tr>\n",
       "    <tr>\n",
       "      <th>1</th>\n",
       "      <td>4</td>\n",
       "      <td>Algeria</td>\n",
       "      <td>2501</td>\n",
       "      <td>Population</td>\n",
       "      <td>5301</td>\n",
       "      <td>Domestic supply quantity</td>\n",
       "      <td>1000 tonnes</td>\n",
       "      <td>0.0</td>\n",
       "      <td>0.0</td>\n",
       "      <td>0.0</td>\n",
       "      <td>0.0</td>\n",
       "      <td>0.0</td>\n",
       "    </tr>\n",
       "    <tr>\n",
       "      <th>2</th>\n",
       "      <td>4</td>\n",
       "      <td>Algeria</td>\n",
       "      <td>2901</td>\n",
       "      <td>Grand Total</td>\n",
       "      <td>664</td>\n",
       "      <td>Food supply (kcal/capita/day)</td>\n",
       "      <td>kcal/capita/day</td>\n",
       "      <td>3377.0</td>\n",
       "      <td>3379.0</td>\n",
       "      <td>3372.0</td>\n",
       "      <td>3341.0</td>\n",
       "      <td>3322.0</td>\n",
       "    </tr>\n",
       "  </tbody>\n",
       "</table>\n",
       "</div>"
      ],
      "text/plain": [
       "   Area Code     Area  Item Code         Item  Element Code  \\\n",
       "0          4  Algeria       2501   Population           511   \n",
       "1          4  Algeria       2501   Population          5301   \n",
       "2          4  Algeria       2901  Grand Total           664   \n",
       "\n",
       "                         Element             Unit    Y2014    Y2015    Y2016  \\\n",
       "0  Total Population - Both sexes     1000 persons  38924.0  39728.0  40551.0   \n",
       "1       Domestic supply quantity      1000 tonnes      0.0      0.0      0.0   \n",
       "2  Food supply (kcal/capita/day)  kcal/capita/day   3377.0   3379.0   3372.0   \n",
       "\n",
       "     Y2017    Y2018  \n",
       "0  41389.0  42228.0  \n",
       "1      0.0      0.0  \n",
       "2   3341.0   3322.0  "
      ]
     },
     "execution_count": 5,
     "metadata": {},
     "output_type": "execute_result"
    }
   ],
   "source": [
    "df = pd.read_csv(path, encoding='latin-1')\n",
    "df.head(3)"
   ]
  },
  {
   "cell_type": "markdown",
   "id": "07b71cfb",
   "metadata": {},
   "source": [
    "# Question 1\n",
    "## What is the total sum of Animal Fat produced in 2014 and 2017 respectively?"
   ]
  },
  {
   "cell_type": "code",
   "execution_count": 6,
   "id": "6867e6e0",
   "metadata": {},
   "outputs": [
    {
     "data": {
      "text/plain": [
       "Index(['Area Code', 'Area', 'Item Code', 'Item', 'Element Code', 'Element',\n",
       "       'Unit', 'Y2014', 'Y2015', 'Y2016', 'Y2017', 'Y2018'],\n",
       "      dtype='object')"
      ]
     },
     "execution_count": 6,
     "metadata": {},
     "output_type": "execute_result"
    }
   ],
   "source": [
    "df.columns"
   ]
  },
  {
   "cell_type": "code",
   "execution_count": 8,
   "id": "81324e8a",
   "metadata": {},
   "outputs": [
    {
     "data": {
      "text/html": [
       "<div>\n",
       "<style scoped>\n",
       "    .dataframe tbody tr th:only-of-type {\n",
       "        vertical-align: middle;\n",
       "    }\n",
       "\n",
       "    .dataframe tbody tr th {\n",
       "        vertical-align: top;\n",
       "    }\n",
       "\n",
       "    .dataframe thead th {\n",
       "        text-align: right;\n",
       "    }\n",
       "</style>\n",
       "<table border=\"1\" class=\"dataframe\">\n",
       "  <thead>\n",
       "    <tr style=\"text-align: right;\">\n",
       "      <th></th>\n",
       "      <th>Item</th>\n",
       "      <th>Y2014</th>\n",
       "      <th>Y2017</th>\n",
       "    </tr>\n",
       "  </thead>\n",
       "  <tbody>\n",
       "    <tr>\n",
       "      <th>0</th>\n",
       "      <td>Population</td>\n",
       "      <td>38924.00</td>\n",
       "      <td>41389.00</td>\n",
       "    </tr>\n",
       "    <tr>\n",
       "      <th>1</th>\n",
       "      <td>Population</td>\n",
       "      <td>0.00</td>\n",
       "      <td>0.00</td>\n",
       "    </tr>\n",
       "    <tr>\n",
       "      <th>2</th>\n",
       "      <td>Grand Total</td>\n",
       "      <td>3377.00</td>\n",
       "      <td>3341.00</td>\n",
       "    </tr>\n",
       "    <tr>\n",
       "      <th>3</th>\n",
       "      <td>Grand Total</td>\n",
       "      <td>94.90</td>\n",
       "      <td>92.82</td>\n",
       "    </tr>\n",
       "    <tr>\n",
       "      <th>4</th>\n",
       "      <td>Grand Total</td>\n",
       "      <td>80.06</td>\n",
       "      <td>80.19</td>\n",
       "    </tr>\n",
       "    <tr>\n",
       "      <th>...</th>\n",
       "      <td>...</td>\n",
       "      <td>...</td>\n",
       "      <td>...</td>\n",
       "    </tr>\n",
       "    <tr>\n",
       "      <th>60938</th>\n",
       "      <td>Miscellaneous</td>\n",
       "      <td>42.00</td>\n",
       "      <td>19.00</td>\n",
       "    </tr>\n",
       "    <tr>\n",
       "      <th>60939</th>\n",
       "      <td>Miscellaneous</td>\n",
       "      <td>3.06</td>\n",
       "      <td>1.33</td>\n",
       "    </tr>\n",
       "    <tr>\n",
       "      <th>60940</th>\n",
       "      <td>Miscellaneous</td>\n",
       "      <td>3.00</td>\n",
       "      <td>1.00</td>\n",
       "    </tr>\n",
       "    <tr>\n",
       "      <th>60941</th>\n",
       "      <td>Miscellaneous</td>\n",
       "      <td>0.10</td>\n",
       "      <td>0.04</td>\n",
       "    </tr>\n",
       "    <tr>\n",
       "      <th>60942</th>\n",
       "      <td>Miscellaneous</td>\n",
       "      <td>0.04</td>\n",
       "      <td>0.02</td>\n",
       "    </tr>\n",
       "  </tbody>\n",
       "</table>\n",
       "<p>60943 rows × 3 columns</p>\n",
       "</div>"
      ],
      "text/plain": [
       "                Item     Y2014     Y2017\n",
       "0         Population  38924.00  41389.00\n",
       "1         Population      0.00      0.00\n",
       "2        Grand Total   3377.00   3341.00\n",
       "3        Grand Total     94.90     92.82\n",
       "4        Grand Total     80.06     80.19\n",
       "...              ...       ...       ...\n",
       "60938  Miscellaneous     42.00     19.00\n",
       "60939  Miscellaneous      3.06      1.33\n",
       "60940  Miscellaneous      3.00      1.00\n",
       "60941  Miscellaneous      0.10      0.04\n",
       "60942  Miscellaneous      0.04      0.02\n",
       "\n",
       "[60943 rows x 3 columns]"
      ]
     },
     "execution_count": 8,
     "metadata": {},
     "output_type": "execute_result"
    }
   ],
   "source": [
    "animal_fat_val = df[['Item','Y2014', 'Y2017']]\n",
    "animal_fat_val"
   ]
  },
  {
   "cell_type": "code",
   "execution_count": 34,
   "id": "ec4dc083",
   "metadata": {},
   "outputs": [],
   "source": [
    "af = animal_fat_val[\"Item\"] == \"Animal fats\"\n",
    "new_af = animal_fat_val[af]"
   ]
  },
  {
   "cell_type": "code",
   "execution_count": 35,
   "id": "62ff8289",
   "metadata": {},
   "outputs": [
    {
     "name": "stdout",
     "output_type": "stream",
     "text": [
      " the sum of year Y2014 is 209460.54\n",
      " the sum of year Y2017 is 269617.53\n"
     ]
    }
   ],
   "source": [
    "for i in new_af.columns[1:]:\n",
    "    year_sum = f\" the sum of year {i} is {new_af[i].sum()}\"\n",
    "    print(year_sum)"
   ]
  },
  {
   "cell_type": "markdown",
   "id": "3b85b70f",
   "metadata": {},
   "source": [
    "# Or"
   ]
  },
  {
   "cell_type": "code",
   "execution_count": 11,
   "id": "c7c50416",
   "metadata": {},
   "outputs": [
    {
     "data": {
      "text/html": [
       "<div>\n",
       "<style scoped>\n",
       "    .dataframe tbody tr th:only-of-type {\n",
       "        vertical-align: middle;\n",
       "    }\n",
       "\n",
       "    .dataframe tbody tr th {\n",
       "        vertical-align: top;\n",
       "    }\n",
       "\n",
       "    .dataframe thead th {\n",
       "        text-align: right;\n",
       "    }\n",
       "</style>\n",
       "<table border=\"1\" class=\"dataframe\">\n",
       "  <thead>\n",
       "    <tr style=\"text-align: right;\">\n",
       "      <th></th>\n",
       "      <th>Item</th>\n",
       "      <th>Y2014</th>\n",
       "      <th>Y2017</th>\n",
       "    </tr>\n",
       "  </thead>\n",
       "  <tbody>\n",
       "    <tr>\n",
       "      <th>3</th>\n",
       "      <td>Animal fats</td>\n",
       "      <td>209460.54</td>\n",
       "      <td>269617.53</td>\n",
       "    </tr>\n",
       "  </tbody>\n",
       "</table>\n",
       "</div>"
      ],
      "text/plain": [
       "          Item      Y2014      Y2017\n",
       "3  Animal fats  209460.54  269617.53"
      ]
     },
     "execution_count": 11,
     "metadata": {},
     "output_type": "execute_result"
    }
   ],
   "source": [
    "animal_ft = df.groupby(\"Item\")[[\"Y2014\", \"Y2017\"]].sum().reset_index()\n",
    "animal_ft.query(\"Item == 'Animal fats'\")"
   ]
  },
  {
   "cell_type": "markdown",
   "id": "4dcf2779",
   "metadata": {},
   "source": [
    "# Question 2\n",
    "## What is the mean and standard deviation across the whole dataset for the year 2015 to 3 decimal places?"
   ]
  },
  {
   "cell_type": "code",
   "execution_count": 12,
   "id": "ca48f84f",
   "metadata": {},
   "outputs": [
    {
     "data": {
      "text/plain": [
       "Index(['Area Code', 'Area', 'Item Code', 'Item', 'Element Code', 'Element',\n",
       "       'Unit', 'Y2014', 'Y2015', 'Y2016', 'Y2017', 'Y2018'],\n",
       "      dtype='object')"
      ]
     },
     "execution_count": 12,
     "metadata": {},
     "output_type": "execute_result"
    }
   ],
   "source": [
    "df.columns"
   ]
  },
  {
   "cell_type": "code",
   "execution_count": 13,
   "id": "c2ba02ec",
   "metadata": {},
   "outputs": [
    {
     "data": {
      "text/html": [
       "<div>\n",
       "<style scoped>\n",
       "    .dataframe tbody tr th:only-of-type {\n",
       "        vertical-align: middle;\n",
       "    }\n",
       "\n",
       "    .dataframe tbody tr th {\n",
       "        vertical-align: top;\n",
       "    }\n",
       "\n",
       "    .dataframe thead th {\n",
       "        text-align: right;\n",
       "    }\n",
       "</style>\n",
       "<table border=\"1\" class=\"dataframe\">\n",
       "  <thead>\n",
       "    <tr style=\"text-align: right;\">\n",
       "      <th></th>\n",
       "      <th>Area Code</th>\n",
       "      <th>Area</th>\n",
       "      <th>Item Code</th>\n",
       "      <th>Item</th>\n",
       "      <th>Element Code</th>\n",
       "      <th>Element</th>\n",
       "      <th>Unit</th>\n",
       "      <th>Y2015</th>\n",
       "    </tr>\n",
       "  </thead>\n",
       "  <tbody>\n",
       "    <tr>\n",
       "      <th>0</th>\n",
       "      <td>4</td>\n",
       "      <td>Algeria</td>\n",
       "      <td>2501</td>\n",
       "      <td>Population</td>\n",
       "      <td>511</td>\n",
       "      <td>Total Population - Both sexes</td>\n",
       "      <td>1000 persons</td>\n",
       "      <td>39728.00</td>\n",
       "    </tr>\n",
       "    <tr>\n",
       "      <th>1</th>\n",
       "      <td>4</td>\n",
       "      <td>Algeria</td>\n",
       "      <td>2501</td>\n",
       "      <td>Population</td>\n",
       "      <td>5301</td>\n",
       "      <td>Domestic supply quantity</td>\n",
       "      <td>1000 tonnes</td>\n",
       "      <td>0.00</td>\n",
       "    </tr>\n",
       "    <tr>\n",
       "      <th>2</th>\n",
       "      <td>4</td>\n",
       "      <td>Algeria</td>\n",
       "      <td>2901</td>\n",
       "      <td>Grand Total</td>\n",
       "      <td>664</td>\n",
       "      <td>Food supply (kcal/capita/day)</td>\n",
       "      <td>kcal/capita/day</td>\n",
       "      <td>3379.00</td>\n",
       "    </tr>\n",
       "    <tr>\n",
       "      <th>3</th>\n",
       "      <td>4</td>\n",
       "      <td>Algeria</td>\n",
       "      <td>2901</td>\n",
       "      <td>Grand Total</td>\n",
       "      <td>674</td>\n",
       "      <td>Protein supply quantity (g/capita/day)</td>\n",
       "      <td>g/capita/day</td>\n",
       "      <td>94.35</td>\n",
       "    </tr>\n",
       "    <tr>\n",
       "      <th>4</th>\n",
       "      <td>4</td>\n",
       "      <td>Algeria</td>\n",
       "      <td>2901</td>\n",
       "      <td>Grand Total</td>\n",
       "      <td>684</td>\n",
       "      <td>Fat supply quantity (g/capita/day)</td>\n",
       "      <td>g/capita/day</td>\n",
       "      <td>79.36</td>\n",
       "    </tr>\n",
       "    <tr>\n",
       "      <th>...</th>\n",
       "      <td>...</td>\n",
       "      <td>...</td>\n",
       "      <td>...</td>\n",
       "      <td>...</td>\n",
       "      <td>...</td>\n",
       "      <td>...</td>\n",
       "      <td>...</td>\n",
       "      <td>...</td>\n",
       "    </tr>\n",
       "    <tr>\n",
       "      <th>60938</th>\n",
       "      <td>181</td>\n",
       "      <td>Zimbabwe</td>\n",
       "      <td>2899</td>\n",
       "      <td>Miscellaneous</td>\n",
       "      <td>5142</td>\n",
       "      <td>Food</td>\n",
       "      <td>1000 tonnes</td>\n",
       "      <td>46.00</td>\n",
       "    </tr>\n",
       "    <tr>\n",
       "      <th>60939</th>\n",
       "      <td>181</td>\n",
       "      <td>Zimbabwe</td>\n",
       "      <td>2899</td>\n",
       "      <td>Miscellaneous</td>\n",
       "      <td>645</td>\n",
       "      <td>Food supply quantity (kg/capita/yr)</td>\n",
       "      <td>kg</td>\n",
       "      <td>3.33</td>\n",
       "    </tr>\n",
       "    <tr>\n",
       "      <th>60940</th>\n",
       "      <td>181</td>\n",
       "      <td>Zimbabwe</td>\n",
       "      <td>2899</td>\n",
       "      <td>Miscellaneous</td>\n",
       "      <td>664</td>\n",
       "      <td>Food supply (kcal/capita/day)</td>\n",
       "      <td>kcal/capita/day</td>\n",
       "      <td>4.00</td>\n",
       "    </tr>\n",
       "    <tr>\n",
       "      <th>60941</th>\n",
       "      <td>181</td>\n",
       "      <td>Zimbabwe</td>\n",
       "      <td>2899</td>\n",
       "      <td>Miscellaneous</td>\n",
       "      <td>674</td>\n",
       "      <td>Protein supply quantity (g/capita/day)</td>\n",
       "      <td>g/capita/day</td>\n",
       "      <td>0.11</td>\n",
       "    </tr>\n",
       "    <tr>\n",
       "      <th>60942</th>\n",
       "      <td>181</td>\n",
       "      <td>Zimbabwe</td>\n",
       "      <td>2899</td>\n",
       "      <td>Miscellaneous</td>\n",
       "      <td>684</td>\n",
       "      <td>Fat supply quantity (g/capita/day)</td>\n",
       "      <td>g/capita/day</td>\n",
       "      <td>0.05</td>\n",
       "    </tr>\n",
       "  </tbody>\n",
       "</table>\n",
       "<p>60943 rows × 8 columns</p>\n",
       "</div>"
      ],
      "text/plain": [
       "       Area Code      Area  Item Code           Item  Element Code  \\\n",
       "0              4   Algeria       2501     Population           511   \n",
       "1              4   Algeria       2501     Population          5301   \n",
       "2              4   Algeria       2901    Grand Total           664   \n",
       "3              4   Algeria       2901    Grand Total           674   \n",
       "4              4   Algeria       2901    Grand Total           684   \n",
       "...          ...       ...        ...            ...           ...   \n",
       "60938        181  Zimbabwe       2899  Miscellaneous          5142   \n",
       "60939        181  Zimbabwe       2899  Miscellaneous           645   \n",
       "60940        181  Zimbabwe       2899  Miscellaneous           664   \n",
       "60941        181  Zimbabwe       2899  Miscellaneous           674   \n",
       "60942        181  Zimbabwe       2899  Miscellaneous           684   \n",
       "\n",
       "                                      Element             Unit     Y2015  \n",
       "0               Total Population - Both sexes     1000 persons  39728.00  \n",
       "1                    Domestic supply quantity      1000 tonnes      0.00  \n",
       "2               Food supply (kcal/capita/day)  kcal/capita/day   3379.00  \n",
       "3      Protein supply quantity (g/capita/day)     g/capita/day     94.35  \n",
       "4          Fat supply quantity (g/capita/day)     g/capita/day     79.36  \n",
       "...                                       ...              ...       ...  \n",
       "60938                                    Food      1000 tonnes     46.00  \n",
       "60939     Food supply quantity (kg/capita/yr)               kg      3.33  \n",
       "60940           Food supply (kcal/capita/day)  kcal/capita/day      4.00  \n",
       "60941  Protein supply quantity (g/capita/day)     g/capita/day      0.11  \n",
       "60942      Fat supply quantity (g/capita/day)     g/capita/day      0.05  \n",
       "\n",
       "[60943 rows x 8 columns]"
      ]
     },
     "execution_count": 13,
     "metadata": {},
     "output_type": "execute_result"
    }
   ],
   "source": [
    "working_df = df[['Area Code', 'Area', 'Item Code', 'Item', 'Element Code', 'Element',\n",
    "       'Unit', 'Y2015']]\n",
    "working_df"
   ]
  },
  {
   "cell_type": "code",
   "execution_count": 14,
   "id": "619c9d6b",
   "metadata": {},
   "outputs": [
    {
     "data": {
      "text/html": [
       "<div>\n",
       "<style scoped>\n",
       "    .dataframe tbody tr th:only-of-type {\n",
       "        vertical-align: middle;\n",
       "    }\n",
       "\n",
       "    .dataframe tbody tr th {\n",
       "        vertical-align: top;\n",
       "    }\n",
       "\n",
       "    .dataframe thead th {\n",
       "        text-align: right;\n",
       "    }\n",
       "</style>\n",
       "<table border=\"1\" class=\"dataframe\">\n",
       "  <thead>\n",
       "    <tr style=\"text-align: right;\">\n",
       "      <th></th>\n",
       "      <th>Area Code</th>\n",
       "      <th>Item Code</th>\n",
       "      <th>Element Code</th>\n",
       "      <th>Y2015</th>\n",
       "    </tr>\n",
       "  </thead>\n",
       "  <tbody>\n",
       "    <tr>\n",
       "      <th>count</th>\n",
       "      <td>60943.000</td>\n",
       "      <td>60943.000</td>\n",
       "      <td>60943.000</td>\n",
       "      <td>59395.000</td>\n",
       "    </tr>\n",
       "    <tr>\n",
       "      <th>mean</th>\n",
       "      <td>134.266</td>\n",
       "      <td>2687.177</td>\n",
       "      <td>3814.856</td>\n",
       "      <td>135.236</td>\n",
       "    </tr>\n",
       "    <tr>\n",
       "      <th>std</th>\n",
       "      <td>72.606</td>\n",
       "      <td>146.056</td>\n",
       "      <td>2212.007</td>\n",
       "      <td>1603.404</td>\n",
       "    </tr>\n",
       "    <tr>\n",
       "      <th>min</th>\n",
       "      <td>4.000</td>\n",
       "      <td>2501.000</td>\n",
       "      <td>511.000</td>\n",
       "      <td>-3161.000</td>\n",
       "    </tr>\n",
       "    <tr>\n",
       "      <th>25%</th>\n",
       "      <td>74.000</td>\n",
       "      <td>2562.000</td>\n",
       "      <td>684.000</td>\n",
       "      <td>0.000</td>\n",
       "    </tr>\n",
       "    <tr>\n",
       "      <th>50%</th>\n",
       "      <td>136.000</td>\n",
       "      <td>2630.000</td>\n",
       "      <td>5142.000</td>\n",
       "      <td>0.080</td>\n",
       "    </tr>\n",
       "    <tr>\n",
       "      <th>75%</th>\n",
       "      <td>195.000</td>\n",
       "      <td>2775.000</td>\n",
       "      <td>5511.000</td>\n",
       "      <td>8.460</td>\n",
       "    </tr>\n",
       "    <tr>\n",
       "      <th>max</th>\n",
       "      <td>276.000</td>\n",
       "      <td>2961.000</td>\n",
       "      <td>5911.000</td>\n",
       "      <td>181137.000</td>\n",
       "    </tr>\n",
       "  </tbody>\n",
       "</table>\n",
       "</div>"
      ],
      "text/plain": [
       "       Area Code  Item Code  Element Code       Y2015\n",
       "count  60943.000  60943.000     60943.000   59395.000\n",
       "mean     134.266   2687.177      3814.856     135.236\n",
       "std       72.606    146.056      2212.007    1603.404\n",
       "min        4.000   2501.000       511.000   -3161.000\n",
       "25%       74.000   2562.000       684.000       0.000\n",
       "50%      136.000   2630.000      5142.000       0.080\n",
       "75%      195.000   2775.000      5511.000       8.460\n",
       "max      276.000   2961.000      5911.000  181137.000"
      ]
     },
     "execution_count": 14,
     "metadata": {},
     "output_type": "execute_result"
    }
   ],
   "source": [
    "round(working_df.describe(), 3)"
   ]
  },
  {
   "cell_type": "markdown",
   "id": "be28a07a",
   "metadata": {},
   "source": [
    "# Or"
   ]
  },
  {
   "cell_type": "code",
   "execution_count": 15,
   "id": "8788cfc9",
   "metadata": {},
   "outputs": [
    {
     "data": {
      "text/plain": [
       "135.236"
      ]
     },
     "execution_count": 15,
     "metadata": {},
     "output_type": "execute_result"
    }
   ],
   "source": [
    "mean_df =round(df[\"Y2015\"].mean(),3)\n",
    "mean_df "
   ]
  },
  {
   "cell_type": "code",
   "execution_count": 16,
   "id": "ee2a318a",
   "metadata": {},
   "outputs": [
    {
     "name": "stdout",
     "output_type": "stream",
     "text": [
      "135.236 1603.404\n"
     ]
    }
   ],
   "source": [
    "std_df = round(df[\"Y2015\"].std(),3)\n",
    "std_df\n",
    "print( mean_df,  std_df)"
   ]
  },
  {
   "cell_type": "markdown",
   "id": "22aa921c",
   "metadata": {},
   "source": [
    "# Question 3\n",
    "## What is the total number and percentage of missing data in 2016 to 2 decimal places?"
   ]
  },
  {
   "cell_type": "code",
   "execution_count": 17,
   "id": "97f6f643",
   "metadata": {},
   "outputs": [
    {
     "data": {
      "text/plain": [
       "Index(['Area Code', 'Area', 'Item Code', 'Item', 'Element Code', 'Element',\n",
       "       'Unit', 'Y2014', 'Y2015', 'Y2016', 'Y2017', 'Y2018'],\n",
       "      dtype='object')"
      ]
     },
     "execution_count": 17,
     "metadata": {},
     "output_type": "execute_result"
    }
   ],
   "source": [
    "df.columns"
   ]
  },
  {
   "cell_type": "code",
   "execution_count": 18,
   "id": "be5d52e4",
   "metadata": {},
   "outputs": [
    {
     "data": {
      "text/plain": [
       "0        40551.00\n",
       "1            0.00\n",
       "2         3372.00\n",
       "3           94.72\n",
       "4           77.40\n",
       "           ...   \n",
       "60938       33.00\n",
       "60939        2.35\n",
       "60940        3.00\n",
       "60941        0.08\n",
       "60942        0.03\n",
       "Name: Y2016, Length: 60943, dtype: float64"
      ]
     },
     "execution_count": 18,
     "metadata": {},
     "output_type": "execute_result"
    }
   ],
   "source": [
    "query_df = df['Y2016']\n",
    "query_df"
   ]
  },
  {
   "cell_type": "code",
   "execution_count": 19,
   "id": "0c9ec8b6",
   "metadata": {},
   "outputs": [
    {
     "name": "stdout",
     "output_type": "stream",
     "text": [
      "1535 2.52\n"
     ]
    }
   ],
   "source": [
    "total_missing = query_df.isna().sum()\n",
    "per = round(total_missing*100 / len(df), 2)\n",
    "print(total_missing, per)"
   ]
  },
  {
   "cell_type": "markdown",
   "id": "0af09265",
   "metadata": {},
   "source": [
    "# Question 4\n",
    "## Which year had the highest correlation with ‘Element Code’? "
   ]
  },
  {
   "cell_type": "code",
   "execution_count": 20,
   "id": "ccb1e69c",
   "metadata": {},
   "outputs": [
    {
     "data": {
      "text/html": [
       "<div>\n",
       "<style scoped>\n",
       "    .dataframe tbody tr th:only-of-type {\n",
       "        vertical-align: middle;\n",
       "    }\n",
       "\n",
       "    .dataframe tbody tr th {\n",
       "        vertical-align: top;\n",
       "    }\n",
       "\n",
       "    .dataframe thead th {\n",
       "        text-align: right;\n",
       "    }\n",
       "</style>\n",
       "<table border=\"1\" class=\"dataframe\">\n",
       "  <thead>\n",
       "    <tr style=\"text-align: right;\">\n",
       "      <th></th>\n",
       "      <th>Area Code</th>\n",
       "      <th>Area</th>\n",
       "      <th>Item Code</th>\n",
       "      <th>Item</th>\n",
       "      <th>Element Code</th>\n",
       "      <th>Element</th>\n",
       "      <th>Unit</th>\n",
       "      <th>Y2014</th>\n",
       "      <th>Y2015</th>\n",
       "      <th>Y2016</th>\n",
       "      <th>Y2017</th>\n",
       "      <th>Y2018</th>\n",
       "    </tr>\n",
       "  </thead>\n",
       "  <tbody>\n",
       "    <tr>\n",
       "      <th>0</th>\n",
       "      <td>4</td>\n",
       "      <td>Algeria</td>\n",
       "      <td>2501</td>\n",
       "      <td>Population</td>\n",
       "      <td>511</td>\n",
       "      <td>Total Population - Both sexes</td>\n",
       "      <td>1000 persons</td>\n",
       "      <td>38924.0</td>\n",
       "      <td>39728.0</td>\n",
       "      <td>40551.0</td>\n",
       "      <td>41389.0</td>\n",
       "      <td>42228.0</td>\n",
       "    </tr>\n",
       "    <tr>\n",
       "      <th>1</th>\n",
       "      <td>4</td>\n",
       "      <td>Algeria</td>\n",
       "      <td>2501</td>\n",
       "      <td>Population</td>\n",
       "      <td>5301</td>\n",
       "      <td>Domestic supply quantity</td>\n",
       "      <td>1000 tonnes</td>\n",
       "      <td>0.0</td>\n",
       "      <td>0.0</td>\n",
       "      <td>0.0</td>\n",
       "      <td>0.0</td>\n",
       "      <td>0.0</td>\n",
       "    </tr>\n",
       "    <tr>\n",
       "      <th>2</th>\n",
       "      <td>4</td>\n",
       "      <td>Algeria</td>\n",
       "      <td>2901</td>\n",
       "      <td>Grand Total</td>\n",
       "      <td>664</td>\n",
       "      <td>Food supply (kcal/capita/day)</td>\n",
       "      <td>kcal/capita/day</td>\n",
       "      <td>3377.0</td>\n",
       "      <td>3379.0</td>\n",
       "      <td>3372.0</td>\n",
       "      <td>3341.0</td>\n",
       "      <td>3322.0</td>\n",
       "    </tr>\n",
       "  </tbody>\n",
       "</table>\n",
       "</div>"
      ],
      "text/plain": [
       "   Area Code     Area  Item Code         Item  Element Code  \\\n",
       "0          4  Algeria       2501   Population           511   \n",
       "1          4  Algeria       2501   Population          5301   \n",
       "2          4  Algeria       2901  Grand Total           664   \n",
       "\n",
       "                         Element             Unit    Y2014    Y2015    Y2016  \\\n",
       "0  Total Population - Both sexes     1000 persons  38924.0  39728.0  40551.0   \n",
       "1       Domestic supply quantity      1000 tonnes      0.0      0.0      0.0   \n",
       "2  Food supply (kcal/capita/day)  kcal/capita/day   3377.0   3379.0   3372.0   \n",
       "\n",
       "     Y2017    Y2018  \n",
       "0  41389.0  42228.0  \n",
       "1      0.0      0.0  \n",
       "2   3341.0   3322.0  "
      ]
     },
     "execution_count": 20,
     "metadata": {},
     "output_type": "execute_result"
    }
   ],
   "source": [
    "df.head(3)"
   ]
  },
  {
   "cell_type": "code",
   "execution_count": 38,
   "id": "f2087b19",
   "metadata": {},
   "outputs": [
    {
     "data": {
      "text/html": [
       "<div>\n",
       "<style scoped>\n",
       "    .dataframe tbody tr th:only-of-type {\n",
       "        vertical-align: middle;\n",
       "    }\n",
       "\n",
       "    .dataframe tbody tr th {\n",
       "        vertical-align: top;\n",
       "    }\n",
       "\n",
       "    .dataframe thead th {\n",
       "        text-align: right;\n",
       "    }\n",
       "</style>\n",
       "<table border=\"1\" class=\"dataframe\">\n",
       "  <thead>\n",
       "    <tr style=\"text-align: right;\">\n",
       "      <th></th>\n",
       "      <th>index</th>\n",
       "      <th>Area Code</th>\n",
       "      <th>Item Code</th>\n",
       "      <th>Element Code</th>\n",
       "      <th>Y2014</th>\n",
       "      <th>Y2015</th>\n",
       "      <th>Y2016</th>\n",
       "      <th>Y2017</th>\n",
       "      <th>Y2018</th>\n",
       "    </tr>\n",
       "  </thead>\n",
       "  <tbody>\n",
       "    <tr>\n",
       "      <th>0</th>\n",
       "      <td>Area Code</td>\n",
       "      <td>1.0000</td>\n",
       "      <td>-0.0052</td>\n",
       "      <td>-0.0002</td>\n",
       "      <td>0.0062</td>\n",
       "      <td>0.0055</td>\n",
       "      <td>0.0052</td>\n",
       "      <td>0.0050</td>\n",
       "      <td>0.0057</td>\n",
       "    </tr>\n",
       "    <tr>\n",
       "      <th>1</th>\n",
       "      <td>Item Code</td>\n",
       "      <td>-0.0052</td>\n",
       "      <td>1.0000</td>\n",
       "      <td>-0.0247</td>\n",
       "      <td>0.0217</td>\n",
       "      <td>0.0209</td>\n",
       "      <td>0.0201</td>\n",
       "      <td>0.0215</td>\n",
       "      <td>0.0213</td>\n",
       "    </tr>\n",
       "    <tr>\n",
       "      <th>2</th>\n",
       "      <td>Element Code</td>\n",
       "      <td>-0.0002</td>\n",
       "      <td>-0.0247</td>\n",
       "      <td>1.0000</td>\n",
       "      <td>0.0245</td>\n",
       "      <td>0.0239</td>\n",
       "      <td>0.0234</td>\n",
       "      <td>0.0243</td>\n",
       "      <td>0.0243</td>\n",
       "    </tr>\n",
       "    <tr>\n",
       "      <th>3</th>\n",
       "      <td>Y2014</td>\n",
       "      <td>0.0062</td>\n",
       "      <td>0.0217</td>\n",
       "      <td>0.0245</td>\n",
       "      <td>1.0000</td>\n",
       "      <td>0.9946</td>\n",
       "      <td>0.9961</td>\n",
       "      <td>0.9952</td>\n",
       "      <td>0.9949</td>\n",
       "    </tr>\n",
       "    <tr>\n",
       "      <th>4</th>\n",
       "      <td>Y2015</td>\n",
       "      <td>0.0055</td>\n",
       "      <td>0.0209</td>\n",
       "      <td>0.0239</td>\n",
       "      <td>0.9946</td>\n",
       "      <td>1.0000</td>\n",
       "      <td>0.9957</td>\n",
       "      <td>0.9880</td>\n",
       "      <td>0.9882</td>\n",
       "    </tr>\n",
       "    <tr>\n",
       "      <th>5</th>\n",
       "      <td>Y2016</td>\n",
       "      <td>0.0052</td>\n",
       "      <td>0.0201</td>\n",
       "      <td>0.0234</td>\n",
       "      <td>0.9961</td>\n",
       "      <td>0.9957</td>\n",
       "      <td>1.0000</td>\n",
       "      <td>0.9928</td>\n",
       "      <td>0.9928</td>\n",
       "    </tr>\n",
       "    <tr>\n",
       "      <th>6</th>\n",
       "      <td>Y2017</td>\n",
       "      <td>0.0050</td>\n",
       "      <td>0.0215</td>\n",
       "      <td>0.0243</td>\n",
       "      <td>0.9952</td>\n",
       "      <td>0.9880</td>\n",
       "      <td>0.9928</td>\n",
       "      <td>1.0000</td>\n",
       "      <td>0.9981</td>\n",
       "    </tr>\n",
       "    <tr>\n",
       "      <th>7</th>\n",
       "      <td>Y2018</td>\n",
       "      <td>0.0057</td>\n",
       "      <td>0.0213</td>\n",
       "      <td>0.0243</td>\n",
       "      <td>0.9949</td>\n",
       "      <td>0.9882</td>\n",
       "      <td>0.9928</td>\n",
       "      <td>0.9981</td>\n",
       "      <td>1.0000</td>\n",
       "    </tr>\n",
       "  </tbody>\n",
       "</table>\n",
       "</div>"
      ],
      "text/plain": [
       "          index  Area Code  Item Code  Element Code   Y2014   Y2015   Y2016  \\\n",
       "0     Area Code     1.0000    -0.0052       -0.0002  0.0062  0.0055  0.0052   \n",
       "1     Item Code    -0.0052     1.0000       -0.0247  0.0217  0.0209  0.0201   \n",
       "2  Element Code    -0.0002    -0.0247        1.0000  0.0245  0.0239  0.0234   \n",
       "3         Y2014     0.0062     0.0217        0.0245  1.0000  0.9946  0.9961   \n",
       "4         Y2015     0.0055     0.0209        0.0239  0.9946  1.0000  0.9957   \n",
       "5         Y2016     0.0052     0.0201        0.0234  0.9961  0.9957  1.0000   \n",
       "6         Y2017     0.0050     0.0215        0.0243  0.9952  0.9880  0.9928   \n",
       "7         Y2018     0.0057     0.0213        0.0243  0.9949  0.9882  0.9928   \n",
       "\n",
       "    Y2017   Y2018  \n",
       "0  0.0050  0.0057  \n",
       "1  0.0215  0.0213  \n",
       "2  0.0243  0.0243  \n",
       "3  0.9952  0.9949  \n",
       "4  0.9880  0.9882  \n",
       "5  0.9928  0.9928  \n",
       "6  1.0000  0.9981  \n",
       "7  0.9981  1.0000  "
      ]
     },
     "execution_count": 38,
     "metadata": {},
     "output_type": "execute_result"
    }
   ],
   "source": [
    "dff=round(df.corr().reset_index(),4)\n",
    "dff"
   ]
  },
  {
   "cell_type": "code",
   "execution_count": 50,
   "id": "29de6d5a",
   "metadata": {},
   "outputs": [
    {
     "data": {
      "text/html": [
       "<div>\n",
       "<style scoped>\n",
       "    .dataframe tbody tr th:only-of-type {\n",
       "        vertical-align: middle;\n",
       "    }\n",
       "\n",
       "    .dataframe tbody tr th {\n",
       "        vertical-align: top;\n",
       "    }\n",
       "\n",
       "    .dataframe thead th {\n",
       "        text-align: right;\n",
       "    }\n",
       "</style>\n",
       "<table border=\"1\" class=\"dataframe\">\n",
       "  <thead>\n",
       "    <tr style=\"text-align: right;\">\n",
       "      <th></th>\n",
       "      <th>correlation_against_element</th>\n",
       "      <th>column_def</th>\n",
       "    </tr>\n",
       "  </thead>\n",
       "  <tbody>\n",
       "    <tr>\n",
       "      <th>0</th>\n",
       "      <td>0.0245</td>\n",
       "      <td>Y2014</td>\n",
       "    </tr>\n",
       "  </tbody>\n",
       "</table>\n",
       "</div>"
      ],
      "text/plain": [
       "  correlation_against_element column_def\n",
       "0                      0.0245      Y2014"
      ]
     },
     "execution_count": 50,
     "metadata": {},
     "output_type": "execute_result"
    }
   ],
   "source": [
    "datap = np.array(dff.iloc[2][4:])\n",
    "datax = dff.columns[4:]\n",
    "\n",
    "a = pd.DataFrame(datap, columns=[\"correlation_against_element\"])\n",
    "b = pd.DataFrame(datax, columns=[\"column_def\"])\n",
    "corr_df = pd.concat([a, b], axis=1)\n",
    "corr_df[corr_df[\"correlation_against_element\"]==corr_df[\"correlation_against_element\"].max()]"
   ]
  },
  {
   "cell_type": "markdown",
   "id": "c0865e2d",
   "metadata": {},
   "source": [
    "# Question 5\n",
    "## What year has the highest sum of Import Quantity?\n",
    "\n",
    "Hint- Perform a groupby operation on ‘Element’ and use the resulting Dataframe to answer the question"
   ]
  },
  {
   "cell_type": "code",
   "execution_count": 23,
   "id": "8e80c9ef",
   "metadata": {},
   "outputs": [
    {
     "data": {
      "text/html": [
       "<div>\n",
       "<style scoped>\n",
       "    .dataframe tbody tr th:only-of-type {\n",
       "        vertical-align: middle;\n",
       "    }\n",
       "\n",
       "    .dataframe tbody tr th {\n",
       "        vertical-align: top;\n",
       "    }\n",
       "\n",
       "    .dataframe thead th {\n",
       "        text-align: right;\n",
       "    }\n",
       "</style>\n",
       "<table border=\"1\" class=\"dataframe\">\n",
       "  <thead>\n",
       "    <tr style=\"text-align: right;\">\n",
       "      <th></th>\n",
       "      <th>Area Code</th>\n",
       "      <th>Area</th>\n",
       "      <th>Item Code</th>\n",
       "      <th>Item</th>\n",
       "      <th>Element Code</th>\n",
       "      <th>Element</th>\n",
       "      <th>Unit</th>\n",
       "      <th>Y2014</th>\n",
       "      <th>Y2015</th>\n",
       "      <th>Y2016</th>\n",
       "      <th>Y2017</th>\n",
       "      <th>Y2018</th>\n",
       "    </tr>\n",
       "  </thead>\n",
       "  <tbody>\n",
       "    <tr>\n",
       "      <th>0</th>\n",
       "      <td>4</td>\n",
       "      <td>Algeria</td>\n",
       "      <td>2501</td>\n",
       "      <td>Population</td>\n",
       "      <td>511</td>\n",
       "      <td>Total Population - Both sexes</td>\n",
       "      <td>1000 persons</td>\n",
       "      <td>38924.0</td>\n",
       "      <td>39728.0</td>\n",
       "      <td>40551.0</td>\n",
       "      <td>41389.0</td>\n",
       "      <td>42228.0</td>\n",
       "    </tr>\n",
       "    <tr>\n",
       "      <th>1</th>\n",
       "      <td>4</td>\n",
       "      <td>Algeria</td>\n",
       "      <td>2501</td>\n",
       "      <td>Population</td>\n",
       "      <td>5301</td>\n",
       "      <td>Domestic supply quantity</td>\n",
       "      <td>1000 tonnes</td>\n",
       "      <td>0.0</td>\n",
       "      <td>0.0</td>\n",
       "      <td>0.0</td>\n",
       "      <td>0.0</td>\n",
       "      <td>0.0</td>\n",
       "    </tr>\n",
       "    <tr>\n",
       "      <th>2</th>\n",
       "      <td>4</td>\n",
       "      <td>Algeria</td>\n",
       "      <td>2901</td>\n",
       "      <td>Grand Total</td>\n",
       "      <td>664</td>\n",
       "      <td>Food supply (kcal/capita/day)</td>\n",
       "      <td>kcal/capita/day</td>\n",
       "      <td>3377.0</td>\n",
       "      <td>3379.0</td>\n",
       "      <td>3372.0</td>\n",
       "      <td>3341.0</td>\n",
       "      <td>3322.0</td>\n",
       "    </tr>\n",
       "  </tbody>\n",
       "</table>\n",
       "</div>"
      ],
      "text/plain": [
       "   Area Code     Area  Item Code         Item  Element Code  \\\n",
       "0          4  Algeria       2501   Population           511   \n",
       "1          4  Algeria       2501   Population          5301   \n",
       "2          4  Algeria       2901  Grand Total           664   \n",
       "\n",
       "                         Element             Unit    Y2014    Y2015    Y2016  \\\n",
       "0  Total Population - Both sexes     1000 persons  38924.0  39728.0  40551.0   \n",
       "1       Domestic supply quantity      1000 tonnes      0.0      0.0      0.0   \n",
       "2  Food supply (kcal/capita/day)  kcal/capita/day   3377.0   3379.0   3372.0   \n",
       "\n",
       "     Y2017    Y2018  \n",
       "0  41389.0  42228.0  \n",
       "1      0.0      0.0  \n",
       "2   3341.0   3322.0  "
      ]
     },
     "execution_count": 23,
     "metadata": {},
     "output_type": "execute_result"
    }
   ],
   "source": [
    "df.head(3)"
   ]
  },
  {
   "cell_type": "code",
   "execution_count": 24,
   "id": "556d15c7",
   "metadata": {},
   "outputs": [
    {
     "data": {
      "text/plain": [
       "Index(['Area Code', 'Area', 'Item Code', 'Item', 'Element Code', 'Element',\n",
       "       'Unit', 'Y2014', 'Y2015', 'Y2016', 'Y2017', 'Y2018'],\n",
       "      dtype='object')"
      ]
     },
     "execution_count": 24,
     "metadata": {},
     "output_type": "execute_result"
    }
   ],
   "source": [
    "df.columns"
   ]
  },
  {
   "cell_type": "code",
   "execution_count": 25,
   "id": "a061483f",
   "metadata": {},
   "outputs": [
    {
     "data": {
      "text/html": [
       "<div>\n",
       "<style scoped>\n",
       "    .dataframe tbody tr th:only-of-type {\n",
       "        vertical-align: middle;\n",
       "    }\n",
       "\n",
       "    .dataframe tbody tr th {\n",
       "        vertical-align: top;\n",
       "    }\n",
       "\n",
       "    .dataframe thead th {\n",
       "        text-align: right;\n",
       "    }\n",
       "</style>\n",
       "<table border=\"1\" class=\"dataframe\">\n",
       "  <thead>\n",
       "    <tr style=\"text-align: right;\">\n",
       "      <th>Element</th>\n",
       "      <th>Import Quantity</th>\n",
       "    </tr>\n",
       "  </thead>\n",
       "  <tbody>\n",
       "    <tr>\n",
       "      <th>Y2017</th>\n",
       "      <td>294559.09</td>\n",
       "    </tr>\n",
       "    <tr>\n",
       "      <th>Y2018</th>\n",
       "      <td>287997.09</td>\n",
       "    </tr>\n",
       "    <tr>\n",
       "      <th>Y2016</th>\n",
       "      <td>286582.78</td>\n",
       "    </tr>\n",
       "    <tr>\n",
       "      <th>Y2014</th>\n",
       "      <td>274144.48</td>\n",
       "    </tr>\n",
       "    <tr>\n",
       "      <th>Y2015</th>\n",
       "      <td>267018.46</td>\n",
       "    </tr>\n",
       "  </tbody>\n",
       "</table>\n",
       "</div>"
      ],
      "text/plain": [
       "Element  Import Quantity\n",
       "Y2017          294559.09\n",
       "Y2018          287997.09\n",
       "Y2016          286582.78\n",
       "Y2014          274144.48\n",
       "Y2015          267018.46"
      ]
     },
     "execution_count": 25,
     "metadata": {},
     "output_type": "execute_result"
    }
   ],
   "source": [
    "import_qty = df[['Element', 'Y2014', 'Y2015', 'Y2016', 'Y2017', 'Y2018']]\n",
    "import_qty = import_qty.query(\"Element == 'Import Quantity'\")\n",
    "result = import_qty.groupby(\"Element\")[['Y2014', 'Y2015', 'Y2016', 'Y2017', 'Y2018']].sum()\n",
    "result=result\n",
    "result_transposed = result.T # or result.transpose()\\\n",
    "result_transposed\n",
    "result_transposed.sort_values(by= \"Import Quantity\", ascending=False, inplace=False)\n",
    "\n",
    "# cols = df_res.columns\n",
    "# df_val = np.array(df_res.iloc[0])\n",
    "# a = cols[1:]\n",
    "# b = df_val[1:]\n",
    "\n",
    "# year_val = pd.DataFrame(a, columns =[\"year\"])\n",
    "# qty_val = pd.DataFrame(b, columns=[\"qty\"])\n",
    "# new_pd = pd.concat([year_val, qty_val], axis = 1)\n",
    "# max_qty = new_pd[\"qty\"].max()\n",
    "# new_pd[new_pd[\"qty\"] == max_qty]"
   ]
  },
  {
   "cell_type": "markdown",
   "id": "642eccfa",
   "metadata": {},
   "source": [
    "# Question 6\n",
    "## What is the total number of the sum of Production in 2014?\n",
    "\n",
    "Hint- Perform a groupby operation on ‘Element’ and use the resulting Dataframe to answer the question"
   ]
  },
  {
   "cell_type": "code",
   "execution_count": 26,
   "id": "99d4f1e3",
   "metadata": {
    "scrolled": true
   },
   "outputs": [
    {
     "data": {
      "text/plain": [
       "Element\n",
       "Domestic supply quantity                  1996716.35\n",
       "Export Quantity                            150020.64\n",
       "Fat supply quantity (g/capita/day)          10225.56\n",
       "Feed                                       216927.89\n",
       "Food                                      1212332.49\n",
       "Food supply (kcal/capita/day)              454257.00\n",
       "Food supply quantity (kg/capita/yr)         49650.63\n",
       "Import Quantity                            274144.48\n",
       "Losses                                     153223.00\n",
       "Other uses (non-food)                       78718.13\n",
       "Processing                                 282923.00\n",
       "Production                                1931287.75\n",
       "Protein supply quantity (g/capita/day)      11836.46\n",
       "Residuals                                   30149.00\n",
       "Seed                                        21922.92\n",
       "Stock Variation                             58749.83\n",
       "Total Population - Both sexes             1031585.00\n",
       "Tourist consumption                           416.00\n",
       "Name: Y2014, dtype: float64"
      ]
     },
     "execution_count": 26,
     "metadata": {},
     "output_type": "execute_result"
    }
   ],
   "source": [
    "sum_df = df.groupby(\"Element\")[\"Y2014\"].sum()\n",
    "sum_df"
   ]
  },
  {
   "cell_type": "markdown",
   "id": "da302898",
   "metadata": {},
   "source": [
    "# Or"
   ]
  },
  {
   "cell_type": "code",
   "execution_count": 27,
   "id": "01513e93",
   "metadata": {},
   "outputs": [
    {
     "data": {
      "text/plain": [
       "Element    ProductionProductionProductionProductionProduc...\n",
       "Y2014                                             1931287.75\n",
       "dtype: object"
      ]
     },
     "execution_count": 27,
     "metadata": {},
     "output_type": "execute_result"
    }
   ],
   "source": [
    "dff = df[[\"Element\", \"Y2014\"]]\n",
    "prod_df = dff.query(\"Element == 'Production'\")\n",
    "prod_df.sum()"
   ]
  },
  {
   "cell_type": "markdown",
   "id": "86eb9c21",
   "metadata": {},
   "source": [
    "# Question 7\n",
    "## Which of these elements had the highest sum in 2018?\n",
    "\n",
    "Hint-  Select columns ‘Y2018’ and ‘Element’, Perform a groupby operation on ‘Element’ on the selected dataframe and answer\n",
    "the  question."
   ]
  },
  {
   "cell_type": "code",
   "execution_count": 28,
   "id": "7d9b2283",
   "metadata": {},
   "outputs": [
    {
     "data": {
      "text/plain": [
       "Element\n",
       "Domestic supply quantity                  2161192.10\n",
       "Production                                2075072.89\n",
       "Food                                      1303841.28\n",
       "Total Population - Both sexes             1140605.00\n",
       "Food supply (kcal/capita/day)              455261.00\n",
       "Processing                                 308429.00\n",
       "Import Quantity                            287997.09\n",
       "Feed                                       233489.68\n",
       "Export Quantity                            181594.80\n",
       "Losses                                     163902.00\n",
       "Other uses (non-food)                       91300.97\n",
       "Food supply quantity (kg/capita/yr)         49056.85\n",
       "Residuals                                   34864.00\n",
       "Seed                                        25263.14\n",
       "Stock Variation                             20577.91\n",
       "Protein supply quantity (g/capita/day)      11833.56\n",
       "Fat supply quantity (g/capita/day)          10258.69\n",
       "Tourist consumption                            90.00\n",
       "Name: Y2018, dtype: float64"
      ]
     },
     "execution_count": 28,
     "metadata": {},
     "output_type": "execute_result"
    }
   ],
   "source": [
    "high_sum = df.groupby(\"Element\")[\"Y2018\"].sum()\n",
    "high_sum.sort_values(ascending=False)"
   ]
  },
  {
   "cell_type": "markdown",
   "id": "9d02f583",
   "metadata": {},
   "source": [
    "# Question 8\n",
    "## Which of these elements had the 3rd lowest sum in 2018?\n",
    "\n",
    "Hint-  Select columns ‘Y2018’ and ‘Element’, Perform a groupby operation on ‘Element’ on the selected dataframe and answer the  question.  "
   ]
  },
  {
   "cell_type": "code",
   "execution_count": 49,
   "id": "64c98b67",
   "metadata": {
    "scrolled": true
   },
   "outputs": [
    {
     "data": {
      "text/html": [
       "<div>\n",
       "<style scoped>\n",
       "    .dataframe tbody tr th:only-of-type {\n",
       "        vertical-align: middle;\n",
       "    }\n",
       "\n",
       "    .dataframe tbody tr th {\n",
       "        vertical-align: top;\n",
       "    }\n",
       "\n",
       "    .dataframe thead th {\n",
       "        text-align: right;\n",
       "    }\n",
       "</style>\n",
       "<table border=\"1\" class=\"dataframe\">\n",
       "  <thead>\n",
       "    <tr style=\"text-align: right;\">\n",
       "      <th></th>\n",
       "      <th>Element</th>\n",
       "      <th>Y2018</th>\n",
       "    </tr>\n",
       "  </thead>\n",
       "  <tbody>\n",
       "    <tr>\n",
       "      <th>0</th>\n",
       "      <td>Tourist consumption</td>\n",
       "      <td>90.00</td>\n",
       "    </tr>\n",
       "    <tr>\n",
       "      <th>1</th>\n",
       "      <td>Fat supply quantity (g/capita/day)</td>\n",
       "      <td>10258.69</td>\n",
       "    </tr>\n",
       "    <tr>\n",
       "      <th>2</th>\n",
       "      <td>Protein supply quantity (g/capita/day)</td>\n",
       "      <td>11833.56</td>\n",
       "    </tr>\n",
       "    <tr>\n",
       "      <th>3</th>\n",
       "      <td>Stock Variation</td>\n",
       "      <td>20577.91</td>\n",
       "    </tr>\n",
       "    <tr>\n",
       "      <th>4</th>\n",
       "      <td>Seed</td>\n",
       "      <td>25263.14</td>\n",
       "    </tr>\n",
       "    <tr>\n",
       "      <th>5</th>\n",
       "      <td>Residuals</td>\n",
       "      <td>34864.00</td>\n",
       "    </tr>\n",
       "    <tr>\n",
       "      <th>6</th>\n",
       "      <td>Food supply quantity (kg/capita/yr)</td>\n",
       "      <td>49056.85</td>\n",
       "    </tr>\n",
       "    <tr>\n",
       "      <th>7</th>\n",
       "      <td>Other uses (non-food)</td>\n",
       "      <td>91300.97</td>\n",
       "    </tr>\n",
       "    <tr>\n",
       "      <th>8</th>\n",
       "      <td>Losses</td>\n",
       "      <td>163902.00</td>\n",
       "    </tr>\n",
       "    <tr>\n",
       "      <th>9</th>\n",
       "      <td>Export Quantity</td>\n",
       "      <td>181594.80</td>\n",
       "    </tr>\n",
       "    <tr>\n",
       "      <th>10</th>\n",
       "      <td>Feed</td>\n",
       "      <td>233489.68</td>\n",
       "    </tr>\n",
       "    <tr>\n",
       "      <th>11</th>\n",
       "      <td>Import Quantity</td>\n",
       "      <td>287997.09</td>\n",
       "    </tr>\n",
       "    <tr>\n",
       "      <th>12</th>\n",
       "      <td>Processing</td>\n",
       "      <td>308429.00</td>\n",
       "    </tr>\n",
       "    <tr>\n",
       "      <th>13</th>\n",
       "      <td>Food supply (kcal/capita/day)</td>\n",
       "      <td>455261.00</td>\n",
       "    </tr>\n",
       "    <tr>\n",
       "      <th>14</th>\n",
       "      <td>Total Population - Both sexes</td>\n",
       "      <td>1140605.00</td>\n",
       "    </tr>\n",
       "    <tr>\n",
       "      <th>15</th>\n",
       "      <td>Food</td>\n",
       "      <td>1303841.28</td>\n",
       "    </tr>\n",
       "    <tr>\n",
       "      <th>16</th>\n",
       "      <td>Production</td>\n",
       "      <td>2075072.89</td>\n",
       "    </tr>\n",
       "    <tr>\n",
       "      <th>17</th>\n",
       "      <td>Domestic supply quantity</td>\n",
       "      <td>2161192.10</td>\n",
       "    </tr>\n",
       "  </tbody>\n",
       "</table>\n",
       "</div>"
      ],
      "text/plain": [
       "                                   Element       Y2018\n",
       "0                      Tourist consumption       90.00\n",
       "1       Fat supply quantity (g/capita/day)    10258.69\n",
       "2   Protein supply quantity (g/capita/day)    11833.56\n",
       "3                          Stock Variation    20577.91\n",
       "4                                     Seed    25263.14\n",
       "5                                Residuals    34864.00\n",
       "6      Food supply quantity (kg/capita/yr)    49056.85\n",
       "7                    Other uses (non-food)    91300.97\n",
       "8                                   Losses   163902.00\n",
       "9                          Export Quantity   181594.80\n",
       "10                                    Feed   233489.68\n",
       "11                         Import Quantity   287997.09\n",
       "12                              Processing   308429.00\n",
       "13           Food supply (kcal/capita/day)   455261.00\n",
       "14           Total Population - Both sexes  1140605.00\n",
       "15                                    Food  1303841.28\n",
       "16                              Production  2075072.89\n",
       "17                Domestic supply quantity  2161192.10"
      ]
     },
     "execution_count": 49,
     "metadata": {},
     "output_type": "execute_result"
    }
   ],
   "source": [
    "least_sum = df.groupby(\"Element\")[\"Y2018\"].sum()\n",
    "least_sum = least_sum.sort_values().reset_index()\n",
    "least_sum\n",
    "#least_sum.iloc[2]"
   ]
  },
  {
   "cell_type": "markdown",
   "id": "77e4afc7",
   "metadata": {},
   "source": [
    "# Question 9\n",
    "## What is the total Import Quantity in Algeria in 2018?"
   ]
  },
  {
   "cell_type": "code",
   "execution_count": 30,
   "id": "7c724df2",
   "metadata": {},
   "outputs": [
    {
     "data": {
      "text/plain": [
       "Index(['Area Code', 'Area', 'Item Code', 'Item', 'Element Code', 'Element',\n",
       "       'Unit', 'Y2014', 'Y2015', 'Y2016', 'Y2017', 'Y2018'],\n",
       "      dtype='object')"
      ]
     },
     "execution_count": 30,
     "metadata": {},
     "output_type": "execute_result"
    }
   ],
   "source": [
    "df.columns"
   ]
  },
  {
   "cell_type": "code",
   "execution_count": 31,
   "id": "63231162",
   "metadata": {},
   "outputs": [
    {
     "data": {
      "text/html": [
       "<div>\n",
       "<style scoped>\n",
       "    .dataframe tbody tr th:only-of-type {\n",
       "        vertical-align: middle;\n",
       "    }\n",
       "\n",
       "    .dataframe tbody tr th {\n",
       "        vertical-align: top;\n",
       "    }\n",
       "\n",
       "    .dataframe thead th {\n",
       "        text-align: right;\n",
       "    }\n",
       "</style>\n",
       "<table border=\"1\" class=\"dataframe\">\n",
       "  <thead>\n",
       "    <tr style=\"text-align: right;\">\n",
       "      <th></th>\n",
       "      <th>Area Code</th>\n",
       "      <th>Area</th>\n",
       "      <th>Item Code</th>\n",
       "      <th>Item</th>\n",
       "      <th>Element Code</th>\n",
       "      <th>Element</th>\n",
       "      <th>Unit</th>\n",
       "      <th>Y2014</th>\n",
       "      <th>Y2015</th>\n",
       "      <th>Y2016</th>\n",
       "      <th>Y2017</th>\n",
       "      <th>Y2018</th>\n",
       "    </tr>\n",
       "  </thead>\n",
       "  <tbody>\n",
       "    <tr>\n",
       "      <th>0</th>\n",
       "      <td>4</td>\n",
       "      <td>Algeria</td>\n",
       "      <td>2501</td>\n",
       "      <td>Population</td>\n",
       "      <td>511</td>\n",
       "      <td>Total Population - Both sexes</td>\n",
       "      <td>1000 persons</td>\n",
       "      <td>38924.0</td>\n",
       "      <td>39728.00</td>\n",
       "      <td>40551.00</td>\n",
       "      <td>41389.00</td>\n",
       "      <td>42228.00</td>\n",
       "    </tr>\n",
       "    <tr>\n",
       "      <th>1</th>\n",
       "      <td>4</td>\n",
       "      <td>Algeria</td>\n",
       "      <td>2501</td>\n",
       "      <td>Population</td>\n",
       "      <td>5301</td>\n",
       "      <td>Domestic supply quantity</td>\n",
       "      <td>1000 tonnes</td>\n",
       "      <td>0.0</td>\n",
       "      <td>0.00</td>\n",
       "      <td>0.00</td>\n",
       "      <td>0.00</td>\n",
       "      <td>0.00</td>\n",
       "    </tr>\n",
       "    <tr>\n",
       "      <th>2</th>\n",
       "      <td>4</td>\n",
       "      <td>Algeria</td>\n",
       "      <td>2901</td>\n",
       "      <td>Grand Total</td>\n",
       "      <td>664</td>\n",
       "      <td>Food supply (kcal/capita/day)</td>\n",
       "      <td>kcal/capita/day</td>\n",
       "      <td>3377.0</td>\n",
       "      <td>3379.00</td>\n",
       "      <td>3372.00</td>\n",
       "      <td>3341.00</td>\n",
       "      <td>3322.00</td>\n",
       "    </tr>\n",
       "    <tr>\n",
       "      <th>3</th>\n",
       "      <td>4</td>\n",
       "      <td>Algeria</td>\n",
       "      <td>2901</td>\n",
       "      <td>Grand Total</td>\n",
       "      <td>674</td>\n",
       "      <td>Protein supply quantity (g/capita/day)</td>\n",
       "      <td>g/capita/day</td>\n",
       "      <td>94.9</td>\n",
       "      <td>94.35</td>\n",
       "      <td>94.72</td>\n",
       "      <td>92.82</td>\n",
       "      <td>91.83</td>\n",
       "    </tr>\n",
       "  </tbody>\n",
       "</table>\n",
       "</div>"
      ],
      "text/plain": [
       "   Area Code     Area  Item Code         Item  Element Code  \\\n",
       "0          4  Algeria       2501   Population           511   \n",
       "1          4  Algeria       2501   Population          5301   \n",
       "2          4  Algeria       2901  Grand Total           664   \n",
       "3          4  Algeria       2901  Grand Total           674   \n",
       "\n",
       "                                  Element             Unit    Y2014     Y2015  \\\n",
       "0           Total Population - Both sexes     1000 persons  38924.0  39728.00   \n",
       "1                Domestic supply quantity      1000 tonnes      0.0      0.00   \n",
       "2           Food supply (kcal/capita/day)  kcal/capita/day   3377.0   3379.00   \n",
       "3  Protein supply quantity (g/capita/day)     g/capita/day     94.9     94.35   \n",
       "\n",
       "      Y2016     Y2017     Y2018  \n",
       "0  40551.00  41389.00  42228.00  \n",
       "1      0.00      0.00      0.00  \n",
       "2   3372.00   3341.00   3322.00  \n",
       "3     94.72     92.82     91.83  "
      ]
     },
     "execution_count": 31,
     "metadata": {},
     "output_type": "execute_result"
    }
   ],
   "source": [
    "df.head(4)"
   ]
  },
  {
   "cell_type": "code",
   "execution_count": 32,
   "id": "fb44ab79",
   "metadata": {},
   "outputs": [
    {
     "data": {
      "text/plain": [
       "Area       AlgeriaAlgeriaAlgeriaAlgeriaAlgeriaAlgeriaAlge...\n",
       "Element    Import QuantityImport QuantityImport QuantityI...\n",
       "Y2018                                               36238.29\n",
       "dtype: object"
      ]
     },
     "execution_count": 32,
     "metadata": {},
     "output_type": "execute_result"
    }
   ],
   "source": [
    "import_df = df[['Area', \"Element\", 'Y2018']]\n",
    "import_df.loc[(import_df['Area'] == \"Algeria\") & (import_df['Element'] == \"Import Quantity\")].sum()\n"
   ]
  },
  {
   "cell_type": "markdown",
   "id": "b42aed74",
   "metadata": {},
   "source": [
    "# Question 10\n",
    "## What is the total number of unique countries in the dataset?"
   ]
  },
  {
   "cell_type": "code",
   "execution_count": 33,
   "id": "1b450c3a",
   "metadata": {},
   "outputs": [
    {
     "data": {
      "text/plain": [
       "Kenya                          1560\n",
       "Egypt                          1488\n",
       "Nigeria                        1474\n",
       "Côte d'Ivoire                  1467\n",
       "Senegal                        1462\n",
       "Cameroon                       1460\n",
       "Uganda                         1458\n",
       "Zambia                         1451\n",
       "Malawi                         1447\n",
       "Ethiopia                       1447\n",
       "Madagascar                     1439\n",
       "Mozambique                     1427\n",
       "Rwanda                         1426\n",
       "Angola                         1424\n",
       "United Republic of Tanzania    1419\n",
       "Congo                          1413\n",
       "Guinea                         1410\n",
       "Burkina Faso                   1409\n",
       "Niger                          1403\n",
       "South Africa                   1399\n",
       "Zimbabwe                       1393\n",
       "Morocco                        1393\n",
       "Mauritius                      1378\n",
       "Botswana                       1378\n",
       "Ghana                          1354\n",
       "Central African Republic       1344\n",
       "Chad                           1343\n",
       "Tunisia                        1338\n",
       "Sudan                          1316\n",
       "Algeria                        1313\n",
       "Togo                           1294\n",
       "Mali                           1293\n",
       "Benin                          1285\n",
       "Eswatini                       1284\n",
       "Namibia                        1283\n",
       "Cabo Verde                     1260\n",
       "Gabon                          1245\n",
       "Sierra Leone                   1242\n",
       "Liberia                        1206\n",
       "Mauritania                     1195\n",
       "Sao Tome and Principe          1177\n",
       "Gambia                         1168\n",
       "Lesotho                        1150\n",
       "Guinea-Bissau                  1128\n",
       "Djibouti                       1095\n",
       "Seychelles                       68\n",
       "Sudan (former)                   53\n",
       "Comoros                          45\n",
       "Ethiopia PDR                     39\n",
       "Name: Area, dtype: int64"
      ]
     },
     "execution_count": 33,
     "metadata": {},
     "output_type": "execute_result"
    }
   ],
   "source": [
    "df.Area.value_counts()"
   ]
  },
  {
   "cell_type": "code",
   "execution_count": null,
   "id": "171c3fe3",
   "metadata": {},
   "outputs": [],
   "source": []
  }
 ],
 "metadata": {
  "kernelspec": {
   "display_name": "Python 3 (ipykernel)",
   "language": "python",
   "name": "python3"
  },
  "language_info": {
   "codemirror_mode": {
    "name": "ipython",
    "version": 3
   },
   "file_extension": ".py",
   "mimetype": "text/x-python",
   "name": "python",
   "nbconvert_exporter": "python",
   "pygments_lexer": "ipython3",
   "version": "3.9.7"
  }
 },
 "nbformat": 4,
 "nbformat_minor": 5
}
