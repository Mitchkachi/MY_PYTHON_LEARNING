{
 "cells": [
  {
   "cell_type": "code",
   "execution_count": 2,
   "id": "ee4f118d",
   "metadata": {},
   "outputs": [
    {
     "name": "stdout",
     "output_type": "stream",
     "text": [
      "This is my first program\n"
     ]
    }
   ],
   "source": [
    "print(\"This is my first program\")"
   ]
  },
  {
   "cell_type": "code",
   "execution_count": 3,
   "id": "79e6f244",
   "metadata": {},
   "outputs": [
    {
     "name": "stdout",
     "output_type": "stream",
     "text": [
      "Now, i will learn python\n"
     ]
    }
   ],
   "source": [
    "print(\"Now, i will learn python\")"
   ]
  },
  {
   "cell_type": "code",
   "execution_count": 4,
   "id": "5abc63c6",
   "metadata": {},
   "outputs": [],
   "source": [
    "#the above statement is meant for first program"
   ]
  },
  {
   "cell_type": "code",
   "execution_count": 8,
   "id": "acbf16d6",
   "metadata": {},
   "outputs": [],
   "source": [
    "# the above statement is meant for first program\n",
    "# select all then ctrl plus slash to comment or uncomment multiple lines"
   ]
  },
  {
   "cell_type": "code",
   "execution_count": 6,
   "id": "5009c68b",
   "metadata": {},
   "outputs": [
    {
     "name": "stdout",
     "output_type": "stream",
     "text": [
      "14\n"
     ]
    }
   ],
   "source": [
    "print(10 + 4)"
   ]
  },
  {
   "cell_type": "code",
   "execution_count": 7,
   "id": "01d87c74",
   "metadata": {},
   "outputs": [
    {
     "name": "stdout",
     "output_type": "stream",
     "text": [
      "2\n"
     ]
    }
   ],
   "source": [
    "print(10 // 4)"
   ]
  },
  {
   "cell_type": "code",
   "execution_count": 9,
   "id": "e118e6f1",
   "metadata": {},
   "outputs": [
    {
     "name": "stdout",
     "output_type": "stream",
     "text": [
      "2\n"
     ]
    }
   ],
   "source": [
    "print(10 % 4)"
   ]
  },
  {
   "cell_type": "code",
   "execution_count": 10,
   "id": "966a08f9",
   "metadata": {},
   "outputs": [
    {
     "data": {
      "text/plain": [
       "int"
      ]
     },
     "execution_count": 10,
     "metadata": {},
     "output_type": "execute_result"
    }
   ],
   "source": [
    "x = 10\n",
    "type(x)"
   ]
  },
  {
   "cell_type": "code",
   "execution_count": 12,
   "id": "65a45b07",
   "metadata": {},
   "outputs": [
    {
     "data": {
      "text/plain": [
       "bool"
      ]
     },
     "execution_count": 12,
     "metadata": {},
     "output_type": "execute_result"
    }
   ],
   "source": [
    "x = True\n",
    "type(x)"
   ]
  },
  {
   "cell_type": "code",
   "execution_count": 14,
   "id": "8802c48b",
   "metadata": {},
   "outputs": [],
   "source": [
    "x = 3 + 2j"
   ]
  },
  {
   "cell_type": "code",
   "execution_count": 15,
   "id": "13a11d06",
   "metadata": {},
   "outputs": [
    {
     "data": {
      "text/plain": [
       "complex"
      ]
     },
     "execution_count": 15,
     "metadata": {},
     "output_type": "execute_result"
    }
   ],
   "source": [
    "type(x)"
   ]
  },
  {
   "cell_type": "code",
   "execution_count": 16,
   "id": "702cef10",
   "metadata": {},
   "outputs": [],
   "source": [
    "x = [1, 2, 3, 'hello']"
   ]
  },
  {
   "cell_type": "code",
   "execution_count": 17,
   "id": "d5ea0c44",
   "metadata": {},
   "outputs": [
    {
     "data": {
      "text/plain": [
       "list"
      ]
     },
     "execution_count": 17,
     "metadata": {},
     "output_type": "execute_result"
    }
   ],
   "source": [
    "type(x)"
   ]
  },
  {
   "cell_type": "code",
   "execution_count": 18,
   "id": "60c2af23",
   "metadata": {},
   "outputs": [
    {
     "data": {
      "text/plain": [
       "tuple"
      ]
     },
     "execution_count": 18,
     "metadata": {},
     "output_type": "execute_result"
    }
   ],
   "source": [
    "x = (1, 2, 3, 'hello')\n",
    "type(x)"
   ]
  },
  {
   "cell_type": "code",
   "execution_count": 19,
   "id": "11010cdd",
   "metadata": {},
   "outputs": [
    {
     "data": {
      "text/plain": [
       "set"
      ]
     },
     "execution_count": 19,
     "metadata": {},
     "output_type": "execute_result"
    }
   ],
   "source": [
    "x = {1, 2, 3, 'hello'}\n",
    "type(x)"
   ]
  },
  {
   "cell_type": "code",
   "execution_count": 21,
   "id": "9d0460d0",
   "metadata": {},
   "outputs": [
    {
     "data": {
      "text/plain": [
       "dict"
      ]
     },
     "execution_count": 21,
     "metadata": {},
     "output_type": "execute_result"
    }
   ],
   "source": [
    "x = {'black': 11, 'blue': 12, 'green': 13}\n",
    "type(x)"
   ]
  },
  {
   "cell_type": "markdown",
   "id": "75a60dec",
   "metadata": {},
   "source": [
    "# user input and print statement"
   ]
  },
  {
   "cell_type": "code",
   "execution_count": 22,
   "id": "8ea88681",
   "metadata": {},
   "outputs": [
    {
     "name": "stdout",
     "output_type": "stream",
     "text": [
      "10\n"
     ]
    },
    {
     "data": {
      "text/plain": [
       "'10'"
      ]
     },
     "execution_count": 22,
     "metadata": {},
     "output_type": "execute_result"
    }
   ],
   "source": [
    "input()"
   ]
  },
  {
   "cell_type": "code",
   "execution_count": 28,
   "id": "55586563",
   "metadata": {},
   "outputs": [
    {
     "name": "stdout",
     "output_type": "stream",
     "text": [
      "enter ur age 22\n"
     ]
    },
    {
     "data": {
      "text/plain": [
       "'22'"
      ]
     },
     "execution_count": 28,
     "metadata": {},
     "output_type": "execute_result"
    }
   ],
   "source": [
    "input('enter ur age ')"
   ]
  },
  {
   "cell_type": "code",
   "execution_count": 29,
   "id": "86e75687",
   "metadata": {},
   "outputs": [
    {
     "name": "stdout",
     "output_type": "stream",
     "text": [
      "enter ur age: 22\n"
     ]
    }
   ],
   "source": [
    "x = int(input('enter ur age: '))"
   ]
  },
  {
   "cell_type": "code",
   "execution_count": 27,
   "id": "1e144037",
   "metadata": {},
   "outputs": [
    {
     "name": "stdout",
     "output_type": "stream",
     "text": [
      "22\n"
     ]
    }
   ],
   "source": [
    "print(x)"
   ]
  },
  {
   "cell_type": "code",
   "execution_count": 30,
   "id": "50b170c2",
   "metadata": {},
   "outputs": [
    {
     "name": "stdout",
     "output_type": "stream",
     "text": [
      "my age is 22\n"
     ]
    }
   ],
   "source": [
    "print('my age is', x)"
   ]
  },
  {
   "cell_type": "code",
   "execution_count": 31,
   "id": "051dee79",
   "metadata": {},
   "outputs": [],
   "source": [
    "#formatting print statements"
   ]
  },
  {
   "cell_type": "code",
   "execution_count": 32,
   "id": "72d19691",
   "metadata": {},
   "outputs": [
    {
     "name": "stdout",
     "output_type": "stream",
     "text": [
      "Sam : enter your age: 22\n"
     ]
    }
   ],
   "source": [
    "age = int(input('Sam : enter your age: '))\n",
    "x = age + 30"
   ]
  },
  {
   "cell_type": "code",
   "execution_count": 33,
   "id": "f8699198",
   "metadata": {},
   "outputs": [
    {
     "name": "stdout",
     "output_type": "stream",
     "text": [
      "52\n"
     ]
    }
   ],
   "source": [
    "print(x)"
   ]
  },
  {
   "cell_type": "code",
   "execution_count": 35,
   "id": "8c443aa0",
   "metadata": {},
   "outputs": [
    {
     "name": "stdout",
     "output_type": "stream",
     "text": [
      "sam is 22 years old and his dad is 52 years old\n"
     ]
    }
   ],
   "source": [
    "print(\"sam is\",age,\"years old and his dad is\",x,\"years old\")"
   ]
  },
  {
   "cell_type": "code",
   "execution_count": 37,
   "id": "f40e32b2",
   "metadata": {},
   "outputs": [
    {
     "name": "stdout",
     "output_type": "stream",
     "text": [
      "sam is 22 years old and his dad is 52 years old\n"
     ]
    }
   ],
   "source": [
    "print(\"sam is {a} years old and his dad is {b} years old\" . format(a=age, b=x))"
   ]
  },
  {
   "cell_type": "code",
   "execution_count": 40,
   "id": "8ca907df",
   "metadata": {},
   "outputs": [
    {
     "name": "stdout",
     "output_type": "stream",
     "text": [
      "sam is 22 years old and his dad is 52 years old\n"
     ]
    }
   ],
   "source": [
    "print(\"sam is {0} years old and his dad is {1} years old\" . format(age,x))"
   ]
  },
  {
   "cell_type": "code",
   "execution_count": 41,
   "id": "193ed29f",
   "metadata": {},
   "outputs": [
    {
     "name": "stdout",
     "output_type": "stream",
     "text": [
      "sam is 22 years old and his dad is 52 years old\n"
     ]
    }
   ],
   "source": [
    "print(\"sam is {} years old and his dad is {} years old\" . format(age,x))"
   ]
  },
  {
   "cell_type": "code",
   "execution_count": 42,
   "id": "8d8a2d22",
   "metadata": {},
   "outputs": [
    {
     "data": {
      "text/plain": [
       "5"
      ]
     },
     "execution_count": 42,
     "metadata": {},
     "output_type": "execute_result"
    }
   ],
   "source": [
    "5%10"
   ]
  },
  {
   "cell_type": "code",
   "execution_count": null,
   "id": "a273f350",
   "metadata": {},
   "outputs": [],
   "source": []
  }
 ],
 "metadata": {
  "kernelspec": {
   "display_name": "Python 3 (ipykernel)",
   "language": "python",
   "name": "python3"
  },
  "language_info": {
   "codemirror_mode": {
    "name": "ipython",
    "version": 3
   },
   "file_extension": ".py",
   "mimetype": "text/x-python",
   "name": "python",
   "nbconvert_exporter": "python",
   "pygments_lexer": "ipython3",
   "version": "3.9.7"
  }
 },
 "nbformat": 4,
 "nbformat_minor": 5
}
