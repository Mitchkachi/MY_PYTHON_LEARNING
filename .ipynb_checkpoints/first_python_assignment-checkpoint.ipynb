{
 "cells": [
  {
   "cell_type": "code",
   "execution_count": 1,
   "id": "d9e53901",
   "metadata": {},
   "outputs": [],
   "source": [
    "import random\n"
   ]
  },
  {
   "cell_type": "markdown",
   "id": "151b67f1",
   "metadata": {},
   "source": [
    "#### 1) GENERATE AND PRINT 50 RANDOM INTERGERS EACH BETWEEN 3 AND 6"
   ]
  },
  {
   "cell_type": "code",
   "execution_count": 22,
   "id": "3f8ade87",
   "metadata": {},
   "outputs": [
    {
     "name": "stdout",
     "output_type": "stream",
     "text": [
      "6 6 6 6 6 5 6 3 6 4 6 5 6 6 3 5 4 3 6 4 5 5 5 3 5 3 6 3 5 4 5 4 5 3 6 3 3 6 5 6 4 5 4 6 3 5 5 3 5 3 "
     ]
    }
   ],
   "source": [
    "for i in range(0, 50):\n",
    "    sam = random.randint(3, 6)\n",
    "    print(sam, end=\" \")"
   ]
  },
  {
   "cell_type": "markdown",
   "id": "6d55f344",
   "metadata": {},
   "source": [
    "#### 2) GENERATE AND PRINT a RANDOM number (x) between 1 and 50, a RANDOM number (y) between 2 and 5 and compute x**y"
   ]
  },
  {
   "cell_type": "code",
   "execution_count": 13,
   "id": "d0eaeb9e",
   "metadata": {},
   "outputs": [
    {
     "name": "stdout",
     "output_type": "stream",
     "text": [
      "24389\n"
     ]
    }
   ],
   "source": [
    "x = random.randint(1, 50)\n",
    "y = random.randint(2, 5)\n",
    "z = x**y\n",
    "print(z)"
   ]
  },
  {
   "cell_type": "markdown",
   "id": "abdc200e",
   "metadata": {},
   "source": [
    "#### 3) GENERATE AND PRINT a RANDOM number between 1 and 10 that prints your name that many times"
   ]
  },
  {
   "cell_type": "code",
   "execution_count": 30,
   "id": "d7f95df2",
   "metadata": {},
   "outputs": [
    {
     "name": "stdout",
     "output_type": "stream",
     "text": [
      "mitchelle\n",
      "mitchelle\n",
      "mitchelle\n",
      "mitchelle\n"
     ]
    }
   ],
   "source": [
    "for i in range(random.randint(1, 10)):\n",
    "    print(\"mitchelle\")"
   ]
  },
  {
   "cell_type": "markdown",
   "id": "8464bff6",
   "metadata": {},
   "source": [
    "#### 4) GENERATE AND PRINT a RANDOM decimal number between 1 and 10 with two decimal place of accuracy"
   ]
  },
  {
   "cell_type": "code",
   "execution_count": 32,
   "id": "e58094c8",
   "metadata": {},
   "outputs": [
    {
     "name": "stdout",
     "output_type": "stream",
     "text": [
      "9.35\n"
     ]
    }
   ],
   "source": [
    "c = round(random.uniform(1, 10), 2)\n",
    "print(c)"
   ]
  },
  {
   "cell_type": "markdown",
   "id": "a8ae0598",
   "metadata": {},
   "source": [
    "#### 5) GENERATE AND PRINT 50 random numbers such that the first between 1 and 2, \n",
    "#### the second is between 1 and 3,\n",
    "#### the third is between 1 and 4...,\n",
    "#### and the last is eventually between 1 and 51"
   ]
  },
  {
   "cell_type": "code",
   "execution_count": 47,
   "id": "71a3b690",
   "metadata": {},
   "outputs": [
    {
     "name": "stdout",
     "output_type": "stream",
     "text": [
      "2 2 3 5 6 7 8 9 9 11 12 12 13 15 16 16 17 18 20 21 22 23 23 24 25 26 27 28 30 30 32 33 33 34 36 37 38 39 40 40 42 42 44 45 45 46 48 48 50 51 "
     ]
    }
   ],
   "source": [
    "for i in range(0, 50):\n",
    "    ran = random.randint(1, 2)\n",
    "    print(ran + i, end=\" \")\n"
   ]
  },
  {
   "cell_type": "markdown",
   "id": "2cfbce7a",
   "metadata": {},
   "source": [
    "#### 6) write a program that asks the user to enter two numbers, x and y, and computes |x-y|/x+y"
   ]
  },
  {
   "cell_type": "code",
   "execution_count": 50,
   "id": "24929a9f",
   "metadata": {},
   "outputs": [
    {
     "name": "stdout",
     "output_type": "stream",
     "text": [
      "enter a number: 2\n",
      "enter a second number: 5\n",
      "0.42857142857142855\n"
     ]
    }
   ],
   "source": [
    "x = int(input(\"enter a number: \"))\n",
    "y = int(input(\"enter a second number: \"))\n",
    "z = x - y\n",
    "zz = x + y\n",
    "if z < 0:\n",
    "    new_z = z * -1\n",
    "    com = new_z/zz\n",
    "    print(com)\n",
    "else:\n",
    "    print(z/zz)"
   ]
  },
  {
   "cell_type": "markdown",
   "id": "a4b29f8a",
   "metadata": {},
   "source": [
    "#### 7)"
   ]
  },
  {
   "cell_type": "markdown",
   "id": "ccabade4",
   "metadata": {},
   "source": [
    "#### 8) Enter length in centimeters, if entry is negative: output should be invalid. if positive convert to inches"
   ]
  },
  {
   "cell_type": "code",
   "execution_count": 59,
   "id": "7afb9fc3",
   "metadata": {},
   "outputs": [
    {
     "name": "stdout",
     "output_type": "stream",
     "text": [
      "enter length in cm: 77\n",
      "30.31496062992126\n"
     ]
    }
   ],
   "source": [
    "length_cm = float(input(\"enter length in cm: \"))\n",
    "if length_cm > 0:\n",
    "    con = length_cm / 2.54\n",
    "    print(con)\n",
    "else:\n",
    "    print(\"Invalid Entry\")"
   ]
  },
  {
   "cell_type": "markdown",
   "id": "6a2d48a2",
   "metadata": {},
   "source": [
    "#### 9) Ask user for a temperature value, then a temp unit(c/f), then convert from one to another. "
   ]
  },
  {
   "cell_type": "code",
   "execution_count": 58,
   "id": "f5b8912f",
   "metadata": {},
   "outputs": [
    {
     "name": "stdout",
     "output_type": "stream",
     "text": [
      "enter temp value: 0\n",
      "enter temp unit(c/f): c\n",
      "Temp in degrees fahrenheit is 32.0\n"
     ]
    }
   ],
   "source": [
    "temp_val = float(input(\"enter temp value: \"))\n",
    "unit = input(\"enter temp unit(c/f): \").lower()\n",
    "if unit == \"c\":\n",
    "    con = (temp_val *9/5) + 32\n",
    "    print(\"Temp in degrees fahrenheit is\", con)\n",
    "elif unit == \"c\":\n",
    "    con = (temp_val * 5/9) - 32\n",
    "    print(\"Temp in degrees celsius is\", con)"
   ]
  },
  {
   "cell_type": "markdown",
   "id": "664b9568",
   "metadata": {},
   "source": [
    "#### 10)  Ask user for a temperature value, then do the following;"
   ]
  },
  {
   "cell_type": "code",
   "execution_count": 63,
   "id": "08da5c09",
   "metadata": {},
   "outputs": [
    {
     "name": "stdout",
     "output_type": "stream",
     "text": [
      "enter temperature value: 109\n",
      "Temperature is above boiling point\n"
     ]
    }
   ],
   "source": [
    "temp = float(input(\"enter temperature value: \"))\n",
    "if temp < -273.15:\n",
    "    print(\"Temperature is invalid because it is below absolute zero\")\n",
    "if temp == -273.15:\n",
    "    print(\"Temperature is at absolute zero\")\n",
    "if temp > -273.15 and temp < 0:\n",
    "    print(\"Temperature is below freezing point\")\n",
    "if temp == 0:\n",
    "    print(\"Temperature is at freezing point\")\n",
    "if temp > 0 and temp < 100:\n",
    "    print(\"Temperature is at the normal range\")\n",
    "if temp == 100:\n",
    "    print(\"Temperature is at boiling point\")\n",
    "if temp > 100:\n",
    "    print(\"Temperature is above boiling point\")"
   ]
  },
  {
   "cell_type": "markdown",
   "id": "b934f2d4",
   "metadata": {},
   "source": [
    "#### 11) "
   ]
  },
  {
   "cell_type": "code",
   "execution_count": 68,
   "id": "613ad1b9",
   "metadata": {},
   "outputs": [
    {
     "name": "stdout",
     "output_type": "stream",
     "text": [
      "How many credit have you taken? 53\n",
      "Sophomore\n"
     ]
    }
   ],
   "source": [
    "credits = float(input(\"How many credit have you taken? \"))\n",
    "if credits <= 23:\n",
    "    print(\"Freshman\")\n",
    "if credits >= 24 and credits <= 53:\n",
    "    print(\"Sophomore\")\n",
    "if credits >= 54 and credits <= 83:\n",
    "    print(\"Juniors\")\n",
    "if credits >= 84:\n",
    "    print(\"Seniors\")"
   ]
  },
  {
   "cell_type": "markdown",
   "id": "01547dbe",
   "metadata": {},
   "source": [
    "#### 12)"
   ]
  },
  {
   "cell_type": "code",
   "execution_count": 73,
   "id": "4b9db725",
   "metadata": {},
   "outputs": [
    {
     "name": "stdout",
     "output_type": "stream",
     "text": [
      "enter number of seconds: 200\n",
      "3 minutes 20 seconds\n"
     ]
    }
   ],
   "source": [
    "seconds = int(input(\"enter number of seconds: \"))\n",
    "minn = seconds//60\n",
    "sec = seconds%60\n",
    "print(minn, \"minutes\", sec, \"seconds\")"
   ]
  },
  {
   "cell_type": "markdown",
   "id": "5b65efca",
   "metadata": {},
   "source": [
    "#### 13)"
   ]
  },
  {
   "cell_type": "code",
   "execution_count": 77,
   "id": "7c39b126",
   "metadata": {},
   "outputs": [
    {
     "name": "stdout",
     "output_type": "stream",
     "text": [
      "enter current hour: 8\n",
      "how many hours into the future will you like to go? 5\n",
      "future time will be 1 O'clock\n"
     ]
    }
   ],
   "source": [
    "present_hour = int(input(\"enter current hour: \"))\n",
    "future_hour = int(input(\"how many hours into the future will you like to go? \"))\n",
    "future_time = present_hour+future_hour\n",
    "time = future_time%12\n",
    "print(\"future time will be\", time, \"O'clock\")"
   ]
  },
  {
   "cell_type": "markdown",
   "id": "f7e9038a",
   "metadata": {},
   "source": [
    "#### 14)  (i)"
   ]
  },
  {
   "cell_type": "code",
   "execution_count": 78,
   "id": "f14bb3d4",
   "metadata": {},
   "outputs": [
    {
     "name": "stdout",
     "output_type": "stream",
     "text": [
      "enter a power: 10\n",
      "4\n"
     ]
    }
   ],
   "source": [
    "power = int(input(\"enter a power: \"))\n",
    "digit = 2\n",
    "mod = digit**power%10\n",
    "print(mod)\n"
   ]
  },
  {
   "cell_type": "markdown",
   "id": "acf64a49",
   "metadata": {},
   "source": [
    "#### (ii)"
   ]
  },
  {
   "cell_type": "code",
   "execution_count": 79,
   "id": "3bcc0c9f",
   "metadata": {},
   "outputs": [
    {
     "name": "stdout",
     "output_type": "stream",
     "text": [
      "enter a power: 10\n",
      "24\n"
     ]
    }
   ],
   "source": [
    "power = int(input(\"enter a power: \"))\n",
    "digit = 2\n",
    "mod = digit**power%100\n",
    "print(mod)"
   ]
  },
  {
   "cell_type": "markdown",
   "id": "335fd5a6",
   "metadata": {},
   "source": [
    "#### (iii)"
   ]
  },
  {
   "cell_type": "code",
   "execution_count": 83,
   "id": "b84ff392",
   "metadata": {},
   "outputs": [
    {
     "name": "stdout",
     "output_type": "stream",
     "text": [
      "enter a power: 10\n",
      "enter digits: 100\n",
      "24\n"
     ]
    }
   ],
   "source": [
    "power = int(input(\"enter a power: \"))\n",
    "digit = int(input(\"enter digits: \"))\n",
    "mod = 2**power%digit\n",
    "print(mod)\n"
   ]
  },
  {
   "cell_type": "code",
   "execution_count": null,
   "id": "273323ea",
   "metadata": {},
   "outputs": [],
   "source": []
  },
  {
   "cell_type": "code",
   "execution_count": null,
   "id": "1ea72de3",
   "metadata": {},
   "outputs": [],
   "source": []
  }
 ],
 "metadata": {
  "kernelspec": {
   "display_name": "Python 3 (ipykernel)",
   "language": "python",
   "name": "python3"
  },
  "language_info": {
   "codemirror_mode": {
    "name": "ipython",
    "version": 3
   },
   "file_extension": ".py",
   "mimetype": "text/x-python",
   "name": "python",
   "nbconvert_exporter": "python",
   "pygments_lexer": "ipython3",
   "version": "3.9.7"
  }
 },
 "nbformat": 4,
 "nbformat_minor": 5
}
