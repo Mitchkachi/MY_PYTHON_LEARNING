{
 "cells": [
  {
   "cell_type": "markdown",
   "id": "a5ca6c1d",
   "metadata": {},
   "source": [
    "# List index() method"
   ]
  },
  {
   "cell_type": "code",
   "execution_count": 1,
   "id": "11a182dc",
   "metadata": {},
   "outputs": [],
   "source": [
    "#The index() method returns the index position of the first occurance of the specified item. \n",
    "#Raises a ValueError if there is no item found."
   ]
  },
  {
   "cell_type": "code",
   "execution_count": 12,
   "id": "2740634a",
   "metadata": {},
   "outputs": [
    {
     "name": "stdout",
     "output_type": "stream",
     "text": [
      "First occurances of 'Paris' is at:  2\n"
     ]
    }
   ],
   "source": [
    "cities = ['Mumbai', 'London', 'Paris', 'New York','Delhi','Chennai','Paris']\n",
    "pos = cities.index('Paris')\n",
    "print(\"First occurances of 'Paris' is at: \", pos)\n"
   ]
  },
  {
   "cell_type": "code",
   "execution_count": 5,
   "id": "10d4e4b4",
   "metadata": {},
   "outputs": [
    {
     "name": "stdout",
     "output_type": "stream",
     "text": [
      "2\n"
     ]
    }
   ],
   "source": [
    "cities = ['Mumbai', 'London', 'Paris', 'New York','Delhi','Chennai','Paris']\n",
    "print(cities.index('Paris'))"
   ]
  },
  {
   "cell_type": "code",
   "execution_count": 11,
   "id": "57d25519",
   "metadata": {},
   "outputs": [
    {
     "name": "stdout",
     "output_type": "stream",
     "text": [
      "Next occurances of 'Paris' is at:  6\n"
     ]
    }
   ],
   "source": [
    "next_pos = cities.index('Paris', pos + 1)  # searches next position of 'Paris'\n",
    "print(\"Next occurances of 'Paris' is at: \", next_pos)"
   ]
  },
  {
   "cell_type": "markdown",
   "id": "d40506c8",
   "metadata": {},
   "source": [
    "##  index() with Start and End Position"
   ]
  },
  {
   "cell_type": "code",
   "execution_count": 33,
   "id": "6d949da3",
   "metadata": {},
   "outputs": [
    {
     "name": "stdout",
     "output_type": "stream",
     "text": [
      "1\n"
     ]
    }
   ],
   "source": [
    "numbers = [1, 5, 3, 4, 5, 6, 3, 5, 9, 6]\n",
    "print(numbers.index(5))"
   ]
  },
  {
   "cell_type": "code",
   "execution_count": 27,
   "id": "8e69a083",
   "metadata": {},
   "outputs": [
    {
     "name": "stdout",
     "output_type": "stream",
     "text": [
      "The index of 5:  1\n",
      "The index of 5 from 2nd index:  4\n",
      "The index of 5 from 5th index:  7\n"
     ]
    },
    {
     "ename": "ValueError",
     "evalue": "5 is not in list",
     "output_type": "error",
     "traceback": [
      "\u001b[1;31m---------------------------------------------------------------------------\u001b[0m",
      "\u001b[1;31mValueError\u001b[0m                                Traceback (most recent call last)",
      "\u001b[1;32m~\\AppData\\Local\\Temp/ipykernel_1016/864710334.py\u001b[0m in \u001b[0;36m<module>\u001b[1;34m\u001b[0m\n\u001b[0;32m      8\u001b[0m \u001b[0mprint\u001b[0m\u001b[1;33m(\u001b[0m\u001b[1;34m\"The index of 5 from 5th index: \"\u001b[0m\u001b[1;33m,\u001b[0m \u001b[0mpos\u001b[0m\u001b[1;33m)\u001b[0m\u001b[1;33m\u001b[0m\u001b[1;33m\u001b[0m\u001b[0m\n\u001b[0;32m      9\u001b[0m \u001b[1;33m\u001b[0m\u001b[0m\n\u001b[1;32m---> 10\u001b[1;33m \u001b[0mpos\u001b[0m \u001b[1;33m=\u001b[0m \u001b[0mnumbers\u001b[0m\u001b[1;33m.\u001b[0m\u001b[0mindex\u001b[0m\u001b[1;33m(\u001b[0m\u001b[1;36m5\u001b[0m\u001b[1;33m,\u001b[0m \u001b[1;36m8\u001b[0m\u001b[1;33m)\u001b[0m \u001b[1;31m# throws ValueError\u001b[0m\u001b[1;33m\u001b[0m\u001b[1;33m\u001b[0m\u001b[0m\n\u001b[0m",
      "\u001b[1;31mValueError\u001b[0m: 5 is not in list"
     ]
    }
   ],
   "source": [
    "pos = numbers.index(5) # starts from 0 till end\n",
    "print(\"The index of 5: \", pos)\n",
    "\n",
    "pos = numbers.index(5, 2, 5) # starts from 2nd index till 4th index \n",
    "print(\"The index of 5 from 2nd index: \", pos)\n",
    "\n",
    "pos = numbers.index(5, 5) # starts from 5th index till end\n",
    "print(\"The index of 5 from 5th index: \", pos)\n",
    "\n",
    "pos = numbers.index(5, 8) # throws ValueError "
   ]
  },
  {
   "cell_type": "markdown",
   "id": "4d74d352",
   "metadata": {},
   "source": [
    "# pop() method"
   ]
  },
  {
   "cell_type": "code",
   "execution_count": null,
   "id": "de7c890d",
   "metadata": {},
   "outputs": [],
   "source": [
    "#The pop() method returns an item from the specified position in the list and removes it. \n",
    "#If no index is specified, the pop() method removes and returns the last item in the list."
   ]
  },
  {
   "cell_type": "code",
   "execution_count": 40,
   "id": "f3cb6552",
   "metadata": {},
   "outputs": [
    {
     "name": "stdout",
     "output_type": "stream",
     "text": [
      "New York\n",
      "['Mumbai', 'London', 'Paris']\n",
      "Paris\n",
      "['Mumbai', 'London']\n",
      "London\n",
      "['Mumbai']\n",
      "Mumbai\n",
      "[]\n"
     ]
    },
    {
     "ename": "IndexError",
     "evalue": "pop from empty list",
     "output_type": "error",
     "traceback": [
      "\u001b[1;31m---------------------------------------------------------------------------\u001b[0m",
      "\u001b[1;31mIndexError\u001b[0m                                Traceback (most recent call last)",
      "\u001b[1;32m~\\AppData\\Local\\Temp/ipykernel_1016/739470953.py\u001b[0m in \u001b[0;36m<module>\u001b[1;34m\u001b[0m\n\u001b[0;32m      8\u001b[0m \u001b[0mprint\u001b[0m\u001b[1;33m(\u001b[0m\u001b[0mcities\u001b[0m\u001b[1;33m.\u001b[0m\u001b[0mpop\u001b[0m\u001b[1;33m(\u001b[0m\u001b[1;33m)\u001b[0m\u001b[1;33m)\u001b[0m\u001b[1;33m\u001b[0m\u001b[1;33m\u001b[0m\u001b[0m\n\u001b[0;32m      9\u001b[0m \u001b[0mprint\u001b[0m\u001b[1;33m(\u001b[0m\u001b[0mcities\u001b[0m\u001b[1;33m)\u001b[0m\u001b[1;33m\u001b[0m\u001b[1;33m\u001b[0m\u001b[0m\n\u001b[1;32m---> 10\u001b[1;33m \u001b[0mprint\u001b[0m\u001b[1;33m(\u001b[0m\u001b[0mcities\u001b[0m\u001b[1;33m.\u001b[0m\u001b[0mpop\u001b[0m\u001b[1;33m(\u001b[0m\u001b[1;33m)\u001b[0m\u001b[1;33m)\u001b[0m\u001b[1;33m\u001b[0m\u001b[1;33m\u001b[0m\u001b[0m\n\u001b[0m",
      "\u001b[1;31mIndexError\u001b[0m: pop from empty list"
     ]
    }
   ],
   "source": [
    "cities = ['Mumbai', 'London', 'Paris', 'New York']\n",
    "print(cities.pop())\n",
    "print(cities)\n",
    "print(cities.pop())\n",
    "print(cities)\n",
    "print(cities.pop())\n",
    "print(cities)\n",
    "print(cities.pop())\n",
    "print(cities)\n",
    "print(cities.pop())"
   ]
  },
  {
   "cell_type": "code",
   "execution_count": 43,
   "id": "90d61fbb",
   "metadata": {},
   "outputs": [
    {
     "name": "stdout",
     "output_type": "stream",
     "text": [
      "Paris\n",
      "List Elements:  ['Mumbai', 'London', 'New York']\n",
      "Mumbai\n",
      "['London', 'New York']\n"
     ]
    }
   ],
   "source": [
    "cities = ['Mumbai', 'London', 'Paris', 'New York']\n",
    "city = cities.pop(2)\n",
    "print(city)\n",
    "print(\"List Elements: \",cities)\n",
    "print(cities.pop(0))\n",
    "print(cities)"
   ]
  },
  {
   "cell_type": "markdown",
   "id": "0984cff3",
   "metadata": {},
   "source": [
    "# List remove() method"
   ]
  },
  {
   "cell_type": "code",
   "execution_count": 44,
   "id": "ef329ab4",
   "metadata": {},
   "outputs": [
    {
     "name": "stdout",
     "output_type": "stream",
     "text": [
      "Updated List:  ['London', 'Paris', 'New York']\n",
      "Updated List:  ['London', 'New York']\n"
     ]
    }
   ],
   "source": [
    "cities = ['Mumbai', 'London', 'Paris', 'New York']\n",
    "cities.remove('Mumbai')\n",
    "print(\"Updated List: \",cities)\n",
    "cities.remove('Paris')\n",
    "print(\"Updated List: \",cities)"
   ]
  },
  {
   "cell_type": "code",
   "execution_count": 46,
   "id": "8a2f8ca1",
   "metadata": {},
   "outputs": [
    {
     "name": "stdout",
     "output_type": "stream",
     "text": [
      "['London', 'Paris', 'New York']\n"
     ]
    }
   ],
   "source": [
    "cities = ['Mumbai', 'London', 'Paris', 'New York']\n",
    "cities.remove('Mumbai')\n",
    "print(cities)"
   ]
  },
  {
   "cell_type": "code",
   "execution_count": 47,
   "id": "beb79f74",
   "metadata": {},
   "outputs": [
    {
     "name": "stdout",
     "output_type": "stream",
     "text": [
      "[1, 2, 3, 4, 6]\n"
     ]
    }
   ],
   "source": [
    "numbers = [1, 2, 3, 4, 5, 6]\n",
    "numbers.remove(5)\n",
    "print(numbers)"
   ]
  },
  {
   "cell_type": "markdown",
   "id": "2d50e198",
   "metadata": {},
   "source": [
    "# reverse() Method"
   ]
  },
  {
   "cell_type": "code",
   "execution_count": null,
   "id": "c8389069",
   "metadata": {},
   "outputs": [],
   "source": [
    "#The reverse() method reverses the position of elements in the list. The first element becomes the last element,\n",
    "#the second element becomes the second last element, and so on."
   ]
  },
  {
   "cell_type": "code",
   "execution_count": 50,
   "id": "50892030",
   "metadata": {},
   "outputs": [
    {
     "name": "stdout",
     "output_type": "stream",
     "text": [
      "['New York', 'Paris', 'Chicago', 'London', 'Mumbai']\n"
     ]
    }
   ],
   "source": [
    "cities = ['Mumbai', 'London', 'Chicago', 'Paris', 'New York']\n",
    "cities.reverse()\n",
    "print(cities)\n"
   ]
  },
  {
   "cell_type": "code",
   "execution_count": 51,
   "id": "610408ed",
   "metadata": {},
   "outputs": [
    {
     "name": "stdout",
     "output_type": "stream",
     "text": [
      "[5, 4, 3, 2, 1]\n"
     ]
    }
   ],
   "source": [
    "nums = [1, 2, 3, 4, 5]\n",
    "nums.reverse()\n",
    "print(nums)"
   ]
  },
  {
   "cell_type": "markdown",
   "id": "a2f27c70",
   "metadata": {},
   "source": [
    "### using the slice operator to reverse a list"
   ]
  },
  {
   "cell_type": "code",
   "execution_count": 54,
   "id": "e116282e",
   "metadata": {},
   "outputs": [
    {
     "name": "stdout",
     "output_type": "stream",
     "text": [
      "[5, 4, 3, 2, 1]\n"
     ]
    }
   ],
   "source": [
    "nums = [1, 2, 3, 4, 5]\n",
    "rev_nums = nums[::-1]\n",
    "print(rev_nums)"
   ]
  },
  {
   "cell_type": "code",
   "execution_count": null,
   "id": "a0c3a349",
   "metadata": {},
   "outputs": [],
   "source": []
  }
 ],
 "metadata": {
  "kernelspec": {
   "display_name": "Python 3 (ipykernel)",
   "language": "python",
   "name": "python3"
  },
  "language_info": {
   "codemirror_mode": {
    "name": "ipython",
    "version": 3
   },
   "file_extension": ".py",
   "mimetype": "text/x-python",
   "name": "python",
   "nbconvert_exporter": "python",
   "pygments_lexer": "ipython3",
   "version": "3.9.7"
  }
 },
 "nbformat": 4,
 "nbformat_minor": 5
}
