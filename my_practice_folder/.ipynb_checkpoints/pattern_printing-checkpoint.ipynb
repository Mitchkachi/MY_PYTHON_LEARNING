{
 "cells": [
  {
   "cell_type": "code",
   "execution_count": 2,
   "id": "921a5ac0",
   "metadata": {},
   "outputs": [
    {
     "name": "stdout",
     "output_type": "stream",
     "text": [
      "[[1, 2, 3], [4, 5, 6], [7, 8, 9]]\n"
     ]
    }
   ],
   "source": [
    " m = [[1,2,3], \n",
    "      [4,5,6], \n",
    "      [7,8,9]]\n",
    "print(m)"
   ]
  },
  {
   "cell_type": "code",
   "execution_count": 3,
   "id": "c16cbad7",
   "metadata": {},
   "outputs": [
    {
     "name": "stdout",
     "output_type": "stream",
     "text": [
      "[1, 2, 3]\n",
      "[4, 5, 6]\n",
      "[7, 8, 9]\n"
     ]
    }
   ],
   "source": [
    " for i in m:\n",
    "    print(i)"
   ]
  },
  {
   "cell_type": "code",
   "execution_count": 24,
   "id": "329ed9bf",
   "metadata": {},
   "outputs": [
    {
     "name": "stdout",
     "output_type": "stream",
     "text": [
      "3rd column = [3, 6, 9]\n"
     ]
    }
   ],
   "source": [
    "column = [];        \n",
    "for row in m:\n",
    "    column.append(row[2])   \n",
    "\n",
    "print(\"3rd column =\", column)"
   ]
  },
  {
   "cell_type": "code",
   "execution_count": 49,
   "id": "2767198b",
   "metadata": {},
   "outputs": [
    {
     "name": "stdout",
     "output_type": "stream",
     "text": [
      "1 [7, 8, 9]\n",
      "4 [7, 8, 9]\n",
      "7 [7, 8, 9]\n"
     ]
    }
   ],
   "source": [
    "       \n",
    "for i in m:\n",
    "    col = (i[0])\n",
    "    row = (m[2])\n",
    "    print(col, row)"
   ]
  },
  {
   "cell_type": "code",
   "execution_count": 71,
   "id": "5d60ff02",
   "metadata": {},
   "outputs": [
    {
     "name": "stdout",
     "output_type": "stream",
     "text": [
      "1 [7, 8, 9]\n",
      "4 [7, 8, 9]\n",
      "7 [7, 8, 9]\n"
     ]
    }
   ],
   "source": [
    "for i in m:\n",
    "    col = (i[0])\n",
    "    for j in m:\n",
    "        coll = (m[-1])\n",
    "    print(col, coll)"
   ]
  },
  {
   "cell_type": "code",
   "execution_count": 99,
   "id": "2c88672e",
   "metadata": {},
   "outputs": [
    {
     "name": "stdout",
     "output_type": "stream",
     "text": [
      "[1, 5, 9, 7, 10]\n"
     ]
    }
   ],
   "source": [
    "a = [ 1, 3, 5, 9, 3, 7, 10]\n",
    "aa = []\n",
    "for i in a:\n",
    "    if i != 3:\n",
    "        aaa = i\n",
    "        aa.append(aaa)\n",
    "print(aa)     "
   ]
  },
  {
   "cell_type": "code",
   "execution_count": null,
   "id": "483b5520",
   "metadata": {},
   "outputs": [],
   "source": []
  }
 ],
 "metadata": {
  "kernelspec": {
   "display_name": "Python 3 (ipykernel)",
   "language": "python",
   "name": "python3"
  },
  "language_info": {
   "codemirror_mode": {
    "name": "ipython",
    "version": 3
   },
   "file_extension": ".py",
   "mimetype": "text/x-python",
   "name": "python",
   "nbconvert_exporter": "python",
   "pygments_lexer": "ipython3",
   "version": "3.9.7"
  }
 },
 "nbformat": 4,
 "nbformat_minor": 5
}
