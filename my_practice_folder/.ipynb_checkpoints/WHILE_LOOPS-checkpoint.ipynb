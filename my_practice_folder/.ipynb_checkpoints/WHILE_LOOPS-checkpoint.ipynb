{
 "cells": [
  {
   "cell_type": "markdown",
   "id": "955a46cf",
   "metadata": {},
   "source": [
    "### In Python, The while loop statement repeatedly executes a code block while a particular condition is true.\n",
    "### Note: The loop will continuing forever if you forgot to increment counter in the below example"
   ]
  },
  {
   "cell_type": "code",
   "execution_count": 1,
   "id": "0a3ed4d4",
   "metadata": {},
   "outputs": [
    {
     "name": "stdout",
     "output_type": "stream",
     "text": [
      "1\n",
      "2\n"
     ]
    }
   ],
   "source": [
    "count = 1\n",
    "# condition: Run loop till count is less than 3\n",
    "while count < 3:\n",
    "    print(count)\n",
    "    count = count + 1"
   ]
  },
  {
   "cell_type": "markdown",
   "id": "5b64cfb0",
   "metadata": {},
   "source": [
    "### Print numbers less than 5"
   ]
  },
  {
   "cell_type": "code",
   "execution_count": 2,
   "id": "c87b0726",
   "metadata": {},
   "outputs": [
    {
     "name": "stdout",
     "output_type": "stream",
     "text": [
      "1\n",
      "2\n",
      "3\n",
      "4\n"
     ]
    }
   ],
   "source": [
    "num = 1\n",
    "while num < 5:\n",
    "    print(num)\n",
    "    num = num + 1"
   ]
  },
  {
   "cell_type": "markdown",
   "id": "fc87e218",
   "metadata": {},
   "source": [
    "# Check how many times a given number can be divided by 3 before it is less than or equal to 10."
   ]
  },
  {
   "cell_type": "code",
   "execution_count": 6,
   "id": "8fbe486a",
   "metadata": {},
   "outputs": [
    {
     "name": "stdout",
     "output_type": "stream",
     "text": [
      "Total iteration required 3\n"
     ]
    }
   ],
   "source": [
    " count = 0\n",
    "number = 180\n",
    "while number > 10:\n",
    "    # divide number by 3\n",
    "    number = number / 3\n",
    "    # increase count\n",
    "    count = count + 1\n",
    "print('Total iteration required', count)"
   ]
  },
  {
   "cell_type": "code",
   "execution_count": 7,
   "id": "60da5803",
   "metadata": {},
   "outputs": [
    {
     "name": "stdout",
     "output_type": "stream",
     "text": [
      "2\n"
     ]
    }
   ],
   "source": [
    "numb = 2000\n",
    "count = 0\n",
    "while numb > 30:\n",
    "    numb = numb/20\n",
    "    count = count + 1\n",
    "print(count)"
   ]
  },
  {
   "cell_type": "markdown",
   "id": "528e8ae9",
   "metadata": {},
   "source": [
    "### Assure proper input from user\n",
    "\n",
    "#### In this example, we want a user to enter any number between 100 and 500. We will keep asking the user to enter a correct input\n",
    "#### until he/she enters the number within a given range."
   ]
  },
  {
   "cell_type": "code",
   "execution_count": 10,
   "id": "43b1dfb1",
   "metadata": {},
   "outputs": [
    {
     "name": "stdout",
     "output_type": "stream",
     "text": [
      "enter number between 100 and 500: 99\n",
      "99 is out of range, please enter correct num\n",
      "enter number between 100 and 500: 98\n",
      "98 is out of range, please enter correct num\n",
      "enter number between 100 and 500: 09\n",
      "9 is out of range, please enter correct num\n",
      "enter number between 100 and 500: 67\n",
      "67 is out of range, please enter correct num\n",
      "enter number between 100 and 500: 100\n",
      "100 is appropriate\n"
     ]
    }
   ],
   "source": [
    "num = int(input(\"enter number between 100 and 500: \"))\n",
    "while num < 100 and number < 500:\n",
    "    print(num, \"is out of range, please enter correct num\")\n",
    "    num = int(input(\"enter number between 100 and 500: \"))\n",
    "else: \n",
    "    print(num, \"is appropriate\")"
   ]
  },
  {
   "cell_type": "markdown",
   "id": "a60ecca9",
   "metadata": {},
   "source": [
    "# Print even and odd numbers between 1 to the entered number."
   ]
  },
  {
   "cell_type": "code",
   "execution_count": 13,
   "id": "a7a525ae",
   "metadata": {},
   "outputs": [
    {
     "name": "stdout",
     "output_type": "stream",
     "text": [
      "enter any number: 10\n",
      "10 is even\n",
      "9 is odd\n",
      "8 is even\n",
      "7 is odd\n",
      "6 is even\n",
      "5 is odd\n",
      "4 is even\n",
      "3 is odd\n",
      "2 is even\n",
      "1 is odd\n"
     ]
    }
   ],
   "source": [
    "n = int(input(\"enter any number: \"))\n",
    "while n > 0:\n",
    "    if n%2==0:\n",
    "        print(n, \"is even\")\n",
    "    else:\n",
    "        print(n, \"is odd\")\n",
    "    n = n-1"
   ]
  },
  {
   "cell_type": "markdown",
   "id": "c6e7bcea",
   "metadata": {},
   "source": [
    "# Transfer statements in while loop"
   ]
  },
  {
   "cell_type": "markdown",
   "id": "0e9f46ed",
   "metadata": {},
   "source": [
    "#### There are three types of loop control statements break, continue and pass."
   ]
  },
  {
   "cell_type": "markdown",
   "id": "61ec5d5b",
   "metadata": {},
   "source": [
    "## Break Statement\n",
    "\n",
    "#### A break statement terminates the loop containing it. If the break statement is used inside a nested loop (loop inside another loop), it will terminate the innermost loop."
   ]
  },
  {
   "cell_type": "code",
   "execution_count": 20,
   "id": "536f88fe",
   "metadata": {},
   "outputs": [
    {
     "name": "stdout",
     "output_type": "stream",
     "text": [
      "J e s a a "
     ]
    }
   ],
   "source": [
    "# Write a while loop to display each character from a string and if a character is number then stop the loop.\n",
    "name = 'Jesaa29Roy'\n",
    "n = 0\n",
    "size = len(name)\n",
    "while n < size:\n",
    "    if name[n].isdecimal():\n",
    "        break;\n",
    "    print(name[n], end=\" \")\n",
    "    n = n + 1   "
   ]
  },
  {
   "cell_type": "markdown",
   "id": "f7b8092e",
   "metadata": {},
   "source": [
    "## Continue Statement"
   ]
  },
  {
   "cell_type": "markdown",
   "id": "51cf8eb6",
   "metadata": {},
   "source": [
    "#### continue is a statement that skips a block of code in the loop for the current iteration only. It doesn’t terminate the loop but continues in the next iteration ignoring the loop’s body after it"
   ]
  },
  {
   "cell_type": "code",
   "execution_count": 26,
   "id": "589b32ec",
   "metadata": {},
   "outputs": [
    {
     "name": "stdout",
     "output_type": "stream",
     "text": [
      "J\n",
      "e\n",
      "s\n",
      "a\n",
      "a\n",
      "R\n",
      "o\n",
      "y\n"
     ]
    }
   ],
   "source": [
    "name = 'Jesaa29Roy'\n",
    "n = -1\n",
    "size = len(name)\n",
    "while n < size -1:\n",
    "    n = n + 1\n",
    "    if not name[n].isalpha():\n",
    "        continue\n",
    "    print(name[n])\n",
    "   "
   ]
  },
  {
   "cell_type": "markdown",
   "id": "19fb1a1c",
   "metadata": {},
   "source": [
    "# Pass Statement\n",
    "### Pass statement is a null statement. Nothing happens when the pass statement is executed. Primarily it is used in empty functions or classes. When the interpreter finds a pass statement in the program, it returns no operation."
   ]
  },
  {
   "cell_type": "code",
   "execution_count": 27,
   "id": "c91e9d7d",
   "metadata": {},
   "outputs": [],
   "source": [
    "n = 4\n",
    "while n > 0:\n",
    "    n = n - 1\n",
    "    pass"
   ]
  },
  {
   "cell_type": "markdown",
   "id": "0759239a",
   "metadata": {},
   "source": [
    "# Nested while loops\n",
    "### In Python, while loop inside a while loop is known as nested loop."
   ]
  },
  {
   "cell_type": "code",
   "execution_count": 28,
   "id": "3314697d",
   "metadata": {},
   "outputs": [
    {
     "name": "stdout",
     "output_type": "stream",
     "text": [
      "* \n",
      "* * \n",
      "* * * \n",
      "* * * * \n"
     ]
    }
   ],
   "source": [
    "i = 1\n",
    "# outer while loop\n",
    "# 4 rows in pattern\n",
    "while i < 5:\n",
    "    j = 0\n",
    "    # nested while loop\n",
    "    while j < i:\n",
    "        print('*', end=' ')\n",
    "        j = j + 1\n",
    "    # end of nested while loop\n",
    "    # new line after each row\n",
    "    print('')\n",
    "    i = i + 1"
   ]
  },
  {
   "cell_type": "code",
   "execution_count": 36,
   "id": "7de10bd3",
   "metadata": {},
   "outputs": [
    {
     "name": "stdout",
     "output_type": "stream",
     "text": [
      "* \n",
      "* * \n",
      "* * * \n",
      "* * * * \n",
      "* * * * * \n",
      "* * * * * * \n",
      "* * * * * * * \n",
      "* * * * * * * * \n"
     ]
    }
   ],
   "source": [
    "i = 1\n",
    "while i < 9:\n",
    "    j = 0\n",
    "    while j < i:\n",
    "        print(\"*\", end=\" \")\n",
    "        j = j + 1\n",
    "    print('')\n",
    "    i = i + 1"
   ]
  },
  {
   "cell_type": "code",
   "execution_count": 37,
   "id": "1027a160",
   "metadata": {},
   "outputs": [
    {
     "name": "stdout",
     "output_type": "stream",
     "text": [
      "* \n",
      "* * \n",
      "* * * \n",
      "* * * * \n"
     ]
    }
   ],
   "source": [
    "i = 1\n",
    "# outer while loop\n",
    "while i < 5:\n",
    "    # nested for loop\n",
    "    for j in range(1, i + 1):\n",
    "        print(\"*\", end=\" \")\n",
    "    print('')\n",
    "    i = i + 1"
   ]
  },
  {
   "cell_type": "code",
   "execution_count": 44,
   "id": "aa5ff019",
   "metadata": {},
   "outputs": [
    {
     "name": "stdout",
     "output_type": "stream",
     "text": [
      "# \n",
      "# # \n",
      "# # # \n",
      "# # # # \n",
      "# # # # # \n",
      "# # # # # # \n",
      "# # # # # # # \n",
      "# # # # # # # # \n",
      "# # # # # # # # # \n",
      "# # # # # # # # # # \n",
      "# # # # # # # # # # # \n"
     ]
    }
   ],
   "source": [
    "i = 1\n",
    "while i < 12:\n",
    "    for j in range(1, i + 1):\n",
    "        print(\"#\", end=\" \")\n",
    "    print(\"\")\n",
    "    i = i + 1"
   ]
  },
  {
   "cell_type": "markdown",
   "id": "8e5c8964",
   "metadata": {},
   "source": [
    "# Else statement in while loop"
   ]
  },
  {
   "cell_type": "code",
   "execution_count": 45,
   "id": "52bcb36f",
   "metadata": {},
   "outputs": [
    {
     "name": "stdout",
     "output_type": "stream",
     "text": [
      "1\n",
      "2\n",
      "3\n",
      "4\n",
      "5\n",
      "Done. while loop executed normally\n"
     ]
    }
   ],
   "source": [
    "i = 1\n",
    "while i <= 5:\n",
    "    print(i)\n",
    "    i = i + 1\n",
    "else:\n",
    "    print(\"Done. while loop executed normally\")"
   ]
  },
  {
   "cell_type": "code",
   "execution_count": 48,
   "id": "dacd4f11",
   "metadata": {},
   "outputs": [
    {
     "name": "stdout",
     "output_type": "stream",
     "text": [
      "1\n",
      "2\n",
      "3\n"
     ]
    }
   ],
   "source": [
    "i = 1\n",
    "while i < 5:\n",
    "    print(i)\n",
    "    if i == 3:\n",
    "        break\n",
    "    i = i + 1\n",
    "else:\n",
    "    print(\"done\")"
   ]
  },
  {
   "cell_type": "markdown",
   "id": "9a5b7d38",
   "metadata": {},
   "source": [
    "# Reverse while loop"
   ]
  },
  {
   "cell_type": "code",
   "execution_count": 59,
   "id": "6b56ed3f",
   "metadata": {},
   "outputs": [
    {
     "name": "stdout",
     "output_type": "stream",
     "text": [
      "10 9 8 7 6 5 4 3 2 1 "
     ]
    }
   ],
   "source": [
    "#Reverse a while loop to display numbers from 10 to 1\n",
    "i = 10\n",
    "while 1 <= i:\n",
    "    print(i, end=\" \")\n",
    "    i = i - 1"
   ]
  },
  {
   "cell_type": "code",
   "execution_count": 58,
   "id": "885de8b5",
   "metadata": {},
   "outputs": [
    {
     "name": "stdout",
     "output_type": "stream",
     "text": [
      "55 54 53 52 51 50 49 48 47 46 45 44 43 42 41 40 "
     ]
    }
   ],
   "source": [
    "i = 55\n",
    "while i >= 40:\n",
    "    print(i, end=\" \")\n",
    "    i = i -1"
   ]
  },
  {
   "cell_type": "markdown",
   "id": "db834cef",
   "metadata": {},
   "source": [
    "# Iterate String using while loop"
   ]
  },
  {
   "cell_type": "code",
   "execution_count": 62,
   "id": "c606288c",
   "metadata": {},
   "outputs": [
    {
     "name": "stdout",
     "output_type": "stream",
     "text": [
      "J e s s a "
     ]
    }
   ],
   "source": [
    "# while loop to iterate string letter by letter\n",
    "name = \"Jessa\"\n",
    "i = 0\n",
    "size = len(name)\n",
    "while i < size:\n",
    "    print(name[i], end=\" \")\n",
    "    i = i + 1"
   ]
  },
  {
   "cell_type": "markdown",
   "id": "eacd103f",
   "metadata": {},
   "source": [
    "# Iterate a List using while loop"
   ]
  },
  {
   "cell_type": "markdown",
   "id": "77105326",
   "metadata": {},
   "source": [
    "### Python list is an ordered sequence of items. It is ordered by index numbers starting from 0.\n",
    "### numbers = [1, 2, 4, 6, 7]\n",
    "### names = [\"Messi\", \"Ronaldo\", \"Neymar\"]"
   ]
  },
  {
   "cell_type": "code",
   "execution_count": 67,
   "id": "6a166bce",
   "metadata": {},
   "outputs": [
    {
     "name": "stdout",
     "output_type": "stream",
     "text": [
      "1 2 4 5 7 "
     ]
    }
   ],
   "source": [
    "numbers = [1, 2, 4, 5, 7]\n",
    "i = 0\n",
    "size = len(numbers)\n",
    "while i < size:\n",
    "    print(numbers[i], end=\" \")\n",
    "    i = i + 1"
   ]
  },
  {
   "cell_type": "code",
   "execution_count": 69,
   "id": "20bebfb7",
   "metadata": {},
   "outputs": [
    {
     "name": "stdout",
     "output_type": "stream",
     "text": [
      "1\n",
      "2\n",
      "3\n",
      "4\n",
      "5\n",
      "6\n",
      "7\n",
      "8\n",
      "9\n",
      "10\n"
     ]
    }
   ],
   "source": [
    "i = 1\n",
    "while i <= 10:\n",
    "    print(i)\n",
    "    i = i + 1"
   ]
  },
  {
   "cell_type": "code",
   "execution_count": 86,
   "id": "ff1e4e88",
   "metadata": {},
   "outputs": [
    {
     "name": "stdout",
     "output_type": "stream",
     "text": [
      "50\n",
      "40\n",
      "30\n",
      "20\n",
      "10\n"
     ]
    }
   ],
   "source": [
    "list1 = [10, 20, 30, 40, 50]\n",
    "size = len(list1) -1\n",
    "for i in range(size, -1, -1):\n",
    "    print(list1[i])"
   ]
  },
  {
   "cell_type": "code",
   "execution_count": null,
   "id": "e6ffbcc1",
   "metadata": {},
   "outputs": [],
   "source": []
  }
 ],
 "metadata": {
  "kernelspec": {
   "display_name": "Python 3 (ipykernel)",
   "language": "python",
   "name": "python3"
  },
  "language_info": {
   "codemirror_mode": {
    "name": "ipython",
    "version": 3
   },
   "file_extension": ".py",
   "mimetype": "text/x-python",
   "name": "python",
   "nbconvert_exporter": "python",
   "pygments_lexer": "ipython3",
   "version": "3.9.7"
  }
 },
 "nbformat": 4,
 "nbformat_minor": 5
}
