{
 "cells": [
  {
   "cell_type": "markdown",
   "id": "97c7bb77",
   "metadata": {},
   "source": [
    "# Creating a Function "
   ]
  },
  {
   "cell_type": "markdown",
   "id": "352b404d",
   "metadata": {},
   "source": [
    "### SYNTAX FOR CREATING A FUNCTION\n",
    "\n",
    "## def function_name(parameter1, parameter2):\n",
    "   ##         function body    \n",
    "   ##        write some action\n",
    "## return value\n"
   ]
  },
  {
   "cell_type": "markdown",
   "id": "9f72c4ee",
   "metadata": {},
   "source": [
    "### Creating a function without any parameters. \n",
    "#### Note: While defining a function, we use two keywords, def (mandatory) and return (optional)."
   ]
  },
  {
   "cell_type": "code",
   "execution_count": 3,
   "id": "61ef1fdd",
   "metadata": {},
   "outputs": [
    {
     "name": "stdout",
     "output_type": "stream",
     "text": [
      "HELLO WORLD\n"
     ]
    }
   ],
   "source": [
    "def message():\n",
    "    print(\"HELLO WORLD\")\n",
    "    \n",
    "# call function using its name\n",
    "message()    "
   ]
  },
  {
   "cell_type": "markdown",
   "id": "4d1b1e36",
   "metadata": {},
   "source": [
    "# Creating a function with parameters"
   ]
  },
  {
   "cell_type": "code",
   "execution_count": 10,
   "id": "35d65d3b",
   "metadata": {},
   "outputs": [
    {
     "name": "stdout",
     "output_type": "stream",
     "text": [
      "Hello John welcome to my python folder\n",
      "Your course name is Python\n",
      "Hello Mitchelle welcome to my python folder\n",
      "Your course name is Deep Learing\n"
     ]
    }
   ],
   "source": [
    "#creating function with two parameters ‘ name’ and ‘course_name’\n",
    "\n",
    "def course_func(name, course_name):\n",
    "        print(\"Hello\", name, \"welcome to my python folder\")\n",
    "        print(\"Your course name is\", course_name)\n",
    "course_func(\"John\", \"Python\")\n",
    "course_func(\"Mitchelle\", \"Deep Learing\")"
   ]
  },
  {
   "cell_type": "markdown",
   "id": "b153012d",
   "metadata": {},
   "source": [
    "# Creating a function with parameters and return value"
   ]
  },
  {
   "cell_type": "code",
   "execution_count": 15,
   "id": "8d1c9335",
   "metadata": {},
   "outputs": [
    {
     "data": {
      "text/plain": [
       "111"
      ]
     },
     "execution_count": 15,
     "metadata": {},
     "output_type": "execute_result"
    }
   ],
   "source": [
    "def calculator(a, b):\n",
    "    add= a+b\n",
    "    return(add)\n",
    "\n",
    "calculator(45, 66)"
   ]
  },
  {
   "cell_type": "markdown",
   "id": "b64300c8",
   "metadata": {},
   "source": [
    "# Calling a function"
   ]
  },
  {
   "cell_type": "code",
   "execution_count": 18,
   "id": "df2868ac",
   "metadata": {},
   "outputs": [
    {
     "name": "stdout",
     "output_type": "stream",
     "text": [
      "5765 is a odd number\n"
     ]
    }
   ],
   "source": [
    "def even_odd(n):\n",
    "    if n%2 == 0:\n",
    "        print(n, \"is an even number\")\n",
    "    else:\n",
    "        print(n, \"is an odd number\")\n",
    "        \n",
    "even_odd(5765)"
   ]
  },
  {
   "cell_type": "markdown",
   "id": "8ccc46c1",
   "metadata": {},
   "source": [
    "# Calling a function of a module"
   ]
  },
  {
   "cell_type": "code",
   "execution_count": 19,
   "id": "9ed197f7",
   "metadata": {},
   "outputs": [],
   "source": [
    "# You can take advantage of the built-in module and use the functions defined in it. For example, Python has a random module \n",
    "# that is used for generating random numbers and data. It has various functions to create different types of random data."
   ]
  },
  {
   "cell_type": "code",
   "execution_count": 20,
   "id": "217c45f6",
   "metadata": {},
   "outputs": [],
   "source": [
    "from random import randint"
   ]
  },
  {
   "cell_type": "code",
   "execution_count": 22,
   "id": "0e9af372",
   "metadata": {},
   "outputs": [
    {
     "name": "stdout",
     "output_type": "stream",
     "text": [
      "25\n"
     ]
    }
   ],
   "source": [
    "print(randint(20, 30))"
   ]
  },
  {
   "cell_type": "markdown",
   "id": "2cf17809",
   "metadata": {},
   "source": [
    "# Docstrings\n",
    "#### In Python, the documentation string is also called a docstring. It is a descriptive text (like a comment) written by a programmer to let others know what block of code does.\n",
    "\n",
    "#### We write docstring in source code and define it immediately after module, class, function, or method definition.\n",
    "\n",
    "#### It is being declared using triple single quotes (''' ''') or triple-double quote(\"\"\" \"\"\").\n",
    "\n",
    "#### We can access docstring using doc attribute (__doc__) for any object like list, tuple, dict, and user-defined function, etc."
   ]
  },
  {
   "cell_type": "markdown",
   "id": "9a25ef62",
   "metadata": {},
   "source": [
    "# Single-Line Docstring\n",
    "#### The single-line docstring is a docstring that fits in one line. We can use the triple single or triple-double quotes to define\n",
    "#### it. The Opening and closing quotes need to be the same. By convention, we should use to use the triple-double quotes to define\n",
    "#### docstring."
   ]
  },
  {
   "cell_type": "code",
   "execution_count": 25,
   "id": "36aaa6ae",
   "metadata": {},
   "outputs": [
    {
     "name": "stdout",
     "output_type": "stream",
     "text": [
      "This function returns the factorial of any given number\n"
     ]
    }
   ],
   "source": [
    "def factorial(x):\n",
    "    \"\"\"This function returns the factorial of any given number\"\"\"\n",
    "    return(x)\n",
    "print(factorial.__doc__)"
   ]
  },
  {
   "cell_type": "code",
   "execution_count": 26,
   "id": "f51570e2",
   "metadata": {},
   "outputs": [
    {
     "name": "stdout",
     "output_type": "stream",
     "text": [
      "Help on function factorial in module __main__:\n",
      "\n",
      "factorial(x)\n",
      "    This function returns the factorial of any given number\n",
      "\n",
      "None\n"
     ]
    }
   ],
   "source": [
    "#When you use the help function to get the information of any function, it returns the docstring.\n",
    "\n",
    "# pass function name to help() function\n",
    "print(help(factorial))"
   ]
  },
  {
   "cell_type": "markdown",
   "id": "a64ab6f9",
   "metadata": {},
   "source": [
    "# Multi-Line Docstring\n",
    "#### A multi-line Docstrings is the same single-line Docstrings, but it is followed by a single blank line with the descriptive text.\n",
    "\n",
    "#### The general format of writing a multi-line Docstring is as follows:"
   ]
  },
  {
   "cell_type": "code",
   "execution_count": 28,
   "id": "9987a908",
   "metadata": {},
   "outputs": [
    {
     "name": "stdout",
     "output_type": "stream",
     "text": [
      "              \n",
      "   Description of function\n",
      "                 \n",
      "   Arguments:   \n",
      "   parameter1(int):Description of parameter1\n",
      "                 \n",
      "   Returns:      \n",
      "   int value     \n",
      "\n"
     ]
    }
   ],
   "source": [
    "def any_fun(parameter1):\n",
    "    \"\"\"              \n",
    "   Description of function\n",
    "                 \n",
    "   Arguments:   \n",
    "   parameter1(int):Description of parameter1\n",
    "                 \n",
    "   Returns:      \n",
    "   int value     \n",
    "\"\"\"              \n",
    "print(any_fun.__doc__)"
   ]
  },
  {
   "cell_type": "markdown",
   "id": "64d703cf",
   "metadata": {},
   "source": [
    "# Return Value From a Function"
   ]
  },
  {
   "cell_type": "code",
   "execution_count": 29,
   "id": "235d624c",
   "metadata": {},
   "outputs": [],
   "source": [
    "# Syntax of return statement\n",
    "\n",
    "# def fun():\n",
    "#     statement-1\n",
    "#     statement-2\n",
    "#     statement-3\n",
    "#     .          \n",
    "#     .          \n",
    "#     return [expression]"
   ]
  },
  {
   "cell_type": "markdown",
   "id": "dc48d56f",
   "metadata": {},
   "source": [
    "### The return value is nothing but a outcome of function.\n",
    "\n",
    "### The return statement ends the function execution.\n",
    "\n",
    "### For a function, it is not mandatory to return a value.\n",
    "\n",
    "### If a return statement is used without any expression, then the None is returned.\n",
    "\n",
    "### The return statement should be inside of the function block.\n"
   ]
  },
  {
   "cell_type": "code",
   "execution_count": 32,
   "id": "ff9bfbae",
   "metadata": {},
   "outputs": [
    {
     "data": {
      "text/plain": [
       "[2, 42, 62, 70]"
      ]
     },
     "execution_count": 32,
     "metadata": {},
     "output_type": "execute_result"
    }
   ],
   "source": [
    "# for example let's create a function that takes a single list,\n",
    "# filters the odd numbers out of the list,\n",
    "# then appends the even number to a new list and returns the even list\n",
    "\n",
    "def even_num(list1):\n",
    "    even_list =[]\n",
    "    for i in list1:\n",
    "        if i%2 == 0:\n",
    "            even_list.append(i)\n",
    "    return(even_list)\n",
    "        \n",
    "even_num([2, 3, 42, 51, 62, 70, 5, 9])    \n",
    "\n"
   ]
  },
  {
   "cell_type": "markdown",
   "id": "1671376d",
   "metadata": {},
   "source": [
    "# Return Multiple Values"
   ]
  },
  {
   "cell_type": "markdown",
   "id": "ed96dc83",
   "metadata": {},
   "source": [
    "### You can also return multiple values from a function. Use the return statement by separating each expression by a comma."
   ]
  },
  {
   "cell_type": "markdown",
   "id": "0929fd29",
   "metadata": {},
   "source": [
    "#### Example: –\n",
    "\n",
    "#### In this example, we are returning three values from a function. We will also see how to process or read multiple return values\n",
    "#### in our code."
   ]
  },
  {
   "cell_type": "code",
   "execution_count": 46,
   "id": "8fc40505",
   "metadata": {},
   "outputs": [
    {
     "name": "stdout",
     "output_type": "stream",
     "text": [
      "Addition:  6\n",
      "Subtraction:  2\n",
      "Multiplication:  8\n",
      "Division:  2.0\n"
     ]
    }
   ],
   "source": [
    "def multiple(num1, num2):\n",
    "    add = num1 + num2\n",
    "    sub = num1 - num2\n",
    "    multi = num1 * num2\n",
    "    div = num1 / num2\n",
    "    return(add, sub, multi, div)\n",
    "a, b, c, d = multiple(4, 2)\n",
    "# #multiple(4, 2)\n",
    "print(\"Addition: \", a)\n",
    "print(\"Subtraction: \", b)\n",
    "print(\"Multiplication: \", c)\n",
    "print(\"Division: \", d)"
   ]
  },
  {
   "cell_type": "markdown",
   "id": "3cfc04c0",
   "metadata": {},
   "source": [
    "# Variable-length Arguments"
   ]
  },
  {
   "cell_type": "markdown",
   "id": "13410eb1",
   "metadata": {},
   "source": [
    "### In Python, sometimes, there is a situation where we need to pass multiple numbers of arguments to the function. Such types of arguments are called variable-length arguments. We can declare a variable-length argument with the * (asterisk) symbol"
   ]
  },
  {
   "cell_type": "code",
   "execution_count": 51,
   "id": "4db014c4",
   "metadata": {},
   "outputs": [
    {
     "data": {
      "text/plain": [
       "87.5"
      ]
     },
     "execution_count": 51,
     "metadata": {},
     "output_type": "execute_result"
    }
   ],
   "source": [
    "def summation(*numbers):\n",
    "    sum = 0\n",
    "    for i in numbers:\n",
    "        sum = sum + i\n",
    "    return(sum)\n",
    "summation(10, 5, 2, 5, 4)\n",
    "summation()\n",
    "summation(78, 7, 2.5)"
   ]
  },
  {
   "cell_type": "markdown",
   "id": "1d2f8b56",
   "metadata": {},
   "source": [
    "# Recursive Function"
   ]
  },
  {
   "cell_type": "markdown",
   "id": "e2989fb6",
   "metadata": {},
   "source": [
    "### A recursive function is a function that calls itself, again and again.\n",
    "\n",
    "### Consider, calculating the factorial of a number is a repetitive activity, in that case, we can call a function again and again, which calculates factorial."
   ]
  },
  {
   "cell_type": "code",
   "execution_count": 53,
   "id": "25652f19",
   "metadata": {},
   "outputs": [
    {
     "data": {
      "text/plain": [
       "120"
      ]
     },
     "execution_count": 53,
     "metadata": {},
     "output_type": "execute_result"
    }
   ],
   "source": [
    "def factorial(n):\n",
    "    if n == 0:\n",
    "        return(1)\n",
    "    else:\n",
    "        return(n * factorial(n-1))\n",
    "factorial(5)"
   ]
  },
  {
   "cell_type": "code",
   "execution_count": null,
   "id": "c8b1275f",
   "metadata": {},
   "outputs": [],
   "source": []
  }
 ],
 "metadata": {
  "kernelspec": {
   "display_name": "Python 3 (ipykernel)",
   "language": "python",
   "name": "python3"
  },
  "language_info": {
   "codemirror_mode": {
    "name": "ipython",
    "version": 3
   },
   "file_extension": ".py",
   "mimetype": "text/x-python",
   "name": "python",
   "nbconvert_exporter": "python",
   "pygments_lexer": "ipython3",
   "version": "3.9.7"
  }
 },
 "nbformat": 4,
 "nbformat_minor": 5
}
