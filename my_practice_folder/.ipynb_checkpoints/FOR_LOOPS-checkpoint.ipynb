{
 "cells": [
  {
   "cell_type": "markdown",
   "id": "ab390211",
   "metadata": {},
   "source": [
    "# Print sum of all even numbers from 10 to 20"
   ]
  },
  {
   "cell_type": "code",
   "execution_count": 13,
   "id": "fcabf7cd",
   "metadata": {},
   "outputs": [
    {
     "name": "stdout",
     "output_type": "stream",
     "text": [
      "90\n"
     ]
    }
   ],
   "source": [
    "sum = 0\n",
    "for i in range(10, 21, 2):\n",
    "    sum = sum + i\n",
    "print(sum)\n"
   ]
  },
  {
   "cell_type": "markdown",
   "id": "7dd5acb9",
   "metadata": {},
   "source": [
    "# Print sum of all odd numbers from 73 to 99"
   ]
  },
  {
   "cell_type": "code",
   "execution_count": 12,
   "id": "bebe70d5",
   "metadata": {},
   "outputs": [
    {
     "name": "stdout",
     "output_type": "stream",
     "text": [
      "1204\n"
     ]
    }
   ],
   "source": [
    "sum = 0\n",
    "\n",
    "for i in range(73, 100, 2):\n",
    "    sum = sum + i\n",
    "print(sum)"
   ]
  },
  {
   "cell_type": "markdown",
   "id": "0a9c6d8c",
   "metadata": {},
   "source": [
    "# Calculate the square of each number of list"
   ]
  },
  {
   "cell_type": "code",
   "execution_count": 16,
   "id": "fbefad56",
   "metadata": {},
   "outputs": [
    {
     "name": "stdout",
     "output_type": "stream",
     "text": [
      "1\n",
      "4\n",
      "9\n",
      "16\n",
      "25\n"
     ]
    }
   ],
   "source": [
    "numbers = [1, 2, 3, 4, 5]\n",
    "sq_num = []\n",
    "for num in numbers:\n",
    "    k = num**2\n",
    "    sq_num = k\n",
    "    print(sq_num)\n",
    "    "
   ]
  },
  {
   "cell_type": "markdown",
   "id": "9e13fb1e",
   "metadata": {},
   "source": [
    "# Calculate the average of list of numbers"
   ]
  },
  {
   "cell_type": "code",
   "execution_count": 18,
   "id": "6f8da693",
   "metadata": {},
   "outputs": [
    {
     "name": "stdout",
     "output_type": "stream",
     "text": [
      "30.0\n"
     ]
    }
   ],
   "source": [
    "numbers = [10, 20, 30, 40, 50]\n",
    "sum_i = 0\n",
    "for i in numbers:\n",
    "    sum_i = sum_i + i\n",
    "    avg = sum_i/len(numbers)\n",
    "print(avg)"
   ]
  },
  {
   "cell_type": "markdown",
   "id": "1e9cfc20",
   "metadata": {},
   "source": [
    "# Print all even and odd numbers from 0 to 20"
   ]
  },
  {
   "cell_type": "code",
   "execution_count": 21,
   "id": "bd5d0f83",
   "metadata": {},
   "outputs": [
    {
     "name": "stdout",
     "output_type": "stream",
     "text": [
      "2\n",
      "4\n",
      "6\n",
      "8\n",
      "10\n",
      "12\n",
      "14\n",
      "16\n",
      "18\n",
      "20\n"
     ]
    }
   ],
   "source": [
    "for i in range(2, 21):\n",
    "    if i % 2 == 0:\n",
    "        print(i)\n",
    "    "
   ]
  },
  {
   "cell_type": "code",
   "execution_count": 22,
   "id": "051b04fe",
   "metadata": {},
   "outputs": [
    {
     "name": "stdout",
     "output_type": "stream",
     "text": [
      "even number: 2\n",
      "odd number: 3\n",
      "even number: 4\n",
      "odd number: 5\n",
      "even number: 6\n",
      "odd number: 7\n",
      "even number: 8\n",
      "odd number: 9\n",
      "even number: 10\n",
      "odd number: 11\n",
      "even number: 12\n",
      "odd number: 13\n",
      "even number: 14\n",
      "odd number: 15\n",
      "even number: 16\n",
      "odd number: 17\n",
      "even number: 18\n",
      "odd number: 19\n",
      "even number: 20\n"
     ]
    }
   ],
   "source": [
    "for i in range(2, 21):\n",
    "    if i % 2 == 0:\n",
    "        print(\"even number:\", i)\n",
    "    else:\n",
    "        print(\"odd number:\", i)"
   ]
  },
  {
   "cell_type": "markdown",
   "id": "599f63fa",
   "metadata": {},
   "source": [
    "# Use for loop to generate a list of numbers from 9 to 50 divisible by 2."
   ]
  },
  {
   "cell_type": "code",
   "execution_count": 30,
   "id": "f7cc9135",
   "metadata": {},
   "outputs": [
    {
     "name": "stdout",
     "output_type": "stream",
     "text": [
      "10\n",
      "12\n",
      "14\n",
      "16\n",
      "18\n",
      "20\n",
      "22\n",
      "24\n",
      "26\n",
      "28\n",
      "30\n",
      "32\n",
      "34\n",
      "36\n",
      "38\n",
      "40\n",
      "42\n",
      "44\n",
      "46\n",
      "48\n",
      "50\n"
     ]
    }
   ],
   "source": [
    "for i in range(10, 51, 2):\n",
    "    print(i)\n",
    "   "
   ]
  },
  {
   "cell_type": "markdown",
   "id": "d9bb2089",
   "metadata": {},
   "source": [
    "#  three types of loop control statements i.e., break, continue and pass."
   ]
  },
  {
   "cell_type": "markdown",
   "id": "c7805558",
   "metadata": {},
   "source": [
    "### BREAK FOR LOOPS"
   ]
  },
  {
   "cell_type": "code",
   "execution_count": 33,
   "id": "6c0f319b",
   "metadata": {},
   "outputs": [
    {
     "name": "stdout",
     "output_type": "stream",
     "text": [
      "1\n",
      "4\n",
      "7\n",
      "8\n",
      "15\n"
     ]
    }
   ],
   "source": [
    "# break the loop if number a number is greater than 15\n",
    "numbers = [1, 4, 7, 8, 15, 20, 35, 45, 55]\n",
    "for i in numbers:\n",
    "    if i > 15:\n",
    "        break\n",
    "    else:\n",
    "        print(i)"
   ]
  },
  {
   "cell_type": "code",
   "execution_count": 35,
   "id": "92711e41",
   "metadata": {},
   "outputs": [
    {
     "name": "stdout",
     "output_type": "stream",
     "text": [
      "0\n",
      "2\n",
      "4\n",
      "6\n",
      "8\n",
      "10\n",
      "12\n",
      "14\n",
      "16\n",
      "18\n",
      "20\n",
      "22\n",
      "24\n",
      "26\n",
      "28\n",
      "30\n",
      "32\n",
      "34\n",
      "36\n",
      "38\n",
      "40\n",
      "42\n",
      "44\n",
      "46\n",
      "48\n",
      "50\n",
      "52\n",
      "54\n",
      "56\n",
      "58\n",
      "60\n",
      "62\n",
      "64\n",
      "66\n"
     ]
    }
   ],
   "source": [
    " for i in range(0, 99, 2):\n",
    "        if i > 66:\n",
    "            break\n",
    "        else:\n",
    "            print(i)"
   ]
  },
  {
   "cell_type": "markdown",
   "id": "3eb02660",
   "metadata": {},
   "source": [
    "# Continue Statement in for loop"
   ]
  },
  {
   "cell_type": "code",
   "execution_count": 41,
   "id": "334f6d26",
   "metadata": {},
   "outputs": [
    {
     "name": "stdout",
     "output_type": "stream",
     "text": [
      "Total number of m is: 2\n"
     ]
    }
   ],
   "source": [
    "# Example: Count the total number of ‘m’ in a given string.\n",
    "name = \"mariya mennen\"\n",
    "count = 0\n",
    "for i in name:\n",
    "    if i != \"m\":\n",
    "        continue\n",
    "    else:\n",
    "        count = count + 1\n",
    "print('Total number of m is:' , count)"
   ]
  },
  {
   "cell_type": "markdown",
   "id": "0a421a71",
   "metadata": {},
   "source": [
    "# Pass Statement in for loop"
   ]
  },
  {
   "cell_type": "code",
   "execution_count": 54,
   "id": "466a2282",
   "metadata": {},
   "outputs": [],
   "source": [
    "num = [1, 4, 5, 3, 7, 8]\n",
    "for i in num:\n",
    "    # calculate multiplication in future if required\n",
    "    pass"
   ]
  },
  {
   "cell_type": "markdown",
   "id": "ac02499d",
   "metadata": {},
   "source": [
    "# Else block in for loop"
   ]
  },
  {
   "cell_type": "code",
   "execution_count": 58,
   "id": "b2ce78e8",
   "metadata": {},
   "outputs": [
    {
     "name": "stdout",
     "output_type": "stream",
     "text": [
      "0\n",
      "1\n",
      "2\n",
      "3\n",
      "4\n",
      "5\n",
      "DONE\n"
     ]
    }
   ],
   "source": [
    "for i in range(0,6):\n",
    "    print(i)\n",
    "else:\n",
    "    print(\"DONE\")"
   ]
  },
  {
   "cell_type": "markdown",
   "id": "6a05f68a",
   "metadata": {},
   "source": [
    "### Example 2: Both break and else statement"
   ]
  },
  {
   "cell_type": "code",
   "execution_count": 74,
   "id": "e4146bd9",
   "metadata": {},
   "outputs": [
    {
     "name": "stdout",
     "output_type": "stream",
     "text": [
      "1\n",
      "2\n",
      "3\n",
      "4\n",
      "5\n"
     ]
    }
   ],
   "source": [
    "#we have a range of number 1:10 but we want to print the first five\n",
    "count = 0\n",
    "for i in range(1, 11):\n",
    "    count = count + 1\n",
    "    if count > 5:\n",
    "        break\n",
    "    else:\n",
    "        print(i)\n",
    "else:\n",
    "    print(\"Done\")"
   ]
  },
  {
   "cell_type": "markdown",
   "id": "b49d5c9f",
   "metadata": {},
   "source": [
    "# REVERSE FOR LOOPS"
   ]
  },
  {
   "cell_type": "markdown",
   "id": "3445da26",
   "metadata": {},
   "source": [
    "### THIS CAN BE DONE USING THE RANGE() OR REVERSED() FUNCTION"
   ]
  },
  {
   "cell_type": "code",
   "execution_count": 2,
   "id": "791fd349",
   "metadata": {},
   "outputs": [
    {
     "name": "stdout",
     "output_type": "stream",
     "text": [
      "40\n",
      "30\n",
      "20\n",
      "10\n"
     ]
    }
   ],
   "source": [
    "# Reversed numbers using reversed() function\n",
    "list1 = [10, 20, 30, 40]\n",
    "for i in reversed(list1):\n",
    "    print(i)\n",
    "    \n",
    "    "
   ]
  },
  {
   "cell_type": "code",
   "execution_count": 12,
   "id": "ad2a66e5",
   "metadata": {},
   "outputs": [
    {
     "name": "stdout",
     "output_type": "stream",
     "text": [
      "5\n",
      "4\n",
      "3\n",
      "2\n",
      "1\n",
      "0\n"
     ]
    }
   ],
   "source": [
    "# print(\"Reverse numbers using for loop\")\n",
    "num = 5\n",
    "# start = 5\n",
    "# stop = -1\n",
    "# step = -1\n",
    "for num in (range(num, -1, -1)):\n",
    "    print(num)"
   ]
  },
  {
   "cell_type": "code",
   "execution_count": 13,
   "id": "24bc5219",
   "metadata": {},
   "outputs": [
    {
     "name": "stdout",
     "output_type": "stream",
     "text": [
      "10\n",
      "9\n",
      "8\n",
      "7\n",
      "6\n",
      "5\n",
      "4\n",
      "3\n",
      "2\n",
      "1\n"
     ]
    }
   ],
   "source": [
    "num = 10\n",
    "for i in (range(10, 0, -1)):\n",
    "    print(i)"
   ]
  },
  {
   "cell_type": "markdown",
   "id": "131f293e",
   "metadata": {},
   "source": [
    "### Reverse a list using a loop"
   ]
  },
  {
   "cell_type": "code",
   "execution_count": 15,
   "id": "973c6711",
   "metadata": {},
   "outputs": [
    {
     "name": "stdout",
     "output_type": "stream",
     "text": [
      "4\n",
      "3\n",
      "2\n",
      "1\n"
     ]
    }
   ],
   "source": [
    "numbers = [1, 2, 3, 4]\n",
    "for i in numbers[::-1]:\n",
    "    print(i)"
   ]
  },
  {
   "cell_type": "code",
   "execution_count": 23,
   "id": "8e58aa82",
   "metadata": {},
   "outputs": [
    {
     "name": "stdout",
     "output_type": "stream",
     "text": [
      "4\n",
      "3\n",
      "2\n",
      "1\n"
     ]
    }
   ],
   "source": [
    "numbers = [1, 2, 3, 4]\n",
    "for i in numbers[::-1]:\n",
    "    print(i)\n",
    "    "
   ]
  },
  {
   "cell_type": "markdown",
   "id": "a1100c03",
   "metadata": {},
   "source": [
    "# Nested for loops"
   ]
  },
  {
   "cell_type": "code",
   "execution_count": 24,
   "id": "cd9ed805",
   "metadata": {},
   "outputs": [],
   "source": [
    "# outer for loop\n",
    "#for element in sequence \n",
    "   # inner for loop\n",
    "   #for element in sequence:\n",
    "       #body of inner for loop\n",
    "   #body of outer for loop\n",
    "#other statements\n"
   ]
  },
  {
   "cell_type": "code",
   "execution_count": 25,
   "id": "f37879e8",
   "metadata": {},
   "outputs": [
    {
     "name": "stdout",
     "output_type": "stream",
     "text": [
      "* \n",
      "* * \n",
      "* * * \n",
      "* * * * \n",
      "* * * * * \n"
     ]
    }
   ],
   "source": [
    "rows = 5\n",
    "# outer loop\n",
    "for i in range(1, rows + 1):\n",
    "    # inner loop\n",
    "    for j in range(1, i + 1):\n",
    "        print(\"*\", end=\" \")\n",
    "    print('')"
   ]
  },
  {
   "cell_type": "code",
   "execution_count": 36,
   "id": "efb6fc6e",
   "metadata": {},
   "outputs": [
    {
     "name": "stdout",
     "output_type": "stream",
     "text": [
      "* \n",
      "* * \n",
      "* * * \n",
      "* * * * \n",
      "* * * * * \n",
      "* * * * * * \n",
      "* * * * * * * \n",
      "* * * * * * * * \n",
      "* * * * * * * * * \n",
      "* * * * * * * * * * \n",
      "* * * * * * * * * * * \n",
      "* * * * * * * * * * * * \n",
      "* * * * * * * * * * * * * \n",
      "* * * * * * * * * * * * * * \n",
      "* * * * * * * * * * * * * * * \n"
     ]
    }
   ],
   "source": [
    "number = 15\n",
    "for i in range(1, number + 1):\n",
    "    for j in range(1, i + 1):\n",
    "        print(\"*\", end=\" \")\n",
    "    print('')   "
   ]
  },
  {
   "cell_type": "markdown",
   "id": "e0d7c70b",
   "metadata": {},
   "source": [
    "# While loop inside for loop"
   ]
  },
  {
   "cell_type": "code",
   "execution_count": 2,
   "id": "00b25399",
   "metadata": {},
   "outputs": [
    {
     "name": "stdout",
     "output_type": "stream",
     "text": [
      "Multiplication table of: 1\n",
      "1 2 3 4 5 6 7 8 9 10 \n",
      "\n",
      "Multiplication table of: 2\n",
      "2 4 6 8 10 12 14 16 18 20 \n",
      "\n",
      "Multiplication table of: 3\n",
      "3 6 9 12 15 18 21 24 27 30 \n",
      "\n",
      "Multiplication table of: 4\n",
      "4 8 12 16 20 24 28 32 36 40 \n",
      "\n",
      "Multiplication table of: 5\n",
      "5 10 15 20 25 30 35 40 45 50 \n",
      "\n"
     ]
    }
   ],
   "source": [
    "# outer loop\n",
    "for i in range(1, 6):\n",
    "    print('Multiplication table of:', i)\n",
    "    count = 1\n",
    "    # inner loop to print multiplication table of current number\n",
    "    while count < 11:\n",
    "        print(i * count, end=' ')\n",
    "        count = count + 1\n",
    "    print('\\n')"
   ]
  },
  {
   "cell_type": "code",
   "execution_count": 16,
   "id": "752bc28f",
   "metadata": {},
   "outputs": [
    {
     "name": "stdout",
     "output_type": "stream",
     "text": [
      "multiplication of 1 is: \n",
      "1 2 3 4 5 6 7 8 9 10 \n",
      "multiplication of 2 is: \n",
      "2 4 6 8 10 12 14 16 18 20 \n",
      "multiplication of 3 is: \n",
      "3 6 9 12 15 18 21 24 27 30 \n",
      "multiplication of 4 is: \n",
      "4 8 12 16 20 24 28 32 36 40 \n",
      "multiplication of 5 is: \n",
      "5 10 15 20 25 30 35 40 45 50 \n"
     ]
    }
   ],
   "source": [
    "numberss = range(1,6)\n",
    "for i in range(1,6):\n",
    "    print(\"multiplication of\", i, \"is: \")\n",
    "    count = 1\n",
    "    \n",
    "    while count < 11:\n",
    "        print(i * count, end= \" \")\n",
    "        count = count + 1\n",
    "    print()"
   ]
  },
  {
   "cell_type": "markdown",
   "id": "07e20473",
   "metadata": {},
   "source": [
    "# for loop in one line"
   ]
  },
  {
   "cell_type": "code",
   "execution_count": 17,
   "id": "a2dac6f6",
   "metadata": {},
   "outputs": [],
   "source": [
    "# Print the even numbers by adding 1 to the odd numbers in the list"
   ]
  },
  {
   "cell_type": "code",
   "execution_count": 24,
   "id": "d4eb050e",
   "metadata": {},
   "outputs": [
    {
     "name": "stdout",
     "output_type": "stream",
     "text": [
      "[2, 6, 8, 10]\n"
     ]
    }
   ],
   "source": [
    "odd = [1, 5, 7, 9]\n",
    "even_num = [i+1 for i in odd if i%2==1]\n",
    "print(even_num)"
   ]
  },
  {
   "cell_type": "markdown",
   "id": "d9bf233f",
   "metadata": {},
   "source": [
    "# Accessing the index in for loop"
   ]
  },
  {
   "cell_type": "markdown",
   "id": "0e861470",
   "metadata": {},
   "source": [
    "### enumerate() function accesses both Value and its Index"
   ]
  },
  {
   "cell_type": "code",
   "execution_count": 25,
   "id": "0b297f36",
   "metadata": {},
   "outputs": [
    {
     "name": "stdout",
     "output_type": "stream",
     "text": [
      "Numbers[ 0 ] = 4\n",
      "Numbers[ 1 ] = 2\n",
      "Numbers[ 2 ] = 5\n",
      "Numbers[ 3 ] = 7\n",
      "Numbers[ 4 ] = 8\n"
     ]
    }
   ],
   "source": [
    "numbers = [4, 2, 5, 7, 8]\n",
    "for i, v in enumerate(numbers):\n",
    "    print('Numbers[', i, '] =', v)"
   ]
  },
  {
   "cell_type": "code",
   "execution_count": 32,
   "id": "caa11069",
   "metadata": {},
   "outputs": [
    {
     "name": "stdout",
     "output_type": "stream",
     "text": [
      "[0] = 4\n",
      "[1] = 2\n",
      "[2] = 5\n",
      "[3] = 7\n",
      "[4] = 8\n"
     ]
    }
   ],
   "source": [
    "numbers = [4, 2, 5, 7, 8]\n",
    "for i, v in enumerate(numbers):\n",
    "    print([i],\"=\", v)"
   ]
  },
  {
   "cell_type": "markdown",
   "id": "2514c57d",
   "metadata": {},
   "source": [
    "### Printing the elements of the list with its index number using the range() function"
   ]
  },
  {
   "cell_type": "code",
   "execution_count": 33,
   "id": "5e1550f4",
   "metadata": {},
   "outputs": [
    {
     "name": "stdout",
     "output_type": "stream",
     "text": [
      "Index: 0   Value: 1\n",
      "Index: 1   Value: 2\n",
      "Index: 2   Value: 4\n",
      "Index: 3   Value: 6\n",
      "Index: 4   Value: 8\n"
     ]
    }
   ],
   "source": [
    "numbers = [1, 2, 4, 6, 8]\n",
    "size = len(numbers)\n",
    "for i in range(size):\n",
    "    print('Index:', i, \" \", 'Value:', numbers[i])"
   ]
  },
  {
   "cell_type": "code",
   "execution_count": 40,
   "id": "7c5808a0",
   "metadata": {},
   "outputs": [
    {
     "name": "stdout",
     "output_type": "stream",
     "text": [
      "0 1\n",
      "1 2\n",
      "2 4\n",
      "3 6\n",
      "4 8\n"
     ]
    }
   ],
   "source": [
    "numbers = [1, 2, 4, 6, 8]\n",
    "size = len(numbers)\n",
    "for i in range(size):\n",
    "    print(i, numbers[i])"
   ]
  },
  {
   "cell_type": "markdown",
   "id": "6c16124a",
   "metadata": {},
   "source": [
    "# Iterate String using for loop"
   ]
  },
  {
   "cell_type": "code",
   "execution_count": 43,
   "id": "962d90f3",
   "metadata": {},
   "outputs": [
    {
     "name": "stdout",
     "output_type": "stream",
     "text": [
      "Jessa"
     ]
    }
   ],
   "source": [
    "# Access all characters of a string\n",
    "name = \"Jessa\"\n",
    "for i in name:\n",
    "    print(i, end=\"\")"
   ]
  },
  {
   "cell_type": "markdown",
   "id": "6ccbd4be",
   "metadata": {},
   "source": [
    "### Iterate string in reverse order"
   ]
  },
  {
   "cell_type": "code",
   "execution_count": 48,
   "id": "54a15bee",
   "metadata": {},
   "outputs": [
    {
     "name": "stdout",
     "output_type": "stream",
     "text": [
      "a s s e J "
     ]
    }
   ],
   "source": [
    "name = \"Jessa\"\n",
    "for i in name[::-1]:\n",
    "    print(i, end=\" \")\n",
    "   "
   ]
  },
  {
   "cell_type": "code",
   "execution_count": 54,
   "id": "d2069e40",
   "metadata": {},
   "outputs": [
    {
     "name": "stdout",
     "output_type": "stream",
     "text": [
      "ssa wats"
     ]
    }
   ],
   "source": [
    "name = \"Jessa watson\"\n",
    "for i in name[2:10:1]:\n",
    "    print(i, end=\"\")"
   ]
  },
  {
   "cell_type": "markdown",
   "id": "68303335",
   "metadata": {},
   "source": [
    " # Iterate over words in a sentence using the split() function."
   ]
  },
  {
   "cell_type": "code",
   "execution_count": 57,
   "id": "af802b79",
   "metadata": {},
   "outputs": [
    {
     "name": "stdout",
     "output_type": "stream",
     "text": [
      "Remember, Red, hope is a good thing, maybe the best of things, and no good thing ever dies "
     ]
    }
   ],
   "source": [
    "dialogue = \"Remember, Red, hope is a good thing, maybe the best of things, and no good thing ever dies\"\n",
    "for i in dialogue.split():\n",
    "    print(i, end=\" \")"
   ]
  },
  {
   "cell_type": "code",
   "execution_count": 59,
   "id": "6465c7e2",
   "metadata": {},
   "outputs": [
    {
     "name": "stdout",
     "output_type": "stream",
     "text": [
      "Remember\n",
      " Red\n",
      " hope is a good thing\n",
      " maybe the best of things\n",
      " and no good thing ever dies\n"
     ]
    }
   ],
   "source": [
    "dialogue = \"Remember, Red, hope is a good thing, maybe the best of things, and no good thing ever dies\"\n",
    "for i in dialogue.split(\",\"):\n",
    "    print(i)"
   ]
  },
  {
   "cell_type": "markdown",
   "id": "9ebffc3c",
   "metadata": {},
   "source": [
    "# when iterating over a list using for loops, its done directly:"
   ]
  },
  {
   "cell_type": "code",
   "execution_count": 61,
   "id": "4f43549f",
   "metadata": {},
   "outputs": [
    {
     "name": "stdout",
     "output_type": "stream",
     "text": [
      "2 3 5 6 7 "
     ]
    }
   ],
   "source": [
    "numbers = [2, 3, 5, 6, 7]\n",
    "for i in numbers:\n",
    "    print(i, end=\" \")"
   ]
  },
  {
   "cell_type": "markdown",
   "id": "fd960bfe",
   "metadata": {},
   "source": [
    "# when iterating over a list using for loops and Range, its done by find the length of the list and then looping through the length:"
   ]
  },
  {
   "cell_type": "code",
   "execution_count": 63,
   "id": "d0535df9",
   "metadata": {},
   "outputs": [
    {
     "name": "stdout",
     "output_type": "stream",
     "text": [
      "2\n",
      "3\n",
      "5\n",
      "6\n",
      "7\n"
     ]
    }
   ],
   "source": [
    "numbers = [2, 3, 5, 6, 7]\n",
    "size = len(numbers)\n",
    "for i in range(size):\n",
    "    print(numbers[i])"
   ]
  },
  {
   "cell_type": "markdown",
   "id": "f59f5049",
   "metadata": {},
   "source": [
    "#  list comprehension"
   ]
  },
  {
   "cell_type": "code",
   "execution_count": 67,
   "id": "20c1764c",
   "metadata": {},
   "outputs": [
    {
     "name": "stdout",
     "output_type": "stream",
     "text": [
      "2 3 5 6 7 "
     ]
    },
    {
     "data": {
      "text/plain": [
       "[None, None, None, None, None]"
      ]
     },
     "execution_count": 67,
     "metadata": {},
     "output_type": "execute_result"
    }
   ],
   "source": [
    "numbers = [2, 3, 5, 6, 7]\n",
    "[print(i, end=\" \") for i in numbers]"
   ]
  },
  {
   "cell_type": "markdown",
   "id": "3dbcb418",
   "metadata": {},
   "source": [
    "# Iterate Dictionary using for loop used to store the items in the format of key-value pair "
   ]
  },
  {
   "cell_type": "code",
   "execution_count": 68,
   "id": "925be437",
   "metadata": {},
   "outputs": [],
   "source": [
    "dict1 = {1: \"Apple\", 2: \"Ball\", 3: \"Cat\"}\n",
    "dict2 = {\"Brand\": \"BMW\", \"Color\": \"Black\", \"Date\": 1964 }"
   ]
  },
  {
   "cell_type": "markdown",
   "id": "09d26620",
   "metadata": {},
   "source": [
    "### Access only the keys of the dictionary."
   ]
  },
  {
   "cell_type": "code",
   "execution_count": 69,
   "id": "4297b951",
   "metadata": {},
   "outputs": [
    {
     "name": "stdout",
     "output_type": "stream",
     "text": [
      "Brand\n",
      "Color\n",
      "Date\n"
     ]
    }
   ],
   "source": [
    "dict2 = {\"Brand\": \"BMW\", \"Color\": \"Black\", \"Date\": 1964 }\n",
    "for i in dict2:\n",
    "    print(i)"
   ]
  },
  {
   "cell_type": "markdown",
   "id": "5bea2552",
   "metadata": {},
   "source": [
    "# Access only the Values of the dictionary."
   ]
  },
  {
   "cell_type": "code",
   "execution_count": 72,
   "id": "86c738cb",
   "metadata": {},
   "outputs": [
    {
     "name": "stdout",
     "output_type": "stream",
     "text": [
      "BMW\n",
      "Black\n",
      "1964\n"
     ]
    }
   ],
   "source": [
    "dict2 = {\"Brand\": \"BMW\", \"Color\": \"Black\", \"Date\": 1964 }\n",
    "for i in dict2:\n",
    "    print(dict2[i])"
   ]
  },
  {
   "cell_type": "markdown",
   "id": "58f1b8d6",
   "metadata": {},
   "source": [
    "# Iterate keys and values of the dictionary"
   ]
  },
  {
   "cell_type": "code",
   "execution_count": 73,
   "id": "18a350ee",
   "metadata": {},
   "outputs": [
    {
     "name": "stdout",
     "output_type": "stream",
     "text": [
      "Brand = BMW\n",
      "Color = Black\n",
      "Date = 1964\n"
     ]
    }
   ],
   "source": [
    "dict2 = {\"Brand\": \"BMW\", \"Color\": \"Black\", \"Date\": 1964 }\n",
    "for i in dict2:\n",
    "    print(i, \"=\", dict2[i])"
   ]
  },
  {
   "cell_type": "code",
   "execution_count": 75,
   "id": "1fb461ef",
   "metadata": {},
   "outputs": [
    {
     "name": "stdout",
     "output_type": "stream",
     "text": [
      "1\n"
     ]
    }
   ],
   "source": [
    "# print all numbers after the first three and then the second three\n",
    "a = [ 1, 3, 5, 9, 3, 7, 10]\n",
    "pos1 = a.index(3)\n",
    "print(pos1)"
   ]
  },
  {
   "cell_type": "code",
   "execution_count": 80,
   "id": "deaa5f6f",
   "metadata": {},
   "outputs": [
    {
     "name": "stdout",
     "output_type": "stream",
     "text": [
      "4\n"
     ]
    }
   ],
   "source": [
    "pos2 = a.index(3, pos1 + 1)\n",
    "print(pos2)"
   ]
  },
  {
   "cell_type": "code",
   "execution_count": 82,
   "id": "49fcf407",
   "metadata": {},
   "outputs": [
    {
     "name": "stdout",
     "output_type": "stream",
     "text": [
      "5 9 "
     ]
    }
   ],
   "source": [
    "for i in a[2:4]:\n",
    "    print(i, end=' ')\n",
    "    "
   ]
  },
  {
   "cell_type": "code",
   "execution_count": 91,
   "id": "8924aab2",
   "metadata": {},
   "outputs": [
    {
     "name": "stdout",
     "output_type": "stream",
     "text": [
      "7 10 "
     ]
    }
   ],
   "source": [
    "for i in a[5:7]:\n",
    "    print(i, end=' ')"
   ]
  },
  {
   "cell_type": "code",
   "execution_count": 89,
   "id": "7579b70d",
   "metadata": {},
   "outputs": [
    {
     "name": "stdout",
     "output_type": "stream",
     "text": [
      "5 9 7 10 "
     ]
    }
   ],
   "source": [
    "for i in a[2:4]:\n",
    "    print(i, end=' ')\n",
    "for i in a[5:7]:\n",
    "    print(i, end=' ')"
   ]
  },
  {
   "cell_type": "code",
   "execution_count": 109,
   "id": "a86789fd",
   "metadata": {},
   "outputs": [
    {
     "name": "stdout",
     "output_type": "stream",
     "text": [
      "[0] = 1\n",
      "[1] = 3\n",
      "[2] = 5\n",
      "[3] = 9\n",
      "[4] = 3\n",
      "[5] = 7\n",
      "[6] = 10\n"
     ]
    }
   ],
   "source": [
    "a = [ 1, 3, 5, 9, 3, 7, 10]\n",
    "for i, v in enumerate(a):\n",
    "    print([i],\"=\", v)\n"
   ]
  },
  {
   "cell_type": "code",
   "execution_count": 114,
   "id": "16f0e292",
   "metadata": {},
   "outputs": [
    {
     "name": "stdout",
     "output_type": "stream",
     "text": [
      "[0] = 1\n",
      "[1] = 3\n",
      "[2] = 5\n",
      "[3] = 9\n",
      "[4] = 3\n",
      "[5] = 7\n",
      "[6] = 10\n"
     ]
    }
   ],
   "source": [
    "a = [ 1, 3, 5, 9, 3, 7, 10]\n",
    "size = len(a)\n",
    "for i in range(size):\n",
    "    print([i], \"=\", a[i])"
   ]
  },
  {
   "cell_type": "code",
   "execution_count": null,
   "id": "746e190b",
   "metadata": {},
   "outputs": [],
   "source": []
  }
 ],
 "metadata": {
  "kernelspec": {
   "display_name": "Python 3 (ipykernel)",
   "language": "python",
   "name": "python3"
  },
  "language_info": {
   "codemirror_mode": {
    "name": "ipython",
    "version": 3
   },
   "file_extension": ".py",
   "mimetype": "text/x-python",
   "name": "python",
   "nbconvert_exporter": "python",
   "pygments_lexer": "ipython3",
   "version": "3.9.7"
  }
 },
 "nbformat": 4,
 "nbformat_minor": 5
}
