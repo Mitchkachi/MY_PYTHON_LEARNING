{
 "cells": [
  {
   "cell_type": "markdown",
   "id": "1eab6f2d",
   "metadata": {},
   "source": [
    "# capitalize() method"
   ]
  },
  {
   "cell_type": "code",
   "execution_count": 27,
   "id": "f2d09da6",
   "metadata": {},
   "outputs": [
    {
     "name": "stdout",
     "output_type": "stream",
     "text": [
      "Hello world!\n"
     ]
    }
   ],
   "source": [
    "#returns the copy of the string with its first character capitalized and the rest of the letters lowercased.\n",
    "\n",
    "a = 'hello world!'\n",
    "print(a.capitalize())"
   ]
  },
  {
   "cell_type": "markdown",
   "id": "df242f88",
   "metadata": {},
   "source": [
    "#  islower() Method"
   ]
  },
  {
   "cell_type": "code",
   "execution_count": 28,
   "id": "24d6e026",
   "metadata": {},
   "outputs": [
    {
     "name": "stdout",
     "output_type": "stream",
     "text": [
      "True\n"
     ]
    }
   ],
   "source": [
    "# It returns True if all characters are lowercased and False even if one character is uppercase.\n",
    "\n",
    "a = 'hello world!'\n",
    "print(a.islower())"
   ]
  },
  {
   "cell_type": "markdown",
   "id": "0dcc87ed",
   "metadata": {},
   "source": [
    "# lower() Method"
   ]
  },
  {
   "cell_type": "code",
   "execution_count": 29,
   "id": "cbc98a9b",
   "metadata": {},
   "outputs": [
    {
     "name": "stdout",
     "output_type": "stream",
     "text": [
      "#1 harbour side\n"
     ]
    }
   ],
   "source": [
    "# The lower() method returns the copy of the original string wherein all the characters are converted to lowercase.\n",
    "\n",
    "mystr = '#1 HarBour sIDe'\n",
    "print(mystr.lower())"
   ]
  },
  {
   "cell_type": "markdown",
   "id": "a5d4a52e",
   "metadata": {},
   "source": [
    "# isupper() Method"
   ]
  },
  {
   "cell_type": "code",
   "execution_count": 30,
   "id": "38bdbc6d",
   "metadata": {},
   "outputs": [
    {
     "name": "stdout",
     "output_type": "stream",
     "text": [
      "False\n"
     ]
    }
   ],
   "source": [
    "# It returns True if all characters are uppercase and False even if one character is not in uppercase.\n",
    "\n",
    "mystr = '#1 HarBour sIDe'\n",
    "print(mystr.isupper())\n"
   ]
  },
  {
   "cell_type": "markdown",
   "id": "6adb1941",
   "metadata": {},
   "source": [
    "# upper() Method"
   ]
  },
  {
   "cell_type": "code",
   "execution_count": 31,
   "id": "7d59017a",
   "metadata": {},
   "outputs": [
    {
     "name": "stdout",
     "output_type": "stream",
     "text": [
      "HELLO WORLD!\n"
     ]
    }
   ],
   "source": [
    "# The upper() method returns a string in the upper case. Symbols and numbers remain unaffected.\n",
    "\n",
    "a = 'hello world!'\n",
    "print(a.upper())"
   ]
  },
  {
   "cell_type": "markdown",
   "id": "23dce7aa",
   "metadata": {},
   "source": [
    "# split() Method"
   ]
  },
  {
   "cell_type": "code",
   "execution_count": 32,
   "id": "70d8b165",
   "metadata": {},
   "outputs": [
    {
     "name": "stdout",
     "output_type": "stream",
     "text": [
      "['Hello', 'World']\n"
     ]
    }
   ],
   "source": [
    "# The split() method splits the string from the specified separator and returns a list object with string elements. \n",
    "#The default separator is any whitespace character such as space, \\t, \\n, etc.\n",
    "\n",
    "#Syntax:\n",
    "#str.split(separator, maxsplit)\n",
    "\n",
    "mystr = 'Hello World'\n",
    "print(mystr.split())"
   ]
  },
  {
   "cell_type": "markdown",
   "id": "007946f7",
   "metadata": {},
   "source": [
    "#### Split using Separator\n",
    "#### using a maxsplit parameter"
   ]
  },
  {
   "cell_type": "code",
   "execution_count": 33,
   "id": "3cc3d609",
   "metadata": {},
   "outputs": [
    {
     "name": "stdout",
     "output_type": "stream",
     "text": [
      "['C', 'Python', 'R', 'Java', 'SQL', 'Hadoop']\n",
      "['apples', 'banana', 'mango', 'fig', 'pear']\n"
     ]
    }
   ],
   "source": [
    "langs = 'C,Python,R,Java,SQL,Hadoop'\n",
    "print(langs.split(','))\n",
    "\n",
    "fruits = 'apples$banana$mango$fig$pear'\n",
    "print(fruits.split('$'))"
   ]
  },
  {
   "cell_type": "code",
   "execution_count": 34,
   "id": "368350c4",
   "metadata": {},
   "outputs": [
    {
     "name": "stdout",
     "output_type": "stream",
     "text": [
      "['C', 'Python', 'R', 'Java,SQL,Hadoop']\n",
      "['apples', 'banana', 'mango$fig$pear']\n"
     ]
    }
   ],
   "source": [
    "# The following example limits the split by specifying the maxsplit parameter.\n",
    "\n",
    "langs = 'C,Python,R,Java,SQL,Hadoop'\n",
    "print(langs.split(',', 3))\n",
    "\n",
    "fruits = 'apples$banana$mango$fig$pear'\n",
    "print(fruits.split('$', 2))"
   ]
  },
  {
   "cell_type": "markdown",
   "id": "8aaee6bf",
   "metadata": {},
   "source": [
    "# rsplit() Method(reverse splitting wen max-split is set)"
   ]
  },
  {
   "cell_type": "code",
   "execution_count": 9,
   "id": "f955af69",
   "metadata": {},
   "outputs": [],
   "source": [
    "#The only difference between the split() and rsplit() is when the maxsplit parameter is specified.\n",
    "#If the maxsplit parameter is specified, then the rsplit() method starts splitting a string from the right side \n",
    "#(from the last character), whereas the split() method starts splitting from the left side (from the first character)."
   ]
  },
  {
   "cell_type": "code",
   "execution_count": 10,
   "id": "a88021c5",
   "metadata": {},
   "outputs": [
    {
     "name": "stdout",
     "output_type": "stream",
     "text": [
      "['C,Python,R', 'Java', 'SQL', 'Hadoop']\n",
      "['apples$banana$mango', 'fig', 'pear']\n"
     ]
    }
   ],
   "source": [
    "langs = 'C,Python,R,Java,SQL,Hadoop'\n",
    "print(langs.rsplit(',', 3))\n",
    "\n",
    "fruits = 'apples$banana$mango$fig$pear'\n",
    "print(fruits.rsplit('$', 2))"
   ]
  },
  {
   "cell_type": "markdown",
   "id": "78635cd3",
   "metadata": {},
   "source": [
    "# strip() Method"
   ]
  },
  {
   "cell_type": "code",
   "execution_count": 11,
   "id": "a2febc47",
   "metadata": {},
   "outputs": [],
   "source": [
    "#The strip() method returns a copy of the string by removing both the leading and the trailing characters.\n",
    "#By default, it removes leading whitespaces if no argument passed."
   ]
  },
  {
   "cell_type": "code",
   "execution_count": 12,
   "id": "46d125fe",
   "metadata": {},
   "outputs": [
    {
     "name": "stdout",
     "output_type": "stream",
     "text": [
      "Hello World\n"
     ]
    }
   ],
   "source": [
    "mystr = '     Hello World     '\n",
    "print(mystr.strip()) "
   ]
  },
  {
   "cell_type": "code",
   "execution_count": 13,
   "id": "bee9e2cf",
   "metadata": {},
   "outputs": [
    {
     "name": "stdout",
     "output_type": "stream",
     "text": [
      "Hello World\n"
     ]
    }
   ],
   "source": [
    "my = '#$2Hello World#$2'\n",
    "print(my.strip('$2#'))"
   ]
  },
  {
   "cell_type": "markdown",
   "id": "026fdfed",
   "metadata": {},
   "source": [
    "# rstrip() Method(right strips only from the back)"
   ]
  },
  {
   "cell_type": "code",
   "execution_count": 14,
   "id": "fb3e0cda",
   "metadata": {},
   "outputs": [],
   "source": [
    "#The rstrip() method returns a copy of the string by removing the trailing characters specified as argument.\n",
    "#If the characters argument is not provided, all trailing whitespaces are removed from the string.\n",
    "#Trailing characters are those characters which occur at the end of the string (rightmost part of the string)."
   ]
  },
  {
   "cell_type": "code",
   "execution_count": 15,
   "id": "4ff44ae4",
   "metadata": {},
   "outputs": [
    {
     "data": {
      "text/plain": [
       "'     Hello World'"
      ]
     },
     "execution_count": 15,
     "metadata": {},
     "output_type": "execute_result"
    }
   ],
   "source": [
    " mystr = '     Hello World     '\n",
    "mystr.rstrip() "
   ]
  },
  {
   "cell_type": "code",
   "execution_count": 16,
   "id": "478a2aad",
   "metadata": {},
   "outputs": [
    {
     "data": {
      "text/plain": [
       "'#$2Hello World'"
      ]
     },
     "execution_count": 16,
     "metadata": {},
     "output_type": "execute_result"
    }
   ],
   "source": [
    "'#$2Hello World#$2'.rstrip('$2#')"
   ]
  },
  {
   "cell_type": "markdown",
   "id": "62cc23ed",
   "metadata": {},
   "source": [
    "# lstrip() Method(left strips removes from the front only)"
   ]
  },
  {
   "cell_type": "code",
   "execution_count": 17,
   "id": "7afd8a8c",
   "metadata": {},
   "outputs": [
    {
     "data": {
      "text/plain": [
       "'Hello World     '"
      ]
     },
     "execution_count": 17,
     "metadata": {},
     "output_type": "execute_result"
    }
   ],
   "source": [
    "mystr = '     Hello World     '\n",
    "mystr.lstrip() "
   ]
  },
  {
   "cell_type": "code",
   "execution_count": 18,
   "id": "1563bebc",
   "metadata": {},
   "outputs": [
    {
     "data": {
      "text/plain": [
       "'Hello World#$2'"
      ]
     },
     "execution_count": 18,
     "metadata": {},
     "output_type": "execute_result"
    }
   ],
   "source": [
    "'#$2Hello World#$2'.lstrip('$2#')"
   ]
  },
  {
   "cell_type": "code",
   "execution_count": 19,
   "id": "f12df8a7",
   "metadata": {},
   "outputs": [
    {
     "data": {
      "text/plain": [
       "'-2Hello World#$2'"
      ]
     },
     "execution_count": 19,
     "metadata": {},
     "output_type": "execute_result"
    }
   ],
   "source": [
    "'#$-2Hello World#$2'.lstrip('$2#')\n"
   ]
  },
  {
   "cell_type": "code",
   "execution_count": 20,
   "id": "26957e96",
   "metadata": {},
   "outputs": [],
   "source": [
    "#However, #$-2Hello World#$2'.lstrip('$2#') removes only leading '#' and '$', because '-' is not specified to be removed,\n",
    "#so it stops there and consider it as a word."
   ]
  },
  {
   "cell_type": "markdown",
   "id": "82e54603",
   "metadata": {},
   "source": [
    "# title() Method"
   ]
  },
  {
   "cell_type": "code",
   "execution_count": 21,
   "id": "a7559458",
   "metadata": {},
   "outputs": [],
   "source": [
    "#The title() method returns a string where each word starts with an uppercase character, and the remaining characters \n",
    "#are lowercase. If the word contains a number or a symbol, the first letter after that will be converted to upper case."
   ]
  },
  {
   "cell_type": "code",
   "execution_count": 22,
   "id": "90fb5a04",
   "metadata": {},
   "outputs": [
    {
     "data": {
      "text/plain": [
       "'Hello World'"
      ]
     },
     "execution_count": 22,
     "metadata": {},
     "output_type": "execute_result"
    }
   ],
   "source": [
    "'hello world'.title()"
   ]
  },
  {
   "cell_type": "code",
   "execution_count": 23,
   "id": "854cd954",
   "metadata": {},
   "outputs": [
    {
     "data": {
      "text/plain": [
       "'Tutorialsteacher Is A Free Tutorials Website'"
      ]
     },
     "execution_count": 23,
     "metadata": {},
     "output_type": "execute_result"
    }
   ],
   "source": [
    "mystr = 'TutorialsTeacher is a free tutorials website'\n",
    "mystr.title()"
   ]
  },
  {
   "cell_type": "code",
   "execution_count": 24,
   "id": "98c3d216",
   "metadata": {},
   "outputs": [
    {
     "data": {
      "text/plain": [
       "'1 Harbour Side'"
      ]
     },
     "execution_count": 24,
     "metadata": {},
     "output_type": "execute_result"
    }
   ],
   "source": [
    "'1 harbour side'.title()"
   ]
  },
  {
   "cell_type": "code",
   "execution_count": 25,
   "id": "acebb2c7",
   "metadata": {},
   "outputs": [
    {
     "data": {
      "text/plain": [
       "'123Abc'"
      ]
     },
     "execution_count": 25,
     "metadata": {},
     "output_type": "execute_result"
    }
   ],
   "source": [
    "'123abc'.title()"
   ]
  },
  {
   "cell_type": "markdown",
   "id": "aeec11f6",
   "metadata": {},
   "source": [
    "# index() method"
   ]
  },
  {
   "cell_type": "code",
   "execution_count": 26,
   "id": "c0571ab3",
   "metadata": {},
   "outputs": [
    {
     "ename": "SyntaxError",
     "evalue": "invalid syntax (Temp/ipykernel_4440/2552871736.py, line 1)",
     "output_type": "error",
     "traceback": [
      "\u001b[1;36m  File \u001b[1;32m\"C:\\Users\\User\\AppData\\Local\\Temp/ipykernel_4440/2552871736.py\"\u001b[1;36m, line \u001b[1;32m1\u001b[0m\n\u001b[1;33m    The index() method returns the index of the first occurence of a substring in the given string.\u001b[0m\n\u001b[1;37m        ^\u001b[0m\n\u001b[1;31mSyntaxError\u001b[0m\u001b[1;31m:\u001b[0m invalid syntax\n"
     ]
    }
   ],
   "source": [
    "The index() method returns the index of the first occurence of a substring in the given string. \n",
    "It is same as the find() method except that if a substring is not found, then it raises an exception."
   ]
  },
  {
   "cell_type": "markdown",
   "id": "a65828d6",
   "metadata": {},
   "source": [
    "### Syntax:  str.index(substr, start, end)"
   ]
  },
  {
   "cell_type": "code",
   "execution_count": null,
   "id": "c455a22d",
   "metadata": {},
   "outputs": [],
   "source": [
    "greet='Hello World!'\n",
    "print(\"index of o is: \", greet.index('o'))"
   ]
  },
  {
   "cell_type": "code",
   "execution_count": null,
   "id": "12cda2bf",
   "metadata": {},
   "outputs": [],
   "source": [
    "print('Index of World: ', greet.index('World'))"
   ]
  },
  {
   "cell_type": "code",
   "execution_count": null,
   "id": "3eddc13c",
   "metadata": {},
   "outputs": [],
   "source": [
    "print('Index of Hello: ', greet.index('Hello'))"
   ]
  },
  {
   "cell_type": "markdown",
   "id": "9d1287e7",
   "metadata": {},
   "source": [
    "### The index() method returns an index of the first occurance only as seen above."
   ]
  },
  {
   "cell_type": "markdown",
   "id": "2e8d57a4",
   "metadata": {},
   "source": [
    "## index() with start and end parameters"
   ]
  },
  {
   "cell_type": "code",
   "execution_count": null,
   "id": "981e72fa",
   "metadata": {},
   "outputs": [],
   "source": [
    "mystr='tutorialsteacher is a free tutorials website'\n",
    "print(mystr.index('tutorials',10)) # search starts from 10th index"
   ]
  },
  {
   "cell_type": "code",
   "execution_count": null,
   "id": "023a7123",
   "metadata": {},
   "outputs": [],
   "source": [
    "print(mystr.index('tutorials',1, 26)) # throws error; searches between 1st and 26th index"
   ]
  },
  {
   "cell_type": "code",
   "execution_count": null,
   "id": "e917cf76",
   "metadata": {},
   "outputs": [],
   "source": []
  }
 ],
 "metadata": {
  "kernelspec": {
   "display_name": "Python 3 (ipykernel)",
   "language": "python",
   "name": "python3"
  },
  "language_info": {
   "codemirror_mode": {
    "name": "ipython",
    "version": 3
   },
   "file_extension": ".py",
   "mimetype": "text/x-python",
   "name": "python",
   "nbconvert_exporter": "python",
   "pygments_lexer": "ipython3",
   "version": "3.9.7"
  }
 },
 "nbformat": 4,
 "nbformat_minor": 5
}
