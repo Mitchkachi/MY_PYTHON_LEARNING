{
 "cells": [
  {
   "cell_type": "markdown",
   "id": "ab3c7f68",
   "metadata": {},
   "source": [
    "# Accessing elements of a dictionary"
   ]
  },
  {
   "cell_type": "code",
   "execution_count": 65,
   "id": "5a54a98f",
   "metadata": {},
   "outputs": [
    {
     "name": "stdout",
     "output_type": "stream",
     "text": [
      "Jessa\n"
     ]
    }
   ],
   "source": [
    "# There are two different ways to access the elements or retrieve vales in a dictionary.\n",
    "#  1)\n",
    "#     using the square brackets[]\n",
    "#     e.g \n",
    "\n",
    "person = {\"name\": \"Jessa\", \"country\": \"USA\", \"telephone\": 1178}\n",
    "print(person[\"name\"])\n"
   ]
  },
  {
   "cell_type": "code",
   "execution_count": 66,
   "id": "20ca2172",
   "metadata": {},
   "outputs": [
    {
     "name": "stdout",
     "output_type": "stream",
     "text": [
      "Jessa\n"
     ]
    }
   ],
   "source": [
    "# 2)\n",
    "# using the .GET() method\n",
    "# e.g \n",
    "# person = {\"name\": \"Jessa\", \"country\": \"USA\", \"telephone\": 1178}\n",
    "print(person.get(\"name\"))"
   ]
  },
  {
   "cell_type": "markdown",
   "id": "47619881",
   "metadata": {},
   "source": [
    "# Get all keys and values"
   ]
  },
  {
   "cell_type": "markdown",
   "id": "bd8970cc",
   "metadata": {},
   "source": [
    "### Use the following dictionary methods to retrieve all key and values at once\n",
    "\n",
    "### Method\tDescription\n",
    "#### keys()\tReturns the list of all keys present in the dictionary.\n",
    "#### values()\tReturns the list of all values present in the dictionary\n",
    "#### items()\tReturns all the items present in the dictionary. Each item will be inside a tuple as a key-value pair."
   ]
  },
  {
   "cell_type": "code",
   "execution_count": 67,
   "id": "02f837e1",
   "metadata": {},
   "outputs": [
    {
     "name": "stdout",
     "output_type": "stream",
     "text": [
      "dict_keys(['name', 'country', 'telephone'])\n"
     ]
    }
   ],
   "source": [
    "person = {\"name\": \"Jessa\", \"country\": \"USA\", \"telephone\": 1178}\n",
    "\n",
    "# Get all keys\n",
    "print(person.keys())"
   ]
  },
  {
   "cell_type": "code",
   "execution_count": 68,
   "id": "bc346545",
   "metadata": {},
   "outputs": [
    {
     "name": "stdout",
     "output_type": "stream",
     "text": [
      "dict_values(['Jessa', 'USA', 1178])\n"
     ]
    }
   ],
   "source": [
    "# Get all values\n",
    "print(person.values())"
   ]
  },
  {
   "cell_type": "code",
   "execution_count": 69,
   "id": "4e743b45",
   "metadata": {},
   "outputs": [
    {
     "name": "stdout",
     "output_type": "stream",
     "text": [
      "dict_items([('name', 'Jessa'), ('country', 'USA'), ('telephone', 1178)])\n"
     ]
    }
   ],
   "source": [
    "# Get all key-value pair\n",
    "print(person.items())"
   ]
  },
  {
   "cell_type": "markdown",
   "id": "6d86ce00",
   "metadata": {},
   "source": [
    "# Iterating a dictionary"
   ]
  },
  {
   "cell_type": "markdown",
   "id": "27eec117",
   "metadata": {},
   "source": [
    "### Iterating the dictionary using for-loop"
   ]
  },
  {
   "cell_type": "code",
   "execution_count": 70,
   "id": "2115f403",
   "metadata": {},
   "outputs": [
    {
     "name": "stdout",
     "output_type": "stream",
     "text": [
      "name : Jessa\n",
      "country : USA\n",
      "telephone : 1178\n"
     ]
    }
   ],
   "source": [
    "person = {\"name\": \"Jessa\", \"country\": \"USA\", \"telephone\": 1178}\n",
    "for i in person:\n",
    "    print(i, \":\", person[i])"
   ]
  },
  {
   "cell_type": "markdown",
   "id": "d572b835",
   "metadata": {},
   "source": [
    "### Iterating the dictionary using for-loop and .items()\n",
    "### [0] > keys\n",
    "### [1] > values"
   ]
  },
  {
   "cell_type": "code",
   "execution_count": 71,
   "id": "7fcb6bb2",
   "metadata": {},
   "outputs": [
    {
     "name": "stdout",
     "output_type": "stream",
     "text": [
      "name Jessa\n",
      "country USA\n",
      "telephone 1178\n"
     ]
    }
   ],
   "source": [
    "person = {\"name\": \"Jessa\", \"country\": \"USA\", \"telephone\": 1178}\n",
    "for i in person.items():\n",
    "    print(i[0], i[1])"
   ]
  },
  {
   "cell_type": "markdown",
   "id": "1feb82d9",
   "metadata": {},
   "source": [
    "# Find the length of a dictionary"
   ]
  },
  {
   "cell_type": "code",
   "execution_count": 72,
   "id": "be991343",
   "metadata": {},
   "outputs": [
    {
     "name": "stdout",
     "output_type": "stream",
     "text": [
      "3\n"
     ]
    }
   ],
   "source": [
    "print(len(person))"
   ]
  },
  {
   "cell_type": "markdown",
   "id": "5a43a115",
   "metadata": {},
   "source": [
    "# Adding items to the dictionary\n",
    "\n",
    "## Using key-value assignment\n",
    "\n",
    "## Using update({}) Method(can add single or multiple key-value pairs)"
   ]
  },
  {
   "cell_type": "code",
   "execution_count": 73,
   "id": "eac18216",
   "metadata": {},
   "outputs": [
    {
     "name": "stdout",
     "output_type": "stream",
     "text": [
      "{'name': 'Jessa', 'country': 'USA', 'telephone': 1178, 'age': 45}\n"
     ]
    }
   ],
   "source": [
    "# Using key-value assignment\n",
    "person = {\"name\": \"Jessa\", 'country': \"USA\", \"telephone\": 1178}\n",
    "person[\"age\"]= 45\n",
    "print(person)"
   ]
  },
  {
   "cell_type": "code",
   "execution_count": 74,
   "id": "71f7b0d0",
   "metadata": {},
   "outputs": [
    {
     "name": "stdout",
     "output_type": "stream",
     "text": [
      "{'name': 'Jessa', 'country': 'USA', 'telephone': 1178, 'height': 180}\n"
     ]
    }
   ],
   "source": [
    "# Using update() Method to add single and multiples\n",
    "person = {\"name\": \"Jessa\", 'country': \"USA\", \"telephone\": 1178}\n",
    "person.update({\"height\": 180})\n",
    "print(person)"
   ]
  },
  {
   "cell_type": "code",
   "execution_count": 75,
   "id": "ec6a0f5a",
   "metadata": {},
   "outputs": [
    {
     "name": "stdout",
     "output_type": "stream",
     "text": [
      "{'name': 'Jessa', 'country': 'USA', 'telephone': 1178, 'height': 180, 'weight': 98}\n"
     ]
    }
   ],
   "source": [
    "person = {\"name\": \"Jessa\", 'country': \"USA\", \"telephone\": 1178}\n",
    "person.update({\"height\": 180, \"weight\": 98})\n",
    "print(person)"
   ]
  },
  {
   "cell_type": "code",
   "execution_count": 76,
   "id": "6deb574c",
   "metadata": {},
   "outputs": [
    {
     "name": "stdout",
     "output_type": "stream",
     "text": [
      "{'name': 'Jessa', 'country': 'USA', 'telephone': 1178, 'city': 'texas', 'company': 'Google'}\n"
     ]
    }
   ],
   "source": [
    "# pass new keys as a list of tuple\n",
    "person = {\"name\": \"Jessa\", 'country': \"USA\", \"telephone\": 1178}\n",
    "person.update([(\"city\", \"texas\"), (\"company\", \"Google\")])\n",
    "print(person)"
   ]
  },
  {
   "cell_type": "markdown",
   "id": "80b02e66",
   "metadata": {},
   "source": [
    "# Set default value to a key"
   ]
  },
  {
   "cell_type": "code",
   "execution_count": 77,
   "id": "50b96b50",
   "metadata": {},
   "outputs": [
    {
     "name": "stdout",
     "output_type": "stream",
     "text": [
      "{'name': 'Jessa', 'country': 'USA', 'telephone': 1178, 'state': 'texas'}\n"
     ]
    }
   ],
   "source": [
    "person_details = {\"name\": \"Jessa\", \"country\": \"USA\", \"telephone\": 1178}\n",
    "\n",
    "# set default value if key doesn't exists\n",
    "person_details.setdefault(\"state\", \"texas\")\n",
    "print(person_details)"
   ]
  },
  {
   "cell_type": "code",
   "execution_count": 78,
   "id": "6ce92d70",
   "metadata": {},
   "outputs": [
    {
     "name": "stdout",
     "output_type": "stream",
     "text": [
      "{'name': 'Jessa', 'country': 'USA', 'telephone': 1178, 'state': 'texas', 'zip': None}\n",
      "{'name': 'Jessa', 'country': 'USA', 'telephone': 1178, 'state': 'texas', 'zip': None}\n"
     ]
    }
   ],
   "source": [
    "# key doesn't exists and value not mentioned. default None\n",
    "person_details.setdefault(\"zip\")\n",
    "print(person_details)\n",
    "\n",
    "# key exists and value mentioned. doesn't  change value\n",
    "person_details.setdefault('country', 'Canada')\n",
    "print(person_details)"
   ]
  },
  {
   "cell_type": "markdown",
   "id": "1392490d",
   "metadata": {},
   "source": [
    "# Display dictionary"
   ]
  },
  {
   "cell_type": "code",
   "execution_count": 79,
   "id": "bd272734",
   "metadata": {},
   "outputs": [
    {
     "name": "stdout",
     "output_type": "stream",
     "text": [
      "name : Jessa\n",
      "country : USA\n",
      "telephone : 1178\n"
     ]
    }
   ],
   "source": [
    "person = {\"name\": \"Jessa\", 'country': \"USA\", \"telephone\": 1178}\n",
    "for i, j in person.items():\n",
    "    print(i, \":\", j)"
   ]
  },
  {
   "cell_type": "markdown",
   "id": "a6dab671",
   "metadata": {},
   "source": [
    "# Modify the values of the dictionary keys"
   ]
  },
  {
   "cell_type": "markdown",
   "id": "9111f7b4",
   "metadata": {},
   "source": [
    "## Using key-value assignment[]\n",
    "## Using update({}) Method(can update single or multiple key-value pairs)"
   ]
  },
  {
   "cell_type": "code",
   "execution_count": 80,
   "id": "0dcd1639",
   "metadata": {},
   "outputs": [
    {
     "name": "stdout",
     "output_type": "stream",
     "text": [
      "{'name': 'mimi', 'country': 'canada', 'telephone': 1178}\n"
     ]
    }
   ],
   "source": [
    "# Using update({}) Method(can update single or multiple key-value pairs)\n",
    "person = {\"name\": \"Jessa\", 'country': \"USA\", \"telephone\": 1178}\n",
    "person.update({\"country\":\"canada\", \"name\":\"mimi\"})\n",
    "print(person)"
   ]
  },
  {
   "cell_type": "code",
   "execution_count": 81,
   "id": "4ec53efe",
   "metadata": {},
   "outputs": [
    {
     "name": "stdout",
     "output_type": "stream",
     "text": [
      "jessa\n"
     ]
    }
   ],
   "source": [
    "# Using key-value assignment[]\n",
    "person[\"name\"]= \"jessa\"\n",
    "print(person[\"name\"])"
   ]
  },
  {
   "cell_type": "markdown",
   "id": "4349c980",
   "metadata": {},
   "source": [
    "# Removing items from the dictionary"
   ]
  },
  {
   "cell_type": "markdown",
   "id": "da7039f0",
   "metadata": {},
   "source": [
    "## Remove last inserted item from the dictionary(.popitem())"
   ]
  },
  {
   "cell_type": "code",
   "execution_count": 82,
   "id": "320ae39b",
   "metadata": {},
   "outputs": [
    {
     "name": "stdout",
     "output_type": "stream",
     "text": [
      "('height', 6)\n",
      "{'name': 'Jessa', 'country': 'USA', 'telephone': 1178, 'weight': 50}\n"
     ]
    }
   ],
   "source": [
    "person = {'name': 'Jessa', 'country': 'USA', 'telephone': 1178, 'weight': 50, 'height': 6}\n",
    "del_person = person.popitem()\n",
    "print(del_person)\n",
    "print(person)"
   ]
  },
  {
   "cell_type": "markdown",
   "id": "4777551e",
   "metadata": {},
   "source": [
    "## Remove a key from the dictionary(.pop(keyname))"
   ]
  },
  {
   "cell_type": "code",
   "execution_count": 83,
   "id": "ca5d5e34",
   "metadata": {},
   "outputs": [
    {
     "name": "stdout",
     "output_type": "stream",
     "text": [
      "1178\n",
      "{'name': 'Jessa', 'country': 'USA', 'weight': 50}\n"
     ]
    }
   ],
   "source": [
    "# Remove key 'telephone' from the dictionary\n",
    "deleted_item = person.pop(\"telephone\")\n",
    "print(deleted_item)\n",
    "print(person)"
   ]
  },
  {
   "cell_type": "markdown",
   "id": "a7f4a4ca",
   "metadata": {},
   "source": [
    "## delete key 'weight'(del dictname; no comma or brackets)"
   ]
  },
  {
   "cell_type": "code",
   "execution_count": 84,
   "id": "5b13ab74",
   "metadata": {},
   "outputs": [
    {
     "name": "stdout",
     "output_type": "stream",
     "text": [
      "{'name': 'Jessa', 'country': 'USA'}\n"
     ]
    }
   ],
   "source": [
    "del person[\"weight\"]\n",
    "print(person)"
   ]
  },
  {
   "cell_type": "markdown",
   "id": "cdeef10d",
   "metadata": {},
   "source": [
    "## remove all item (key-values) from dict"
   ]
  },
  {
   "cell_type": "code",
   "execution_count": 85,
   "id": "551cb83e",
   "metadata": {},
   "outputs": [
    {
     "name": "stdout",
     "output_type": "stream",
     "text": [
      "{}\n"
     ]
    }
   ],
   "source": [
    "person.clear()\n",
    "print(person)"
   ]
  },
  {
   "cell_type": "markdown",
   "id": "a15e0131",
   "metadata": {},
   "source": [
    "## Delete the entire dictionary"
   ]
  },
  {
   "cell_type": "code",
   "execution_count": 86,
   "id": "d6a5b469",
   "metadata": {},
   "outputs": [],
   "source": [
    "# del person\n",
    "# print(person)"
   ]
  },
  {
   "cell_type": "markdown",
   "id": "62ccbfdc",
   "metadata": {},
   "source": [
    "# Checking if a key exists(use the .keys() together with the in operator)"
   ]
  },
  {
   "cell_type": "code",
   "execution_count": 94,
   "id": "65824620",
   "metadata": {},
   "outputs": [
    {
     "name": "stdout",
     "output_type": "stream",
     "text": [
      "country : USA\n"
     ]
    }
   ],
   "source": [
    "person = {'name': 'Jessa', 'country': 'USA', 'telephone': 1178}\n",
    "\n",
    "key_name = 'country'\n",
    "if key_name in person.keys():\n",
    "    print(key_name,\":\", person[key_name])\n",
    "else:\n",
    "    print(\"no\")"
   ]
  },
  {
   "cell_type": "markdown",
   "id": "fe208f7e",
   "metadata": {},
   "source": [
    "# Join two dictionary"
   ]
  },
  {
   "cell_type": "markdown",
   "id": "36097ea4",
   "metadata": {},
   "source": [
    "### we can either use \n",
    "### the update() method or;\n",
    "### the **kwargs method"
   ]
  },
  {
   "cell_type": "code",
   "execution_count": 99,
   "id": "d4c1a1f6",
   "metadata": {},
   "outputs": [
    {
     "name": "stdout",
     "output_type": "stream",
     "text": [
      "{'Jessa': 70, 'Arul': 80, 'Emma': 55, 'Kelly': 68, 'Harry': 50, 'Olivia': 66}\n"
     ]
    }
   ],
   "source": [
    "dict1 = {'Jessa': 70, 'Arul': 80, 'Emma': 55}\n",
    "dict2 = {'Kelly': 68, 'Harry': 50, 'Olivia': 66}\n",
    "\n",
    "dict1.update(dict2)\n",
    "print(dict1)"
   ]
  },
  {
   "cell_type": "code",
   "execution_count": 101,
   "id": "c8014627",
   "metadata": {},
   "outputs": [
    {
     "name": "stdout",
     "output_type": "stream",
     "text": [
      "{'Aadya': 1, 'Arul': 2, 'Harry': 5, 'Olivia': 6, 'Nancy': 7, 'Perry': 9}\n"
     ]
    }
   ],
   "source": [
    "student_dict1 = {'Aadya': 1, 'Arul': 2, }\n",
    "student_dict2 = {'Harry': 5, 'Olivia': 6}\n",
    "student_dict3 = {'Nancy': 7, 'Perry': 9}\n",
    "\n",
    "student_dict = {**student_dict1, **student_dict2, **student_dict3}\n",
    "print(student_dict)"
   ]
  },
  {
   "cell_type": "markdown",
   "id": "48bad1bd",
   "metadata": {},
   "source": [
    "# Join two dictionaries having few items in common"
   ]
  },
  {
   "cell_type": "markdown",
   "id": "f54009e5",
   "metadata": {},
   "source": [
    "### Note: One thing to note here is that if both the dictionaries have a common key then the first dictionary value will be overridden with the second dictionary value."
   ]
  },
  {
   "cell_type": "code",
   "execution_count": 103,
   "id": "de056e3a",
   "metadata": {},
   "outputs": [
    {
     "name": "stdout",
     "output_type": "stream",
     "text": [
      "{'Jessa': 70, 'Arul': 80, 'Emma': 66, 'Kelly': 68, 'Harry': 50}\n"
     ]
    }
   ],
   "source": [
    "dict1 = {'Jessa': 70, 'Arul': 80, 'Emma': 55}\n",
    "dict2 = {'Kelly': 68, 'Harry': 50, 'Emma': 66}\n",
    "\n",
    "dict1.update(dict2)\n",
    "print(dict1)"
   ]
  },
  {
   "cell_type": "markdown",
   "id": "7fb8fc4e",
   "metadata": {},
   "source": [
    "# Copying a Dictionary"
   ]
  },
  {
   "cell_type": "markdown",
   "id": "a0cd15d6",
   "metadata": {},
   "source": [
    "### There are two major ways to copy a dictionary:\n",
    "###     1) .copy() method\n",
    "###    2) dict() constructor"
   ]
  },
  {
   "cell_type": "code",
   "execution_count": 105,
   "id": "a1540118",
   "metadata": {},
   "outputs": [
    {
     "name": "stdout",
     "output_type": "stream",
     "text": [
      "{'Jessa': 70, 'Emma': 55}\n"
     ]
    }
   ],
   "source": [
    "# .copy()\n",
    "dict1 = {'Jessa': 70, 'Emma': 55}\n",
    "dict2 = dict1.copy()\n",
    "print(dict2)"
   ]
  },
  {
   "cell_type": "code",
   "execution_count": 107,
   "id": "e3714d88",
   "metadata": {},
   "outputs": [
    {
     "name": "stdout",
     "output_type": "stream",
     "text": [
      "{'Jessa': 70, 'Emma': 55}\n"
     ]
    }
   ],
   "source": [
    "# dict()\n",
    "dict1 = {'Jessa': 70, 'Emma': 55}\n",
    "dict3 = dict(dict1)\n",
    "print(dict3)"
   ]
  },
  {
   "cell_type": "code",
   "execution_count": 108,
   "id": "20b9e12f",
   "metadata": {},
   "outputs": [
    {
     "name": "stdout",
     "output_type": "stream",
     "text": [
      "{'Jessa': 70, 'Emma': 55}\n"
     ]
    }
   ],
   "source": [
    "# # Copy dictionary using the output of items() methods\n",
    "dict4 = dict(dict1.items())\n",
    "print(dict3)"
   ]
  },
  {
   "cell_type": "markdown",
   "id": "6dc51216",
   "metadata": {},
   "source": [
    "# Copy using the assignment operator(\"=\")"
   ]
  },
  {
   "cell_type": "markdown",
   "id": "836aa187",
   "metadata": {},
   "source": [
    "### This method is not advisable if the only aim is to create a copy of an existing dictionary as shanges made to the clone of the dictionary would also affect the main dictionary."
   ]
  },
  {
   "cell_type": "code",
   "execution_count": 109,
   "id": "c165acf9",
   "metadata": {},
   "outputs": [
    {
     "name": "stdout",
     "output_type": "stream",
     "text": [
      "{'Jessa': 70, 'Emma': 55}\n"
     ]
    }
   ],
   "source": [
    "dict1 = {'Jessa': 70, 'Emma': 55}\n",
    "dict1 = dict2\n",
    "print(dict2)"
   ]
  },
  {
   "cell_type": "code",
   "execution_count": 112,
   "id": "760086bd",
   "metadata": {},
   "outputs": [
    {
     "name": "stdout",
     "output_type": "stream",
     "text": [
      "{'Jessa': 90, 'Emma': 55}\n"
     ]
    }
   ],
   "source": [
    "dict2[\"Jessa\"] = 90\n",
    "print(dict1)\n",
    "# this changed the value of Jessa in dict1 from 70 to 90 also"
   ]
  },
  {
   "cell_type": "markdown",
   "id": "ee9ee79d",
   "metadata": {},
   "source": [
    "# Nested dictionary"
   ]
  },
  {
   "cell_type": "markdown",
   "id": "0d847ff5",
   "metadata": {},
   "source": [
    "### Nested dictionaries are dictionaries that have one or more dictionaries as their members. It is a collection of many dictionaries in one dictionary."
   ]
  },
  {
   "cell_type": "code",
   "execution_count": 113,
   "id": "c9f966b6",
   "metadata": {},
   "outputs": [
    {
     "name": "stdout",
     "output_type": "stream",
     "text": [
      "{'name': 'Jessa', 'company': 'Google', 'address': {'state': 'Texas', 'city': 'Houston'}}\n"
     ]
    }
   ],
   "source": [
    "address = {\"state\": \"Texas\", 'city': 'Houston'}\n",
    "\n",
    "# dictionary to store person details with address as a nested dictionary\n",
    "\n",
    "person = {'name': 'Jessa', 'company': 'Google', 'address': address}\n",
    "print(person)"
   ]
  },
  {
   "cell_type": "code",
   "execution_count": 115,
   "id": "8de4f194",
   "metadata": {},
   "outputs": [
    {
     "name": "stdout",
     "output_type": "stream",
     "text": [
      "Houston\n"
     ]
    }
   ],
   "source": [
    "#Get nested dictionary key 'city'\n",
    "print(person[\"address\"][\"city\"])"
   ]
  },
  {
   "cell_type": "code",
   "execution_count": 116,
   "id": "19b5b31d",
   "metadata": {},
   "outputs": [
    {
     "name": "stdout",
     "output_type": "stream",
     "text": [
      "Texas\n"
     ]
    }
   ],
   "source": [
    "#Get nested dictionary key 'state'\n",
    "print(person[\"address\"][\"state\"])"
   ]
  },
  {
   "cell_type": "code",
   "execution_count": 120,
   "id": "d86a71aa",
   "metadata": {},
   "outputs": [
    {
     "name": "stdout",
     "output_type": "stream",
     "text": [
      "state : Texas\n",
      "city : Houston\n"
     ]
    }
   ],
   "source": [
    "for i, j in person.items():\n",
    "    if i == \"address\":\n",
    "        for n, m in j.items():\n",
    "            print(n, \":\", m)"
   ]
  },
  {
   "cell_type": "markdown",
   "id": "8392ab39",
   "metadata": {},
   "source": [
    "# Add multiple dictionaries inside a single dictionary"
   ]
  },
  {
   "cell_type": "code",
   "execution_count": 121,
   "id": "a1396db8",
   "metadata": {},
   "outputs": [],
   "source": [
    "# each dictionary will store data of a single student\n",
    "jessa = {'name': 'Jessa', 'state': 'Texas', 'city': 'Houston', 'marks': 75}\n",
    "emma = {'name': 'Emma', 'state': 'Texas', 'city': 'Dallas', 'marks': 60}\n",
    "kelly = {'name': 'Kelly', 'state': 'Texas', 'city': 'Austin', 'marks': 85}\n"
   ]
  },
  {
   "cell_type": "code",
   "execution_count": 122,
   "id": "ed0d1217",
   "metadata": {},
   "outputs": [],
   "source": [
    "# Outer dictionary to store all student dictionaries (nested dictionaries)\n",
    "class_six = {\"student1\": jessa, \"student2\": emma, \"student3\": kelly}"
   ]
  },
  {
   "cell_type": "code",
   "execution_count": 129,
   "id": "2b2231aa",
   "metadata": {},
   "outputs": [
    {
     "name": "stdout",
     "output_type": "stream",
     "text": [
      "Kelly\n",
      "85\n"
     ]
    }
   ],
   "source": [
    "# Get student3's name and mark\n",
    "print(class_six[\"student3\"][\"name\"])\n",
    "print(class_six[\"student3\"][\"marks\"])"
   ]
  },
  {
   "cell_type": "code",
   "execution_count": 145,
   "id": "911f16c0",
   "metadata": {},
   "outputs": [
    {
     "name": "stdout",
     "output_type": "stream",
     "text": [
      "student1\n",
      "name : Jessa\n",
      "state : Texas\n",
      "city : Houston\n",
      "marks : 75\n",
      "\n",
      "\n",
      "student2\n",
      "name : Emma\n",
      "state : Texas\n",
      "city : Dallas\n",
      "marks : 60\n",
      "\n",
      "\n",
      "student3\n",
      "name : Kelly\n",
      "state : Texas\n",
      "city : Austin\n",
      "marks : 85\n",
      "\n",
      "\n"
     ]
    }
   ],
   "source": [
    "for key, value in class_six.items():\n",
    "    print(key)\n",
    "    for i, j in value.items():\n",
    "        print(i,\":\", j)\n",
    "    print('\\n')   "
   ]
  },
  {
   "cell_type": "code",
   "execution_count": 148,
   "id": "f634cd23",
   "metadata": {},
   "outputs": [],
   "source": [
    "# for i, j in class_six.items():\n",
    "#     print(i)\n",
    "#     for m, n in j.items():\n",
    "#         print(m,\":\", n)\n",
    "#     print('\\n')   "
   ]
  },
  {
   "cell_type": "markdown",
   "id": "45d7be52",
   "metadata": {},
   "source": [
    "# Sort dictionary (sorted() method)"
   ]
  },
  {
   "cell_type": "code",
   "execution_count": 162,
   "id": "71f1c2e6",
   "metadata": {},
   "outputs": [
    {
     "name": "stdout",
     "output_type": "stream",
     "text": [
      "[('a', 35), ('b', 95), ('c', 45)]\n"
     ]
    }
   ],
   "source": [
    "# to sort the whole dictionary based on its keys\n",
    "dict1 = {'c': 45, 'b': 95, 'a': 35}\n",
    "print(sorted(dict1.items()))"
   ]
  },
  {
   "cell_type": "code",
   "execution_count": 166,
   "id": "631a6d53",
   "metadata": {},
   "outputs": [
    {
     "name": "stdout",
     "output_type": "stream",
     "text": [
      "['a', 'b', 'c']\n",
      "['a', 'b', 'c']\n"
     ]
    }
   ],
   "source": [
    "# sort dictionary keys only\n",
    "print(sorted(dict1))\n",
    "#or \n",
    "print(sorted(dict1.keys()))"
   ]
  },
  {
   "cell_type": "code",
   "execution_count": 167,
   "id": "28d89525",
   "metadata": {},
   "outputs": [
    {
     "name": "stdout",
     "output_type": "stream",
     "text": [
      "[35, 45, 95]\n"
     ]
    }
   ],
   "source": [
    "# sort dictionary values\n",
    "print(sorted(dict1.values()))"
   ]
  },
  {
   "cell_type": "markdown",
   "id": "d44afe8a",
   "metadata": {},
   "source": [
    "# Dictionary comprehension"
   ]
  },
  {
   "cell_type": "code",
   "execution_count": 191,
   "id": "2c4f938b",
   "metadata": {},
   "outputs": [
    {
     "name": "stdout",
     "output_type": "stream",
     "text": [
      "[4, 64]\n"
     ]
    }
   ],
   "source": [
    "# calculate the square of each even number from a list and store in dict\n",
    "# normal way\n",
    "numbers = [1, 3, 5, 2, 8]\n",
    "dict_i = []\n",
    "for i in numbers:\n",
    "    if i%2==0:\n",
    "        cal = i**2\n",
    "        dict_i.append(cal)\n",
    "print(dict_i)"
   ]
  },
  {
   "cell_type": "code",
   "execution_count": 177,
   "id": "959dc0c4",
   "metadata": {},
   "outputs": [
    {
     "name": "stdout",
     "output_type": "stream",
     "text": [
      "{2: 4, 8: 64}\n"
     ]
    }
   ],
   "source": [
    "# dict comprehension\n",
    "even_sq = {i:i**2 for i in numbers if i%2==0}\n",
    "print(even_sq)"
   ]
  },
  {
   "cell_type": "markdown",
   "id": "5d61b115",
   "metadata": {},
   "source": [
    "# Concatinating two lists as a dictionary"
   ]
  },
  {
   "cell_type": "code",
   "execution_count": 202,
   "id": "ac99dbca",
   "metadata": {},
   "outputs": [
    {
     "name": "stdout",
     "output_type": "stream",
     "text": [
      "{'Jessa': 1178, 'Emma': 4020, 'Kelly': 5786}\n"
     ]
    }
   ],
   "source": [
    "# normal way\n",
    "telephone_book = [1178, 4020, 5786]\n",
    "persons = ['Jessa', 'Emma', 'Kelly']\n",
    "print(dict(zip(persons, telephone_book)))"
   ]
  },
  {
   "cell_type": "code",
   "execution_count": 201,
   "id": "aa1d566c",
   "metadata": {},
   "outputs": [
    {
     "data": {
      "text/plain": [
       "{'Jessa': 1178, 'Emma': 4020, 'Kelly': 5786}"
      ]
     },
     "execution_count": 201,
     "metadata": {},
     "output_type": "execute_result"
    }
   ],
   "source": [
    "# dict comprehension\n",
    "{i:j for i, j in zip(persons, telephone_book)}"
   ]
  },
  {
   "cell_type": "markdown",
   "id": "689dab5b",
   "metadata": {},
   "source": [
    "# Python Built-in functions with dictionary"
   ]
  },
  {
   "cell_type": "markdown",
   "id": "0d72bdd9",
   "metadata": {},
   "source": [
    "## max() and min()"
   ]
  },
  {
   "cell_type": "markdown",
   "id": "eee3e366",
   "metadata": {},
   "source": [
    "#### the max() and min() functions will return the keys with maximum and minimum values in a dictionary respectively.\n",
    "#### Only the keys are considered here not their corresponding values."
   ]
  },
  {
   "cell_type": "code",
   "execution_count": 203,
   "id": "d182c7a2",
   "metadata": {},
   "outputs": [
    {
     "name": "stdout",
     "output_type": "stream",
     "text": [
      "Maximum Key 3\n",
      "Minimum Key 1\n"
     ]
    }
   ],
   "source": [
    "dict = {1:'aaa',2:'bbb',3:'AAA'}\n",
    "print('Maximum Key',max(dict)) # 3\n",
    "print('Minimum Key',min(dict)) # 1"
   ]
  },
  {
   "cell_type": "code",
   "execution_count": 206,
   "id": "61022662",
   "metadata": {},
   "outputs": [
    {
     "name": "stdout",
     "output_type": "stream",
     "text": [
      "3\n"
     ]
    }
   ],
   "source": [
    "dict_1 = {1:30,2:5,3:15}\n",
    "print(max(dict_1))"
   ]
  },
  {
   "cell_type": "code",
   "execution_count": 207,
   "id": "c8c9601e",
   "metadata": {},
   "outputs": [
    {
     "name": "stdout",
     "output_type": "stream",
     "text": [
      "1\n"
     ]
    }
   ],
   "source": [
    "print(min(dict_1))"
   ]
  },
  {
   "cell_type": "code",
   "execution_count": null,
   "id": "9d450ae9",
   "metadata": {},
   "outputs": [],
   "source": []
  }
 ],
 "metadata": {
  "kernelspec": {
   "display_name": "Python 3 (ipykernel)",
   "language": "python",
   "name": "python3"
  },
  "language_info": {
   "codemirror_mode": {
    "name": "ipython",
    "version": 3
   },
   "file_extension": ".py",
   "mimetype": "text/x-python",
   "name": "python",
   "nbconvert_exporter": "python",
   "pygments_lexer": "ipython3",
   "version": "3.9.7"
  }
 },
 "nbformat": 4,
 "nbformat_minor": 5
}
